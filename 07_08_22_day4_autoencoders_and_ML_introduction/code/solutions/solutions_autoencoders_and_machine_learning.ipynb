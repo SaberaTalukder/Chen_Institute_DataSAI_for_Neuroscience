{
 "cells": [
  {
   "cell_type": "markdown",
   "id": "7b6615cf",
   "metadata": {},
   "source": [
    "# Hands On Session: Autoencoders, and Machine Learning\n",
    "# By: Sabera Talukder"
   ]
  },
  {
   "cell_type": "markdown",
   "id": "f2c246e8",
   "metadata": {},
   "source": [
    "[![Open in Colab](https://colab.research.google.com/assets/colab-badge.svg)](https://colab.research.google.com/github/SaberaTalukder/Chen_Institute_DataSAI_for_Neuroscience/blob/main/07_08_22_day4_autoencoders_and_ML_introduction/code/solutions/solutions_autoencoders_and_machine_learning.ipynb)"
   ]
  },
  {
   "cell_type": "code",
   "execution_count": 1,
   "id": "8254f95f",
   "metadata": {},
   "outputs": [],
   "source": [
    "import matplotlib.pyplot as plt\n",
    "import mne\n",
    "import numpy as np\n",
    "import xarray as xr\n",
    "\n",
    "from sklearn.decomposition import PCA"
   ]
  },
  {
   "cell_type": "markdown",
   "id": "928f7b0d",
   "metadata": {},
   "source": [
    "# Load Data"
   ]
  },
  {
   "cell_type": "markdown",
   "id": "25e62668",
   "metadata": {},
   "source": [
    "#### Download the Location Data"
   ]
  },
  {
   "cell_type": "code",
   "execution_count": 2,
   "id": "11f59fc0",
   "metadata": {},
   "outputs": [],
   "source": [
    "elec_loc_path = '/Users/Albert/Desktop/sabera_chen/Chen_Institute_DataSAI_for_Neuroscience/07_08_22_day4_autoencoders_and_ML_introduction/data/electrode_location_dictionary.npy'\n",
    "elec_loc_dict_arr = np.load(elec_loc_path, allow_pickle=True)\n",
    "elec_loc_dict = elec_loc_dict_arr.item()"
   ]
  },
  {
   "cell_type": "markdown",
   "id": "7867d7b7",
   "metadata": {},
   "source": [
    "#### Download Data for Pt2, Pt4, Pt5, Pt9 From Here: https://figshare.com/articles/dataset/Naturalistic_ECoG_move_v_rest/13010546"
   ]
  },
  {
   "cell_type": "code",
   "execution_count": 3,
   "id": "3c03b15e",
   "metadata": {},
   "outputs": [],
   "source": [
    "# Once you have downloaded the 4 datasets from above, load the data for each day\n",
    "base_path = '/Users/Albert/Desktop/sabera_chen/Chen_Institute_DataSAI_for_Neuroscience/07_08_22_day4_autoencoders_and_ML_introduction/data/'"
   ]
  },
  {
   "cell_type": "code",
   "execution_count": 5,
   "id": "666a05e2",
   "metadata": {},
   "outputs": [],
   "source": [
    "def load_data_array(base_path, filename):\n",
    "    full_data = xr.open_dataset(base_path + filename)\n",
    "    full_data_array = full_data.to_array()\n",
    "    data_array = full_data_array[0, :, :-1, :]\n",
    "    # note rest = 1, and move = 2\n",
    "    event_labels = full_data_array[0, :, -1, 0]\n",
    "    \n",
    "    return data_array, event_labels"
   ]
  },
  {
   "cell_type": "code",
   "execution_count": 6,
   "id": "3ca7d5ce",
   "metadata": {},
   "outputs": [],
   "source": [
    "pt2_data, pt2_labels = load_data_array(base_path, 'EC02_ecog_data.nc')\n",
    "pt4_data, pt4_labels = load_data_array(base_path, 'EC04_ecog_data.nc')\n",
    "pt5_data, pt5_labels = load_data_array(base_path, 'EC05_ecog_data.nc')\n",
    "pt9_data, pt9_labels = load_data_array(base_path, 'EC09_ecog_data.nc')"
   ]
  },
  {
   "cell_type": "markdown",
   "id": "c946698b",
   "metadata": {},
   "source": [
    "## Now let's do some data exploration and visualization with everything we just loaded into our notebook! 🤓"
   ]
  },
  {
   "cell_type": "markdown",
   "id": "02e9149f",
   "metadata": {},
   "source": [
    "### What are the keys in the elec_loc_dict dictionary? What do these keys represent?"
   ]
  },
  {
   "cell_type": "code",
   "execution_count": 7,
   "id": "fc099160",
   "metadata": {},
   "outputs": [],
   "source": [
    "# Enter Code Here:"
   ]
  },
  {
   "cell_type": "code",
   "execution_count": 8,
   "id": "be42e9e4",
   "metadata": {},
   "outputs": [
    {
     "data": {
      "text/plain": [
       "dict_keys(['pt2', 'pt4', 'pt5', 'pt9'])"
      ]
     },
     "execution_count": 8,
     "metadata": {},
     "output_type": "execute_result"
    }
   ],
   "source": [
    "# Solution:\n",
    "elec_loc_dict.keys()\n",
    "# The keys represent the patient number"
   ]
  },
  {
   "cell_type": "markdown",
   "id": "2c604796",
   "metadata": {},
   "source": [
    "### For each key the dictionary contains a list of length 2. What does the first element represent? What does the second element represent?\n",
    "\n",
    "#### Hint: you may have to inspect the data from all the dictionary keys to figure out what each element represents!"
   ]
  },
  {
   "cell_type": "code",
   "execution_count": 9,
   "id": "154c68f4",
   "metadata": {},
   "outputs": [],
   "source": [
    "# Enter Code Here:"
   ]
  },
  {
   "cell_type": "code",
   "execution_count": 10,
   "id": "6fd28083",
   "metadata": {},
   "outputs": [
    {
     "name": "stdout",
     "output_type": "stream",
     "text": [
      "2\n",
      "2\n",
      "2\n",
      "2\n",
      "\n",
      "R\n",
      "R\n",
      "R\n",
      "L\n",
      "\n",
      "(85, 3)\n",
      "(83, 3)\n",
      "(105, 3)\n",
      "(125, 3)\n"
     ]
    }
   ],
   "source": [
    "# Solution:\n",
    "# The following code block demonstrates that the value for each dictionary key is of length 2\n",
    "print(len(elec_loc_dict['pt2']))\n",
    "print(len(elec_loc_dict['pt4']))\n",
    "print(len(elec_loc_dict['pt5']))\n",
    "print(len(elec_loc_dict['pt9']))\n",
    "print('')\n",
    "\n",
    "# The following code block shows the first element in each list\n",
    "# Since this is neuroscience data we can intuit that R = R hemisphere, and L = L hemisphere\n",
    "print(elec_loc_dict['pt2'][0])\n",
    "print(elec_loc_dict['pt4'][0])\n",
    "print(elec_loc_dict['pt5'][0])\n",
    "print(elec_loc_dict['pt9'][0])\n",
    "print('')\n",
    "\n",
    "# The following code block shows that the second element in each list is an array of several dimensions by 3\n",
    "# This array is the electrode locations for the 4 patients that we have the 3 dimensions are x, y, z\n",
    "print(elec_loc_dict['pt2'][1].shape)\n",
    "print(elec_loc_dict['pt4'][1].shape)\n",
    "print(elec_loc_dict['pt5'][1].shape)\n",
    "print(elec_loc_dict['pt9'][1].shape)"
   ]
  },
  {
   "cell_type": "markdown",
   "id": "664aff4d",
   "metadata": {},
   "source": [
    "### Now make a scatter plot using the second element in each list. Since there are elements from 4 different lists that you're going to be plotting, give the items from each list a different color!"
   ]
  },
  {
   "cell_type": "code",
   "execution_count": 11,
   "id": "0d9e68c5",
   "metadata": {},
   "outputs": [],
   "source": [
    "# Enter Code Here:"
   ]
  },
  {
   "cell_type": "code",
   "execution_count": 12,
   "id": "52ec9aa0",
   "metadata": {},
   "outputs": [
    {
     "data": {
      "image/png": "[encoded data removed]",
      "text/plain": [
       "<Figure size 432x288 with 1 Axes>"
      ]
     },
     "metadata": {
      "needs_background": "light"
     },
     "output_type": "display_data"
    }
   ],
   "source": [
    "# Solutions:\n",
    "\n",
    "# Visualize the electrode data in 3d\n",
    "%matplotlib inline\n",
    "# %matplotlib notebook <-- uncomment this to interact with your 3D plot. Won't play nice in colab.\n",
    "\n",
    "colors = ['orange', 'green', 'purple', 'blue']\n",
    "ax = plt.axes(projection='3d')\n",
    "\n",
    "for i, (key, value) in enumerate(elec_loc_dict.items()):\n",
    "    if value[0] == 'R':\n",
    "        m = 'o'\n",
    "    elif value[0] == 'L':\n",
    "        m ='*'    \n",
    "    _ = ax.scatter3D(value[1][:, 0], value[1][:, 1], value[1][:, 2], c=colors[i], alpha=0.75, s=30, marker=m)\n",
    "    \n",
    "_ = ax.legend(['pt2', 'pt4', 'pt5', 'pt9'])"
   ]
  },
  {
   "cell_type": "markdown",
   "id": "a930a7fd",
   "metadata": {},
   "source": [
    "### Now let's explore the patient data and patient labels that we loaded into our notebooks!!\n",
    "#### What are the dimensions of the patient data and patient label arrays that we loaded into out notebook? What do these dimensions represent?"
   ]
  },
  {
   "cell_type": "code",
   "execution_count": 14,
   "id": "44bc01bf",
   "metadata": {},
   "outputs": [],
   "source": [
    "# Enter Code Here:"
   ]
  },
  {
   "cell_type": "code",
   "execution_count": 15,
   "id": "729aea4d",
   "metadata": {},
   "outputs": [
    {
     "name": "stdout",
     "output_type": "stream",
     "text": [
      "(418, 86, 1001) (418,)\n",
      "(536, 84, 1001) (536,)\n",
      "(406, 106, 1001) (406,)\n",
      "(302, 126, 1001) (302,)\n"
     ]
    }
   ],
   "source": [
    "# Solution:\n",
    "print(pt2_data.shape, pt2_labels.shape)\n",
    "print(pt4_data.shape, pt4_labels.shape)\n",
    "print(pt5_data.shape, pt5_labels.shape)\n",
    "print(pt9_data.shape, pt9_labels.shape)\n",
    "# These data dimensions represent time series instance, electrode number, and time steps\n",
    "# the label dimensions represent the label for each time series instance"
   ]
  },
  {
   "cell_type": "markdown",
   "id": "1d9a4ab7",
   "metadata": {},
   "source": [
    "### Plot a histogram of each patient's labels.\n",
    "#### Are these labels consistent across patients? Do we need to do class rebalancing or are our classes equal?"
   ]
  },
  {
   "cell_type": "code",
   "execution_count": null,
   "id": "c003cfa5",
   "metadata": {},
   "outputs": [],
   "source": [
    "# Enter Code Here"
   ]
  },
  {
   "cell_type": "code",
   "execution_count": 18,
   "id": "b6cae648",
   "metadata": {},
   "outputs": [
    {
     "data": {
      "image/png": "[encoded data removed]",
      "text/plain": [
       "<Figure size 432x288 with 1 Axes>"
      ]
     },
     "metadata": {
      "needs_background": "light"
     },
     "output_type": "display_data"
    }
   ],
   "source": [
    "# Solution:\n",
    "%matplotlib inline\n",
    "\n",
    "offset = 0.1\n",
    "_ = plt.hist(pt2_labels, color=colors[0])\n",
    "_ = plt.hist(pt4_labels + 1*offset, color=colors[1])\n",
    "_ = plt.hist(pt5_labels + 2*offset, color=colors[2])\n",
    "_ = plt.hist(pt9_labels + 3*offset, color=colors[3])\n",
    "_ = plt.legend(['pt2', 'pt4', 'pt5', 'pt9'])\n",
    "_ = plt.show()"
   ]
  },
  {
   "cell_type": "code",
   "execution_count": null,
   "id": "0e224c34",
   "metadata": {},
   "outputs": [],
   "source": []
  },
  {
   "cell_type": "code",
   "execution_count": null,
   "id": "d53cecd5",
   "metadata": {},
   "outputs": [],
   "source": []
  },
  {
   "cell_type": "markdown",
   "id": "e16c186c",
   "metadata": {},
   "source": [
    "#### Download Data for Pt2, Pt4, Pt5, Pt9 From Here:\n",
    "#### https://figshare.com/articles/dataset/Naturalistic_ECoG_move_v_rest/13010546"
   ]
  },
  {
   "cell_type": "code",
   "execution_count": null,
   "id": "f1107f44",
   "metadata": {},
   "outputs": [],
   "source": [
    "# Once you have downloaded the 4 datasets from above, load the data for each day\n",
    "base_path = '/Users/Albert/Desktop/sabera_chen/Chen_Institute_DataSAI_for_Neuroscience/07_08_22_day4_autoencoders_and_ML_introduction/data/'"
   ]
  },
  {
   "cell_type": "code",
   "execution_count": null,
   "id": "92b28ded",
   "metadata": {},
   "outputs": [],
   "source": [
    "def load_data_array(base_path, filename):\n",
    "    full_data = xr.open_dataset(base_path + filename)\n",
    "    full_data_array = full_data.to_array()\n",
    "    data_array = full_data_array[0, :, :-1, :]\n",
    "    # note rest = 1, and move = 2\n",
    "    event_labels = full_data_array[0, :, -1, 0]\n",
    "    \n",
    "    return data_array, event_labels"
   ]
  },
  {
   "cell_type": "code",
   "execution_count": null,
   "id": "62e22b96",
   "metadata": {},
   "outputs": [],
   "source": [
    "pt2_data, pt2_labels = load_data_array(base_path, 'EC02_ecog_data.nc')\n",
    "pt4_data, pt4_labels = load_data_array(base_path, 'EC04_ecog_data.nc')\n",
    "pt5_data, pt5_labels = load_data_array(base_path, 'EC05_ecog_data.nc')\n",
    "pt9_data, pt9_labels = load_data_array(base_path, 'EC09_ecog_data.nc')"
   ]
  },
  {
   "cell_type": "code",
   "execution_count": null,
   "id": "f3132890",
   "metadata": {},
   "outputs": [],
   "source": []
  },
  {
   "cell_type": "markdown",
   "id": "c93de004",
   "metadata": {},
   "source": [
    "# Visualize Data"
   ]
  },
  {
   "cell_type": "code",
   "execution_count": null,
   "id": "0d9eca81",
   "metadata": {},
   "outputs": [],
   "source": []
  },
  {
   "cell_type": "code",
   "execution_count": null,
   "id": "ba9f10f5",
   "metadata": {},
   "outputs": [],
   "source": []
  },
  {
   "cell_type": "code",
   "execution_count": null,
   "id": "af11b6ef",
   "metadata": {},
   "outputs": [],
   "source": []
  },
  {
   "cell_type": "code",
   "execution_count": null,
   "id": "d113692a",
   "metadata": {},
   "outputs": [],
   "source": [
    "def separate_data_by_labels(data, labels):\n",
    "    ones = []\n",
    "    twos = []\n",
    "    \n",
    "    for idx, l in enumerate(labels):\n",
    "        if l == 1:\n",
    "            ones.append(data[i, :, :])\n",
    "        elif l == 2:\n",
    "            twos.append(data[i, :, :])\n",
    "            \n",
    "    return np.array(ones), np.array(twos)"
   ]
  },
  {
   "cell_type": "code",
   "execution_count": null,
   "id": "b1ac8536",
   "metadata": {},
   "outputs": [],
   "source": [
    "pt2_ones, pt2_twos = separate_data_by_labels(pt2_data, pt2_labels)"
   ]
  },
  {
   "cell_type": "code",
   "execution_count": null,
   "id": "2b46ff47",
   "metadata": {},
   "outputs": [],
   "source": [
    "print(pt2_ones.shape, pt2_twos.shape)"
   ]
  },
  {
   "cell_type": "code",
   "execution_count": null,
   "id": "0ad9aa1a",
   "metadata": {},
   "outputs": [],
   "source": [
    "_ = plt.imshow(np.mean(pt2_ones, axis=0), aspect='auto')\n",
    "_ = plt.show()\n",
    "\n",
    "_ = plt.imshow(np.mean(pt2_twos, axis=0), aspect='auto')"
   ]
  },
  {
   "cell_type": "code",
   "execution_count": null,
   "id": "a0a9c737",
   "metadata": {},
   "outputs": [],
   "source": [
    "# we can also show how do we share the same representation since all patients have different numbers of electrodes"
   ]
  },
  {
   "cell_type": "code",
   "execution_count": null,
   "id": "52ab9856",
   "metadata": {},
   "outputs": [],
   "source": [
    "pt2_ones_flat = pt2_ones.reshape(209, -1)\n",
    "pt2_twos_flat = pt2_twos.reshape(209, -1)\n",
    "\n",
    "pt2_all_flat = np.vstack((pt2_ones_flat, pt2_twos_flat))"
   ]
  },
  {
   "cell_type": "code",
   "execution_count": null,
   "id": "dca5dc4a",
   "metadata": {},
   "outputs": [],
   "source": [
    "pt2_all_flat.shape"
   ]
  },
  {
   "cell_type": "code",
   "execution_count": null,
   "id": "b2f2d1e0",
   "metadata": {},
   "outputs": [],
   "source": [
    "# make a PCA model with with S = 3\n",
    "pca_model_s_3 = PCA(n_components=3)\n",
    "\n",
    "# STOP & Check Yourself: Do you know why we can just call \"PCA\"?\n",
    "\n",
    "# with the PCA model instance we created to our neural data\n",
    "neural_pca_s_3 = pca_model_s_3.fit_transform(pt2_all_flat)"
   ]
  },
  {
   "cell_type": "code",
   "execution_count": null,
   "id": "69370099",
   "metadata": {},
   "outputs": [],
   "source": [
    "neural_pca_s_3.shape"
   ]
  },
  {
   "cell_type": "code",
   "execution_count": null,
   "id": "33a9be42",
   "metadata": {},
   "outputs": [],
   "source": [
    "neural_pca_s_3"
   ]
  },
  {
   "cell_type": "code",
   "execution_count": null,
   "id": "1382aa4f",
   "metadata": {},
   "outputs": [],
   "source": [
    "%matplotlib notebook \n",
    "fig = plt.figure()\n",
    "ax = plt.axes(projection='3d')\n",
    "\n",
    "# Enter code here:\n",
    "pc1 = neural_pca_s_3[0:209, 0]\n",
    "pc2 = neural_pca_s_3[0:209, 1]\n",
    "pc3 = neural_pca_s_3[0:209, 2]\n",
    "\n",
    "ax.scatter3D(pc1, pc2, pc3)\n",
    "\n",
    "_ = ax.set_xlabel('pc1')\n",
    "_ = ax.set_ylabel('pc2')\n",
    "_ = ax.set_zlabel('pc3')"
   ]
  },
  {
   "cell_type": "code",
   "execution_count": null,
   "id": "d0722f7d",
   "metadata": {},
   "outputs": [],
   "source": []
  },
  {
   "cell_type": "markdown",
   "id": "f6d61fd0",
   "metadata": {},
   "source": [
    "# Implement autoencoder using data from all 4 patients"
   ]
  },
  {
   "cell_type": "code",
   "execution_count": null,
   "id": "30983ceb",
   "metadata": {},
   "outputs": [],
   "source": []
  }
 ],
 "metadata": {
  "kernelspec": {
   "display_name": "Python 3 (ipykernel)",
   "language": "python",
   "name": "python3"
  },
  "language_info": {
   "codemirror_mode": {
    "name": "ipython",
    "version": 3
   },
   "file_extension": ".py",
   "mimetype": "text/x-python",
   "name": "python",
   "nbconvert_exporter": "python",
   "pygments_lexer": "ipython3",
   "version": "3.10.4"
  }
 },
 "nbformat": 4,
 "nbformat_minor": 5
}
