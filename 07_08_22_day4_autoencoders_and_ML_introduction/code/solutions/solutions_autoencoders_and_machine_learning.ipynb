{
 "cells": [
  {
   "cell_type": "markdown",
   "id": "7b6615cf",
   "metadata": {},
   "source": [
    "# Hands On Session: Autoencoders, and Machine Learning\n",
    "# By: Sabera Talukder"
   ]
  },
  {
   "cell_type": "code",
   "execution_count": 1,
   "id": "8254f95f",
   "metadata": {},
   "outputs": [],
   "source": [
    "import matplotlib.pyplot as plt\n",
    "import numpy as np"
   ]
  },
  {
   "cell_type": "code",
   "execution_count": null,
   "id": "35c6ac68",
   "metadata": {},
   "outputs": [],
   "source": []
  }
 ],
 "metadata": {
  "kernelspec": {
   "display_name": "Python 3 (ipykernel)",
   "language": "python",
   "name": "python3"
  },
  "language_info": {
   "codemirror_mode": {
    "name": "ipython",
    "version": 3
   },
   "file_extension": ".py",
   "mimetype": "text/x-python",
   "name": "python",
   "nbconvert_exporter": "python",
   "pygments_lexer": "ipython3",
   "version": "3.7.13"
  }
 },
 "nbformat": 4,
 "nbformat_minor": 5
}
