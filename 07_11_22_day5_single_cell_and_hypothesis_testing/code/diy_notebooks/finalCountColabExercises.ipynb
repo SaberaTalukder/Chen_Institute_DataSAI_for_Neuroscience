{
  "nbformat": 4,
  "nbformat_minor": 0,
  "metadata": {
    "colab": {
      "name": "finalCountColabExercises.ipynb",
      "provenance": [],
      "collapsed_sections": [],
      "include_colab_link": true
    },
    "kernelspec": {
      "name": "python3",
      "display_name": "Python 3"
    },
    "language_info": {
      "name": "python"
    }
  },
  "cells": [
    {
      "cell_type": "markdown",
      "metadata": {
        "id": "view-in-github",
        "colab_type": "text"
      },
      "source": [
        "<a href=\"https://colab.research.google.com/github/SaberaTalukder/Chen_Institute_DataSAI_for_Neuroscience/blob/main/07_11_22_day5_single_cell_and_hypothesis_testing/code/diy_notebooks/finalCountColabExercises.ipynb\" target=\"_parent\"><img src=\"https://colab.research.google.com/assets/colab-badge.svg\" alt=\"Open In Colab\"/></a>"
      ]
    },
    {
      "cell_type": "markdown",
      "source": [
        "**Modeling and Variance Stabilization of Count Data**\n",
        "\n",
        "For this problem you will be exploring various models which can be used to describe count data i.e. the gene-count matrices we use in single-cell and investigate the impact of common normalization and variance stabilization practices on the features of those counts.\n",
        "\n",
        "Single-cell gene counts, which describe stochastically sampled, discrete measurements of counts (or UMIs, Unique Molecular Identifiers), are often modeled as being generated from a negative binomial (or Gamma-Poisson) distribution rather than from the simpler, Poisson distribution.\n",
        "\n",
        "You will explore how these assumptions and models fit to real datasets."
      ],
      "metadata": {
        "id": "VthQpDn4tt96"
      }
    },
    {
      "cell_type": "code",
      "metadata": {
        "id": "_tty4AYi77ys"
      },
      "source": [
        "#To run a code cell, select the cell and hit Command/Ctrl+Enter or click the run/play symbol\n",
        "#Click Insert --> Code Cell or the '+ Code' option to insert a new code cell"
      ],
      "execution_count": null,
      "outputs": []
    },
    {
      "cell_type": "code",
      "metadata": {
        "id": "BAjFr_0y8Sxb"
      },
      "source": [
        "#Click Insert --> Text Cell or the '+ Text' option to insert a cell for text as below"
      ],
      "execution_count": null,
      "outputs": []
    },
    {
      "cell_type": "code",
      "source": [
        "# This is  used to time the running of the notebook\n",
        "import time\n",
        "start_time = time.time()"
      ],
      "metadata": {
        "id": "Nj7fi7kx05Mu"
      },
      "execution_count": null,
      "outputs": []
    },
    {
      "cell_type": "markdown",
      "metadata": {
        "id": "MozW3XxY8ezr"
      },
      "source": [
        "Text here for descriptions, explanations, etc"
      ]
    },
    {
      "cell_type": "code",
      "source": [
        ""
      ],
      "metadata": {
        "id": "qtWUtrIhFfjo"
      },
      "execution_count": null,
      "outputs": []
    },
    {
      "cell_type": "markdown",
      "metadata": {
        "id": "5oPRpu328neb"
      },
      "source": [
        "##**Import data and install packages**"
      ]
    },
    {
      "cell_type": "code",
      "source": [
        "!pip --quiet install anndata"
      ],
      "metadata": {
        "id": "VFXhrQPZ1DxC"
      },
      "execution_count": null,
      "outputs": []
    },
    {
      "cell_type": "code",
      "metadata": {
        "id": "vYTZEjs9AqwV"
      },
      "source": [
        "import numpy as np\n",
        "import scipy.io as sio\n",
        "import pandas as pd\n",
        "import matplotlib.pyplot as plt #Can use other plotting packages like seaborn\n",
        "\n",
        "import anndata\n",
        "\n",
        "from scipy import optimize\n",
        "from scipy.special import gammaln\n",
        "from scipy.special import psi\n",
        "from scipy.special import factorial\n",
        "from scipy.optimize import fmin_l_bfgs_b as optim"
      ],
      "execution_count": null,
      "outputs": []
    },
    {
      "cell_type": "code",
      "metadata": {
        "id": "kNFuUFJ78cN5"
      },
      "source": [
        "# ! allows you to run commands in the command line, as you would in your normal terminal/command line interface"
      ],
      "execution_count": null,
      "outputs": []
    },
    {
      "cell_type": "code",
      "source": [
        ""
      ],
      "metadata": {
        "id": "IP41916wpRWs"
      },
      "execution_count": null,
      "outputs": []
    },
    {
      "cell_type": "code",
      "metadata": {
        "id": "yH-EpSmB9Y_x"
      },
      "source": [
        "# Download MoP BICCN data from Caltech Data \n",
        "\n",
        "!wget --content-disposition https://data.caltech.edu/tindfiles/serve/b75ba34a-46ed-458e-8c1f-4e805cf4871a/"
      ],
      "execution_count": null,
      "outputs": []
    },
    {
      "cell_type": "code",
      "source": [
        "!tar -xf *.gz"
      ],
      "metadata": {
        "id": "fmMctihjpGnF"
      },
      "execution_count": null,
      "outputs": []
    },
    {
      "cell_type": "markdown",
      "source": [
        "Use the function below for fitting negative binomial distributions. \n"
      ],
      "metadata": {
        "id": "nbz7Qx0Rmk2z"
      }
    },
    {
      "cell_type": "code",
      "metadata": {
        "id": "xrGNmEHwAKAF"
      },
      "source": [
        "# X = numpy array of the data (e.g. 1D array with all the counts for one gene)\n",
        "# initial params is a numpy array representing the initial values of\n",
        "# size and prob parameters\n",
        "# Returns: Dict with 'r' and 'p' fits\n",
        "def fit_nbinom(X, initial_params=None):\n",
        "    ''' This code is adapted from https://github.com/gokceneraslan/fit_nbinom\n",
        "    '''\n",
        "    infinitesimal = np.finfo(float).eps\n",
        "\n",
        "    #Calculate and return negative log likelihood for NB\n",
        "    def log_likelihood(params, *args):\n",
        "        r, p = params\n",
        "        X = args[0]\n",
        "        N = X.size\n",
        "\n",
        "        # MLE estimate based on the formula on Wikipedia:\n",
        "        # http://en.wikipedia.org/wiki/Negative_binomial_distribution#Maximum_likelihood_estimation\n",
        "        result = np.sum(gammaln(X + r)) \\\n",
        "            - np.sum(np.log(factorial(X))) \\\n",
        "            - N * (gammaln(r)) \\\n",
        "            + N * r * np.log(p) \\\n",
        "            + np.sum(X * np.log(1 - (p if p < 1 else 1 - infinitesimal)))\n",
        "\n",
        "        return -result\n",
        "\n",
        "    if initial_params is None:\n",
        "        # reasonable initial values (from fitdistr function in R)\n",
        "        m = np.mean(X)\n",
        "        v = np.var(X)\n",
        "        size = (m ** 2) / (v-m) if v > m else 10\n",
        "\n",
        "        # convert mu/size parameterization to prob/size\n",
        "        p0 = size / ((size + m) if size + m != 0 else 1)\n",
        "        r0 = size\n",
        "        initial_params = np.array([r0, p0])\n",
        "\n",
        "    bounds = [(infinitesimal, None), (infinitesimal, 1)]\n",
        "    optimres = optim(log_likelihood,\n",
        "                     x0=initial_params,\n",
        "                     args=(X,),\n",
        "                     approx_grad=1,\n",
        "                     bounds=bounds)\n",
        "\n",
        "    params = optimres[0]\n",
        "    return {'r': params[0], 'p': params[1]}"
      ],
      "execution_count": null,
      "outputs": []
    },
    {
      "cell_type": "markdown",
      "metadata": {
        "id": "PPv4FIlm8rtQ"
      },
      "source": [
        "## **Reading in the Data**"
      ]
    },
    {
      "cell_type": "markdown",
      "metadata": {
        "id": "bldcPDtroHZ_"
      },
      "source": [
        "**The dataset**\n",
        "\n",
        "We will be working with 10x Genomics sequencing data from the mouse primary cortex, produced by the BRAIN Initiative Cell Census Network (BICCN) [(Yao et al. 2021)](https://www.nature.com/articles/s41586-021-03500-8). They assayed 94,162 cells by 10x sequencing (as well as SMART-seq), though we will work with only a subsetted sample today.  The cell type labels include GABAergic and Glutamatergic cells as well as Non-Neuronal cells, and were sampled from both sexes.\n",
        "\n",
        "<center><img src=\"https://drive.google.com/uc?export=view&id=1TKA0m3BEox8aBpoSNFMnIb3yftCfWyM4\" alt=\"EMFigure\" width=\"350\" height=\"350\"><center>\n"
      ]
    },
    {
      "cell_type": "markdown",
      "metadata": {
        "id": "2qq9TO5V97Vr"
      },
      "source": [
        "**The Count matrix**\n",
        "\n",
        "Count matrix has 7,897 cells with counts for 2000 genes. Though greater numbers of genes were measured, the dataset is subsetted to 2000 genes for ease of analysis. For this exercise we are not using data from both male and female mice (only female mice).\n",
        "\n",
        "The 2000 genes were selected by filtering for genes expressed in greater than 1% of cells, and subsetting to 2000 of those genes.\n",
        "\n",
        "\n",
        " \n"
      ]
    },
    {
      "cell_type": "code",
      "metadata": {
        "id": "tZ1h_dME8vJb"
      },
      "source": [
        "#Get gene count matrix\n",
        "import scipy.io as sio\n",
        "\n",
        "X = sio.mmread('mop_count_mat.mtx')\n",
        "\n",
        "X.shape"
      ],
      "execution_count": null,
      "outputs": []
    },
    {
      "cell_type": "markdown",
      "metadata": {
        "id": "gPKnb4VNEJE9"
      },
      "source": [
        "## **Assessing Count Distribution Fits to Data** \n",
        "\n",
        "The Poisson distribution expresses the probability of some $x$ number of events occurring in a fixed interval of time/space, with these events occuring at a known constant mean rate $\\lambda$ (and independently of time since the last event).\n",
        "\n",
        "The Poisson model is\n",
        "\\begin{align}\n",
        "f(x; \\lambda)= \\Pr(X{=}x)= \\frac{\\lambda^x e^{-\\lambda}}{x!}.\n",
        "\\end{align}"
      ]
    },
    {
      "cell_type": "markdown",
      "source": [
        "The negative binomial (NB) distribution describes the probability of seeing $x$ failures until some $r$ successes have occurred, with $p$ denoting the probability of success. 'Successes' can be thought of read counts here i.e the event that a read is a count for a given gene.\n",
        "\n",
        "The NB model ($\\text{NB}\n",
        "(r,p)$) is\n",
        "\\begin{align}\n",
        "f(x;r,p)\\equiv \\Pr(X=x)={\\binom {x+r-1}{r-1}}(1-p)^{x}p^{r}\n",
        "\\end{align}\n",
        "\n",
        "The Poisson distribution can be written as special case of the NB where $ \\operatorname {Poisson} (\\lambda )=\\lim _{r\\to \\infty }\\operatorname {NB} \\left(r,{\\frac {\\lambda }{r+\\lambda }}\\right)$, with $p ={\\frac {\\lambda }{r+\\lambda }}$.\n"
      ],
      "metadata": {
        "id": "vpkRGRf1WRzx"
      }
    },
    {
      "cell_type": "markdown",
      "source": [
        "Note: We can also denote $r,p$ as $\\mu,\\phi$ where $\\mu$ represent the mean and $\\phi$ represents the dispersion parameter. Here $p = \\dfrac{r}{r + \\mu}$ and $r = \\dfrac{1}{\\phi}$.\n",
        "This convention is also common in the single-cell literature."
      ],
      "metadata": {
        "id": "Gj9moHV9WR3f"
      }
    },
    {
      "cell_type": "markdown",
      "source": [
        "### **a) Plot mean versus variance of expression for all genes (across all cells) and comment on what trends you notice between the two (e.g. overdispersion etc).**\n",
        "You may want to use a log-log scale for plotting (e.g. plt.loglog())"
      ],
      "metadata": {
        "id": "wwu93eEd8ZhZ"
      }
    },
    {
      "cell_type": "code",
      "source": [
        ""
      ],
      "metadata": {
        "id": "QlxWeEZg8aQX"
      },
      "execution_count": null,
      "outputs": []
    },
    {
      "cell_type": "code",
      "source": [
        ""
      ],
      "metadata": {
        "id": "GUQeR6hh8aSk"
      },
      "execution_count": null,
      "outputs": []
    },
    {
      "cell_type": "markdown",
      "source": [
        "### **b) Fit Poisson and NB models for the first 10 genes.**\n",
        "\n",
        "Fit and save the parameters for these two models for the first 10 genes $g$.\n",
        "\n",
        "For the Poisson models we can use the MLE estimate for $\\lambda$ which is $\\dfrac{1}{n}\\sum_{i=1}^n x_{i,g}$.\n",
        "\n",
        "For the NB $r \\text{ and } p$ cannot (concurrently) be derived analytically. You can use the **fit_nbinom(X)** function defined above to obtain $r \\text{ and } p$ fits for each gene.\n",
        "\n",
        "**Report the parameter fits for the first 10 genes.**"
      ],
      "metadata": {
        "id": "vCOnx5fu8ZnW"
      }
    },
    {
      "cell_type": "code",
      "source": [
        ""
      ],
      "metadata": {
        "id": "RMgtJ9Lz8atZ"
      },
      "execution_count": null,
      "outputs": []
    },
    {
      "cell_type": "code",
      "source": [
        ""
      ],
      "metadata": {
        "id": "qeWIc6uQ8awK"
      },
      "execution_count": null,
      "outputs": []
    },
    {
      "cell_type": "markdown",
      "source": [
        "### **c) Perform a likelihood ratio test, and calculate the resulting p-value, between these two models (for a single gene at index=5), and comment on the implications of these outputs.**\n",
        "\n",
        "We will be testing whether the added parameters of the NB improve the fit of the model to the data versus the Poisson model (which is a nested version of the NB), or not (if both models are equal). Thus the test is  \n",
        "\\begin{align}\n",
        "H_0 : r = ∞ \\\\\n",
        "H_1: r < ∞.\n",
        "\\end{align}\n",
        "\n",
        "For some gene $g$ we can calculate the log-likelihood for both models given parameter fits, and take the ratio of those likelihoods (which is the difference between the log-likelihoods).\n",
        "\n",
        "\n"
      ],
      "metadata": {
        "id": "N8T-gW8E8Zsn"
      }
    },
    {
      "cell_type": "markdown",
      "source": [
        "$-2log(\\dfrac{L_{H_0}}{L_{H_1}}) = -2log(\\dfrac{L_{Poisson}}{L_{NB}})$ asymptotically approaches the chi-squared $χ^2$ distribution under the null hypothesis (in this case for a degree of freedom (df) of 1, the difference in the dfs of the models). Thus the cdf of the $χ^2$ distribution can be used to calculate a p-value given $-2 *$ likelihood ratio (using [stats.chi2.cdf](https://docs.scipy.org/doc/scipy/reference/generated/scipy.stats.chi2.html)). "
      ],
      "metadata": {
        "id": "ZsghHZExaVF_"
      }
    },
    {
      "cell_type": "markdown",
      "source": [
        "For the NB model the likelihood (for gene $g$) is:\n",
        "\\begin{align}\n",
        "L^{(g)}(r,p)=\\prod _{i=1}^{N}f(x_{i,g};r,p)\n",
        "\\end{align}\n",
        "\n",
        "And the log-likelihood:\n",
        "\\begin{align}\n",
        "\\ell^{(g)} (r,p)=\\sum _{i=1}^{N}\\ln(\\Gamma (x_{i,g}+r))-\\sum _{i=1}^{N}\\ln(x_{i,g}!)-N\\ln(\\Gamma (r))+\\sum _{i=1}^{N}x_{i,g}\\ln(1-p)+Nr\\ln(p).\n",
        "\\end{align} where $ln(\\Gamma)$ can be calculated with [gammaln](https://docs.scipy.org/doc/scipy/reference/generated/scipy.special.gammaln.html).\n"
      ],
      "metadata": {
        "id": "qf4WzVTpRVZk"
      }
    },
    {
      "cell_type": "markdown",
      "source": [
        "For the Poisson model the likelihood (for gene $g$) is:\n",
        "\\begin{align}\n",
        "L^{(g)}(\\lambda ) =\\prod _{i=1}^{n}f(x_{i,g}\\mid \\lambda ).\n",
        "\\end{align}\n",
        "\n",
        "And the log-likelihood:\n",
        "\\begin{align}\n",
        "\\ell^{(g)} (\\lambda )= -n\\lambda +\\left(\\sum _{i=1}^{n}x_{i,g}\\right)\\ln(\\lambda )-\\sum _{i=1}^{n}\\ln(x_{i,g}!).\n",
        "\\end{align}\n"
      ],
      "metadata": {
        "id": "qLaTnfssRVeA"
      }
    },
    {
      "cell_type": "markdown",
      "source": [
        "**Explicitly calculate and report the log-likelihood ratio for the gene at the 5th position only (the 6th gene since python is zero-indexed). Additionally report the p-value for this ratio (using the chi-squared cdf) and comment on what this value means in terms of the null and the alternative hypothesis.**\n",
        "\n",
        "You can also use the code for the negative binomial likelihood formula already given in the fit_nbinom function."
      ],
      "metadata": {
        "id": "nOnOivN2o4nZ"
      }
    },
    {
      "cell_type": "code",
      "source": [
        "from scipy.stats import chi2\n"
      ],
      "metadata": {
        "id": "JhjlP4dJ8bRQ"
      },
      "execution_count": null,
      "outputs": []
    },
    {
      "cell_type": "code",
      "source": [
        ""
      ],
      "metadata": {
        "id": "F8EoAcks8bTw"
      },
      "execution_count": null,
      "outputs": []
    },
    {
      "cell_type": "code",
      "source": [
        ""
      ],
      "metadata": {
        "id": "SIqQ7iSJNNFI"
      },
      "execution_count": null,
      "outputs": []
    },
    {
      "cell_type": "markdown",
      "metadata": {
        "id": "u2DFUfz9OGGd"
      },
      "source": [
        "## **Variance Stabilization and Normalization of Counts**"
      ]
    },
    {
      "cell_type": "markdown",
      "metadata": {
        "id": "8hpGQY0VCgHX"
      },
      "source": [
        "For our purposes, we will use the $\\mu,\\phi$ parametrization of the negative binomial (NB) for this problem. Here $\\phi$ is the dispersion and $\\mu$ is the mean. \n",
        "\n",
        "In this configuration, $\\operatorname {var}(X) = \\mu + \\phi\\mu^2$ (unlike the Poisson where $\\operatorname{var}(X) = \\mu$). $x_i$ represents expression of gene $i$.\n",
        "\n",
        "\n",
        "As described in the assignment, we can find a variance-stabilizing transform, where given\n",
        "\\begin{align}\n",
        "\\operatorname {var} (X)=h(\\mu ),\\,\n",
        "\\end{align}\n",
        "a suitable transform would be\n",
        "\\begin{align}\n",
        " y\\propto \\int ^{x}{\\frac {1}{\\sqrt {h(\\mu )}}}\\,d\\mu \n",
        "\\end{align}\n",
        "to result in a constant (mean-independent) variance.\n",
        "\n",
        "This is useful when performing various analyses, such as linear regression, which assume homoscedascity (i.e. all genes/features have the same variance).\n"
      ]
    },
    {
      "cell_type": "markdown",
      "metadata": {
        "id": "Qv_ZpCiME4VA"
      },
      "source": [
        "### **e) Run the log1p, Pearson residual, and $\\mathbf{\\text{sinh}^{-1}}$ variance stabilization transforms on the full dataset. We will use a $\\phi=0.01$**\n",
        "\n",
        "Below you will test out the effect of common variance-stabilization procedures.\n",
        "\n",
        "[In 1948](https://academic.oup.com/biomet/article-abstract/35/3-4/246/280278?redirectedFrom=fulltext), Frank Anscombe developed several transformations for the Poisson and NB distributions including\n",
        "\n",
        "\\begin{align}\n",
        "y \\propto \\dfrac{\\text{sinh}^{-1}(\\sqrt{\\phi x_i})}{\\sqrt{\\phi}} \\mathbf{\\tag{1}}\n",
        "\\end{align}and\n",
        "\\begin{align}\n",
        "y \\propto \\text{log}(x_i+\\dfrac{1}{2\\phi}) \\tag{2}\n",
        "\\end{align} (similar to the log1p we've seen before) which can approximate the $\\text{sinh}^{-1}$ solution.\n",
        "\n",
        "The log1p approximation is then\n",
        "\\begin{align}\n",
        "y \\propto \\text{log}(x_i+1) \\mathbf{\\tag{3}}\n",
        "\\end{align} \n",
        "\n"
      ]
    },
    {
      "cell_type": "markdown",
      "metadata": {
        "id": "dL_lqc8rH19t"
      },
      "source": [
        "Another common method is to use Pearson residuals, shown below:\n",
        "\n",
        "\\begin{align}\n",
        "y \\propto \\dfrac{x_i − \\mu_i}{\\sqrt{\\mu_i + \\phi \\mu_i^2}}. \\mathbf{\\tag{4}}\n",
        "\\end{align}\n",
        "\n",
        "Again $x_i$ represents expression of gene $i$.\n",
        "\n",
        "**After running each transformation, print *only* the transformed values for the first gene, for the first 10 cells, under each transform (1,3 and 4).**"
      ]
    },
    {
      "cell_type": "code",
      "execution_count": null,
      "metadata": {
        "id": "-nNESXe_AvE_"
      },
      "outputs": [],
      "source": [
        ""
      ]
    },
    {
      "cell_type": "code",
      "execution_count": null,
      "metadata": {
        "id": "0ZFuTVjoAvIg"
      },
      "outputs": [],
      "source": [
        ""
      ]
    },
    {
      "cell_type": "code",
      "execution_count": null,
      "metadata": {
        "id": "WuIbJF9oj62t"
      },
      "outputs": [],
      "source": [
        ""
      ]
    },
    {
      "cell_type": "code",
      "execution_count": null,
      "metadata": {
        "id": "AJtzWaDCkWN9"
      },
      "outputs": [],
      "source": [
        ""
      ]
    },
    {
      "cell_type": "markdown",
      "metadata": {
        "id": "gVAauh99FnUG"
      },
      "source": [
        "### **f) For each of the three transformation methods, make a single plot of the variance ($\\sigma^2$) versus the mean ($\\mu$) for all genes, and comment on the trends you notice (particularly compared to a).**"
      ]
    },
    {
      "cell_type": "code",
      "execution_count": null,
      "metadata": {
        "id": "ESLQ2iOAFvV7"
      },
      "outputs": [],
      "source": [
        ""
      ]
    },
    {
      "cell_type": "code",
      "execution_count": null,
      "metadata": {
        "id": "eKCdcClrFvZF"
      },
      "outputs": [],
      "source": [
        ""
      ]
    },
    {
      "cell_type": "code",
      "source": [
        ""
      ],
      "metadata": {
        "id": "H8KrXgyqPZ8k"
      },
      "execution_count": null,
      "outputs": []
    }
  ]
}