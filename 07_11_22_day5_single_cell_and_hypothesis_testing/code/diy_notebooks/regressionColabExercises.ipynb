{
  "cells": [
    {
      "cell_type": "markdown",
      "metadata": {
        "id": "view-in-github",
        "colab_type": "text"
      },
      "source": [
        "<a href=\"https://colab.research.google.com/github/SaberaTalukder/Chen_Institute_DataSAI_for_Neuroscience/blob/main/07_11_22_day5_single_cell_and_hypothesis_testing/code/diy_notebooks/regressionColabExercises.ipynb\" target=\"_parent\"><img src=\"https://colab.research.google.com/assets/colab-badge.svg\" alt=\"Open In Colab\"/></a>"
      ]
    },
    {
      "cell_type": "markdown",
      "metadata": {
        "id": "MozW3XxY8ezr"
      },
      "source": [
        "**Regression Modeling for Single-cell Data**\n",
        "\n",
        "For this set of exercises we will be applying linear and logistic regression techniques to model and predict features of interest across cells, assess the assumptions of these methods, and to implement a partial correlation analysis."
      ]
    },
    {
      "cell_type": "code",
      "metadata": {
        "id": "_tty4AYi77ys"
      },
      "source": [
        "#To run a code cell, select the cell and hit Command/Ctrl+Enter or click the run/play symbol\n",
        "#Click Insert --> Code Cell or the '+ Code' option to insert a new code cell"
      ],
      "execution_count": null,
      "outputs": []
    },
    {
      "cell_type": "code",
      "metadata": {
        "id": "BAjFr_0y8Sxb"
      },
      "source": [
        "#Click Insert --> Text Cell or the '+ Text' option to insert a cell for text as below"
      ],
      "execution_count": null,
      "outputs": []
    },
    {
      "cell_type": "code",
      "source": [
        "# This is  used to time the running of the notebook\n",
        "import time\n",
        "start_time = time.time()"
      ],
      "metadata": {
        "id": "Nj7fi7kx05Mu"
      },
      "execution_count": null,
      "outputs": []
    },
    {
      "cell_type": "markdown",
      "metadata": {
        "id": "fk0Xsqkn4k32"
      },
      "source": [
        "Text here for descriptions, explanations, etc"
      ]
    },
    {
      "cell_type": "code",
      "source": [
        ""
      ],
      "metadata": {
        "id": "qtWUtrIhFfjo"
      },
      "execution_count": null,
      "outputs": []
    },
    {
      "cell_type": "markdown",
      "metadata": {
        "id": "5oPRpu328neb"
      },
      "source": [
        "##**Import data and install packages**"
      ]
    },
    {
      "cell_type": "code",
      "execution_count": null,
      "metadata": {
        "id": "vYTZEjs9AqwV"
      },
      "outputs": [],
      "source": [
        "import numpy as np\n",
        "import scipy.io as sio\n",
        "import pandas as pd\n",
        "import matplotlib.pyplot as plt #Can use other plotting packages like seaborn"
      ]
    },
    {
      "cell_type": "code",
      "execution_count": null,
      "metadata": {
        "id": "kNFuUFJ78cN5"
      },
      "outputs": [],
      "source": [
        "# ! allows you to run commands in the command line, as you would in your normal terminal/command line interface"
      ]
    },
    {
      "cell_type": "code",
      "execution_count": null,
      "metadata": {
        "id": "yH-EpSmB9Y_x"
      },
      "outputs": [],
      "source": [
        "#Download count matrix of cell by gene counts\n",
        "#Cells are 10x sequenced mouse primary cortex cells (...)\n",
        "\n",
        "!wget --content-disposition https://data.caltech.edu/tindfiles/serve/2a3c58f3-dde2-4a46-9497-eaf6a4f9c3fc/"
      ]
    },
    {
      "cell_type": "code",
      "execution_count": null,
      "metadata": {
        "id": "xrGNmEHwAKAF"
      },
      "outputs": [],
      "source": [
        "#Gunzip the files we downloaded\n",
        "!tar -xf *.gz"
      ]
    },
    {
      "cell_type": "markdown",
      "metadata": {
        "id": "PPv4FIlm8rtQ"
      },
      "source": [
        "## **Read in data for analysis**"
      ]
    },
    {
      "cell_type": "markdown",
      "metadata": {
        "id": "bldcPDtroHZ_"
      },
      "source": [
        "**The dataset**\n",
        "\n",
        "We will be working with 10x Genomics sequencing data from the mouse primary cortex, produced by the BRAIN Initiative Cell Census Network (BICCN) [(Yao et al. 2021)](https://www.nature.com/articles/s41586-021-03500-8). They assayed 94,162 cells by 10x sequencing (as well as SMART-seq), though we will work with only a subsetted sample today.  The cell type labels include GABAergic and Glutamatergic cells as well as Non-Neuronal cells, and were sampled from both sexes.\n",
        "\n",
        "<center><img src=\"https://drive.google.com/uc?export=view&id=1TKA0m3BEox8aBpoSNFMnIb3yftCfWyM4\" alt=\"EMFigure\" width=\"350\" height=\"350\"><center>\n",
        "\n",
        "\n",
        "\n"
      ]
    },
    {
      "cell_type": "markdown",
      "metadata": {
        "id": "2qq9TO5V97Vr"
      },
      "source": [
        "**The Count matrix**\n",
        "\n",
        "Count matrix has 14,690 cells with counts for 2000 genes. Though greater numbers of genes were measured, the dataset is subsetted to 2000 genes for ease of analysis. This matrix includes cells from both male and female mice.\n",
        "\n",
        "The 2000 genes were selected by filtering for genes expressed in greater than 1% of cells, and subsetting to the 2000 most variable of those genes.\n",
        "\n",
        "\n",
        " \n"
      ]
    },
    {
      "cell_type": "code",
      "execution_count": null,
      "metadata": {
        "id": "tZ1h_dME8vJb"
      },
      "outputs": [],
      "source": [
        "#Get gene count matrix\n",
        "count_mat = sio.mmread('mop_count_mat.mtx')\n",
        "count_mat.shape"
      ]
    },
    {
      "cell_type": "code",
      "source": [
        "#Here we will conduct standard normalizations on the data\n",
        "#This normalizes read counts across cells to the same total reads, \n",
        "#stabilizes variance across genes, and makes the data continuous (more on this later)\n",
        "\n",
        "row_sums = np.sum(count_mat,axis=1)\n",
        "avg = np.mean(row_sums)\n",
        "coeffs = avg/row_sums\n",
        "\n",
        "for i in range(len(coeffs)):\n",
        "  count_mat[i,:] = count_mat[i,:]*coeffs[i]\n",
        "  \n",
        "count_mat = np.log1p(count_mat)"
      ],
      "metadata": {
        "id": "yphcm0MbSZ87"
      },
      "execution_count": null,
      "outputs": []
    },
    {
      "cell_type": "code",
      "source": [
        ""
      ],
      "metadata": {
        "id": "iaNMMX9rYXxs"
      },
      "execution_count": null,
      "outputs": []
    },
    {
      "cell_type": "code",
      "execution_count": null,
      "metadata": {
        "id": "NFissu8VB92P"
      },
      "outputs": [],
      "source": [
        "#Get metadata dataframe for the 14k cells (rows of the matrix)\n",
        "meta = pd.read_csv('cell_metadata.csv')\n",
        "meta.head()"
      ]
    },
    {
      "cell_type": "code",
      "execution_count": null,
      "metadata": {
        "id": "M5je0CyVN4DN"
      },
      "outputs": [],
      "source": [
        "#Get metadata dataframe for the 2k genes (columns of the matrix)\n",
        "\n",
        "meta_gene = pd.read_csv('gene_metadata.csv')\n",
        "meta_gene.head()\n"
      ]
    },
    {
      "cell_type": "code",
      "execution_count": null,
      "metadata": {
        "id": "xzz-5cVyCsS4"
      },
      "outputs": [],
      "source": [
        "#Access the list in each column by meta['name_of_col']\n",
        "cell_types = meta['cell_type']\n",
        "cell_types[0:5]"
      ]
    },
    {
      "cell_type": "code",
      "execution_count": null,
      "metadata": {
        "id": "plqTILR-DdnC"
      },
      "outputs": [],
      "source": [
        "#See all the cell type categories\n",
        "np.unique(meta['cell_type']) #Cell populations are marked by the genes they express (as comparec to other cell populations)"
      ]
    },
    {
      "cell_type": "code",
      "execution_count": null,
      "metadata": {
        "id": "-kcBQFk_p3bC"
      },
      "outputs": [],
      "source": [
        "#Filter the count matrix for a particular cell type (across all genes)\n",
        "\n",
        "#Remember! Cells are ROWS and Genes are COLUMNS\n",
        "\n",
        "indices = meta['cell_type'].isin(['GABAergic']) #Get indices for where the cell_type is Dlk1_1 only\n",
        "\n",
        "count_sub = count_mat[indices,:] #Filter rows (cells) of matrix\n",
        "count_sub.shape"
      ]
    },
    {
      "cell_type": "code",
      "execution_count": null,
      "metadata": {
        "id": "xRCYW1VVErG1"
      },
      "outputs": [],
      "source": [
        "#The sexes\n",
        "np.unique(meta['sex'])"
      ]
    },
    {
      "cell_type": "markdown",
      "metadata": {
        "id": "vOCNwfTzRn6M"
      },
      "source": [
        "## **Fitting Regression Models to the Data**\n",
        "Here we will explore how to use (1) linear and (2) logistic regression to model gene count relationships, and investigate the assumptions these models will make.\n",
        "\n",
        "Given the multiple categories of metadata we have for these cells, we will also utilize (3) partial correlations to remove the influence of possibly confounding variables from our calculations of correlation between genes and their expression profiles."
      ]
    },
    {
      "cell_type": "markdown",
      "metadata": {
        "id": "5CsRl1eaXI91"
      },
      "source": [
        "***Linear Regression***"
      ]
    },
    {
      "cell_type": "markdown",
      "metadata": {
        "id": "_0S8CxwBQoCO"
      },
      "source": [
        "How to use linear regression functions from sklearn:\n",
        "https://scikit-learn.org/stable/modules/generated/sklearn.linear_model.LinearRegression.html \n",
        "```\n",
        ">>> import numpy as np\n",
        ">>> from sklearn.linear_model import LinearRegression\n",
        ">>> X = np.array([[1, 1], [1, 2], [2, 2], [2, 3]])\n",
        ">>> # y = 1 * x_0 + 2 * x_1 + 3\n",
        ">>> y = np.dot(X, np.array([1, 2])) + 3\n",
        ">>> reg = LinearRegression().fit(X, y)\n",
        ">>> reg.score(X, y)\n",
        "1.0\n",
        ">>> reg.coef_\n",
        "array([1., 2.])\n",
        ">>> reg.intercept_\n",
        "3.0...\n",
        "```\n",
        "\n"
      ]
    },
    {
      "cell_type": "markdown",
      "metadata": {
        "id": "Rsc39i5zRr0Q"
      },
      "source": [
        "### **a) Find x ~ y and y ~ x regression model coefficients for a pair of genes and plot x versus y in each case.** \n",
        "\n",
        "By regressing y (gene 2) on x (gene 1) written as y ~ x, or vice versa, we are modeling how gene 2's expression changes as a function of gene 1. Specifically, the $\\beta$ parameter from the fit $y = \\alpha + \\beta x$ represents the change in the value of dependent variable (y here) corresponding to unit change in the value of independent variable (x here). \n",
        "\n",
        "**Using the given gene pair (below), report the intercept and coefficient values for each of the two models.**"
      ]
    },
    {
      "cell_type": "code",
      "execution_count": null,
      "metadata": {
        "id": "bAaRsWVlwvDV"
      },
      "outputs": [],
      "source": [
        "#Set genes\n",
        "gene1 = 'Slc6a1' # Slc6a1\n",
        "gene2 = 'Gad1' # \n",
        "\n",
        "#Do regression x ~ y and y ~ x\n",
        "from sklearn.linear_model import LinearRegression\n",
        "\n"
      ]
    },
    {
      "cell_type": "code",
      "execution_count": null,
      "metadata": {
        "id": "V66ZJeKiwFEj"
      },
      "outputs": [],
      "source": [
        ""
      ]
    },
    {
      "cell_type": "markdown",
      "metadata": {
        "id": "5S1p_kUJSMuH"
      },
      "source": [
        "### **b) Calculate the $R^2$ and the Pearson correlation coefficient for the gene pair, given each regression model** \n",
        "\n",
        "The  $R^2$ coefficient of determination is defined as 1 - (sum of squares of the residuals)/(sum of total squares). Here the numerator represents deviation from the model predictions, and the denominator represents the variance of the given dataset (observations). $R^2 = 1 - \\frac{SS_{res}}{SS_{tot}} = 1 - \\frac{\\sum_i (y_i - y_{pred})^2}{\\sum_i (y_i - \\bar{y})^2} $ (where $\\bar{y}$ is the mean). This measures the proportion of the variation in y that is predictable from x.\n"
      ]
    },
    {
      "cell_type": "markdown",
      "metadata": {
        "id": "RMCHl3ZFR54F"
      },
      "source": [
        "Pearson correlation (Pearson's r) is defined as $\\frac{\\sum_i (x_i - \\bar{x})(y_i - \\bar{y})}{\\sqrt{\\sum_i (x_i - \\bar{x})^2 \\sum_i (y_i - \\bar{y})^2}}$. This represents the covariance of two variables divided by the product of their standard deviations i.e. a normalized representation of covariance to measure the linear correlation between the variables.\n",
        "\n"
      ]
    },
    {
      "cell_type": "markdown",
      "metadata": {
        "id": "bOf45te0TlDj"
      },
      "source": [
        "**Report the $R^2$ for each model and the Pearson correlation calculations (you will only need to calculate one Pearson correlation value). Calculate these values directly using the formulas given. Additionally, print the 'score' for each regression model and check that this matches your $R^2$ calculation.**"
      ]
    },
    {
      "cell_type": "code",
      "execution_count": null,
      "metadata": {
        "id": "5orzxAEESLyV"
      },
      "outputs": [],
      "source": [
        ""
      ]
    },
    {
      "cell_type": "code",
      "execution_count": null,
      "metadata": {
        "id": "dB_tWBmZSn_S"
      },
      "outputs": [],
      "source": [
        ""
      ]
    },
    {
      "cell_type": "markdown",
      "metadata": {
        "id": "_K5_xbs1Rlfo"
      },
      "source": [
        "### **c) Plot model residuals to check homoscedascity assumption for the gene pair**\n",
        "\n",
        "OLS (ordinary least squares) assumes that the error term (“noise” in the relationship between the independent and the dependent variable) is the same across all values of the independent variable i.e. all variables are treated the same or given the same 'weight'. If this is true for our dataset, we would expect a random distribution of residuals (deviations from the prediction) about the zero line.\n",
        "\n",
        "**Plot the residuals (predicted - observed) values for each model. The plots will have the residuals on the y-axis versus the independent (input) variable values. Do you think the homoscedascity assumption is met?**"
      ]
    },
    {
      "cell_type": "code",
      "execution_count": null,
      "metadata": {
        "colab": {
          "base_uri": "https://localhost:8080/",
          "height": 283
        },
        "id": "6klRDuJh7Ipg",
        "outputId": "08d6984c-41b1-4341-b848-d22b36401b4f"
      },
      "outputs": [
        {
          "output_type": "execute_result",
          "data": {
            "text/plain": [
              "<matplotlib.collections.PathCollection at 0x7fbc83134050>"
            ]
          },
          "metadata": {},
          "execution_count": 1
        },
        {
          "output_type": "display_data",
          "data": {
            "text/plain": [
              "<Figure size 432x288 with 1 Axes>"
            ],
            "image/png": "[encoded data removed]"
          },
          "metadata": {
            "needs_background": "light"
          }
        }
      ],
      "source": [
        "#Example plot\n",
        "import numpy as np\n",
        "import matplotlib.pyplot as plt \n",
        "\n",
        "xs = np.random.randint(100, size=10)\n",
        "ys = xs*3 + 2\n",
        "plt.scatter(xs,ys)"
      ]
    },
    {
      "cell_type": "code",
      "execution_count": null,
      "metadata": {
        "id": "Gk9wztnr6Bh1"
      },
      "outputs": [],
      "source": [
        ""
      ]
    },
    {
      "cell_type": "code",
      "execution_count": null,
      "metadata": {
        "id": "MzOMCDtBoQ7y"
      },
      "outputs": [],
      "source": [
        ""
      ]
    },
    {
      "cell_type": "markdown",
      "metadata": {
        "id": "A2vF36K4-OmD"
      },
      "source": [
        "**The assumption doesn't seem to hold.**"
      ]
    },
    {
      "cell_type": "markdown",
      "metadata": {
        "id": "F79PCQO2XQGa"
      },
      "source": [
        "***Logistic Regression***"
      ]
    },
    {
      "cell_type": "markdown",
      "metadata": {
        "id": "_YpRMAuhVBX3"
      },
      "source": [
        "How to use logistic regression functions from sklearn: https://scikit-learn.org/stable/modules/generated/sklearn.linear_model.LogisticRegression.html \n",
        "\n",
        "\n",
        "```\n",
        ">>> from sklearn.datasets import load_iris\n",
        ">>> from sklearn.linear_model import LogisticRegression\n",
        ">>> X, y = load_iris(return_X_y=True)\n",
        ">>> clf = LogisticRegression(random_state=0).fit(X, y)\n",
        "# .coef_ and .intercept_ the same as LinearRegression\n",
        "```\n",
        "\n"
      ]
    },
    {
      "cell_type": "markdown",
      "metadata": {
        "id": "iHCx7Bx1S4X-"
      },
      "source": [
        "### **d) Set up logistic regression model for cell type classification of GABAergic cells and report genes with largest coefficients.** \n",
        "\n",
        "With logistic regression we can model a categorical variable (e.g. cell type) as a continuous value (i.e. the probability of being in the category). Here we will model the contribution of each gene to the probability of a cell being in the GABAergic cell type or not. \n",
        "\n",
        "\n"
      ]
    },
    {
      "cell_type": "markdown",
      "metadata": {
        "id": "drvWgEnNclnC"
      },
      "source": [
        "\n",
        "In order to determine which genes contribute to designating that a cell is in that cell type or not, we will subset the count matrix (X) for only female cells, and then perform logistic regression. Y will be binary, 0 or 1, representing whether a cell is GABAergic or not.\n",
        "\n",
        "Thus the logistic regression model models the probability that Y = 1, that Y is of the GABAergic cell type, not from the remaining cells.\n",
        "\n"
      ]
    },
    {
      "cell_type": "markdown",
      "metadata": {
        "id": "fNnIAEswcnyM"
      },
      "source": [
        "**Fit separate, logistic regression models for each of the 2000 genes, and report the top 10 genes with the highest beta coefficients i.e. the genes where changes in their expression highly contribute to the probability of the cell being in the desired category**"
      ]
    },
    {
      "cell_type": "code",
      "execution_count": null,
      "metadata": {
        "id": "yry8RWdG8q_J"
      },
      "outputs": [],
      "source": [
        "#Set up model and extract beta\n",
        "from sklearn.linear_model import LogisticRegression\n",
        "\n",
        "\n"
      ]
    },
    {
      "cell_type": "code",
      "execution_count": null,
      "metadata": {
        "id": "2Hv2dzMwvaoi"
      },
      "outputs": [],
      "source": [
        ""
      ]
    },
    {
      "cell_type": "markdown",
      "metadata": {
        "id": "5baFDcEWXdz5"
      },
      "source": [
        "***Partial Correlations***"
      ]
    },
    {
      "cell_type": "markdown",
      "metadata": {
        "id": "Dc2eAWytRfO-"
      },
      "source": [
        "Partial correlation is a measure of association between two variables, after controlling for the effect of a third random variable. As a general example, one may want to measure correlation between age and memory performance, but may want to remove the effect of education level from this correlation.\n",
        "\n",
        "Partial correlation can be framed as correlation of the residuals from two regression problems: (1) X ~ Z and (2) Y ~ Z. The partial correlation between X and Y is then the pearson correlation of the residuals of (1) and (2).\n",
        "\n",
        "Below we will go through the steps of calculating the partial correlation for the gene pair in parts a-d."
      ]
    },
    {
      "cell_type": "markdown",
      "metadata": {
        "id": "QTrI3Q8YThtj"
      },
      "source": [
        "### **e) Find linear regression fits of each gene's expression profile for the gene pair given below, against the sex of cells. Report the coefficient and intercept for each model.**\n",
        "\n",
        "Fit linear regression models of (1) gene 1 expression against sex (binary 0 or 1 for Male or Female) and (2) gene 2 expression against sex (binary 0 or 1 for Male or Female). This is done across all cells (the count matrix with both sexes and all cell types). Convert the 'M' and 'F' to binary values, (0 or 1), for the regression models.\n",
        "\n",
        "**Print the coefficient and intercept for each model as well as the original pearson correlation of the genes, Atp5g3 and mt-Atp8 (which we will use for comparison). You can use [scipy.stats.pearsonr](https://docs.scipy.org/doc/scipy/reference/generated/scipy.stats.pearsonr.html)**"
      ]
    },
    {
      "cell_type": "code",
      "execution_count": null,
      "metadata": {
        "id": "TF6Q3qD99ydp"
      },
      "outputs": [],
      "source": [
        "#Set up regression models\n",
        "from scipy import stats\n",
        "\n",
        "#Example of scipy.stats.pearsonr\n",
        "#r = stats.pearsonr([1, 2, 3, 4, 5], [10, 9, 2.5, 6, 4])[0]\n",
        "#print(r)\n",
        "\n",
        "gene1 = 'mt-Atp8'\n",
        "gene2 = 'Atp5g3'\n",
        "\n"
      ]
    },
    {
      "cell_type": "markdown",
      "metadata": {
        "id": "XTjolzJ1UoR2"
      },
      "source": [
        "### **f) Report the residuals from each regression fit.**\n",
        "Residuals are defined as predicted - observed values, for each model.\n",
        "\n",
        "**Report the first 5 residual values for each model.**"
      ]
    },
    {
      "cell_type": "code",
      "execution_count": null,
      "metadata": {
        "id": "FgwkxqywUtJG"
      },
      "outputs": [],
      "source": [
        "#Get residuals\n"
      ]
    },
    {
      "cell_type": "code",
      "execution_count": null,
      "metadata": {
        "id": "639xg27RHFtE"
      },
      "outputs": [],
      "source": [
        ""
      ]
    },
    {
      "cell_type": "markdown",
      "metadata": {
        "id": "T3gBo2a3Ut07"
      },
      "source": [
        "### **g) Now find and report the partial correlation between the genes in the pair. This is the Pearson correlation coefficient, as defined in b, between the residuals.**"
      ]
    },
    {
      "cell_type": "code",
      "execution_count": null,
      "metadata": {
        "id": "bhN_g33uU06j"
      },
      "outputs": [],
      "source": [
        "#Get correlation\n"
      ]
    },
    {
      "cell_type": "code",
      "source": [
        ""
      ],
      "metadata": {
        "id": "oOkTOI_RYIhD"
      },
      "execution_count": null,
      "outputs": []
    }
  ],
  "metadata": {
    "colab": {
      "collapsed_sections": [],
      "name": "regressionColabExercises.ipynb",
      "provenance": [],
      "include_colab_link": true
    },
    "kernelspec": {
      "display_name": "Python 3",
      "name": "python3"
    },
    "language_info": {
      "name": "python"
    }
  },
  "nbformat": 4,
  "nbformat_minor": 0
}