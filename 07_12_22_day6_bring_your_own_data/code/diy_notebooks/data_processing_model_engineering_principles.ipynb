{
 "cells": [
  {
   "cell_type": "markdown",
   "id": "af5728a9",
   "metadata": {},
   "source": [
    "# Data Processing & Model Engineering\n",
    "\n",
    "# By: Sabera Talukder"
   ]
  },
  {
   "cell_type": "markdown",
   "id": "445ce9bf",
   "metadata": {},
   "source": [
    "[![Open in Colab](https://colab.research.google.com/assets/colab-badge.svg)](https://colab.research.google.com/github/SaberaTalukder/Chen_Institute_DataSAI_for_Neuroscience/blob/main/07_12_22_day6_bring_your_own_data/code/diy_notebooks/data_processing_model_engineering_principles.ipynb)"
   ]
  },
  {
   "cell_type": "markdown",
   "id": "12254128",
   "metadata": {},
   "source": [
    "# If you don't have your own data today, don't fret because we have you covered! 👩‍💻🤓🧑🏾‍💻\n",
    "\n",
    "## We're going to be using data from this wonderful paper: 👇👇👇\n",
    "### \"Generalized neural decoders for transfer learning across participants and recording modalities\" from Peterson et al. - https://iopscience.iop.org/article/10.1088/1741-2552/abda0b#jneabda0bs5 \n",
    "### Download the data directly from 👩‍🔬🧑‍🔬https://figshare.com/articles/dataset/Naturalistic_ECoG_move_v_rest/13010546. Start by only downloading the patient 2 .nc data. Have fun exploring what you can do with data processing & model engineering!\n",
    "### If you finish the data processing and classifier modeling on patient 2 data, you can look at this paper: 👉 \"Deep Neural Imputation: A Framework for Recovering Incomplete Brain Recordings\" from Talukder et al. https://arxiv.org/pdf/2206.08094.pdf to think about how you could combine all of the patients' data together! 🧠 🙌 \n",
    "\n",
    "# Good luck!!!"
   ]
  }
 ],
 "metadata": {
  "kernelspec": {
   "display_name": "Python 3 (ipykernel)",
   "language": "python",
   "name": "python3"
  },
  "language_info": {
   "codemirror_mode": {
    "name": "ipython",
    "version": 3
   },
   "file_extension": ".py",
   "mimetype": "text/x-python",
   "name": "python",
   "nbconvert_exporter": "python",
   "pygments_lexer": "ipython3",
   "version": "3.10.4"
  }
 },
 "nbformat": 4,
 "nbformat_minor": 5
}
