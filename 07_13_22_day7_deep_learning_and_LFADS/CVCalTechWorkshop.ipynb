{
  "cells": [
    {
      "cell_type": "markdown",
      "metadata": {
        "id": "L7CZuGa48VD_"
      },
      "source": [
        "# Part 0: Setup"
      ]
    },
    {
      "cell_type": "markdown",
      "metadata": {
        "id": "nMhAZ4_PFLBN"
      },
      "source": [
        "## Environment setup\n"
      ]
    },
    {
      "cell_type": "code",
      "execution_count": null,
      "metadata": {
        "id": "H4esJ1y0fIrV"
      },
      "outputs": [],
      "source": [
        "# !pip3 install torch\n",
        "# !pip3 install pytorch_lightning\n",
        "# !pip3 install torchvision\n",
        "# !pip3 install dandi\n",
        "# !pip3 install git+https://github.com/neurallatents/nlb_tools.git\n",
        "# !pip3 install cmasher"
      ]
    },
    {
      "cell_type": "markdown",
      "metadata": {
        "id": "CbVaWotNFO8J"
      },
      "source": [
        "## Data download"
      ]
    },
    {
      "cell_type": "code",
      "execution_count": null,
      "metadata": {
        "colab": {
          "base_uri": "https://localhost:8080/"
        },
        "id": "PJz17jzwFVYL",
        "outputId": "6c0fa54f-c419-4c57-a7f4-865c27c2a7d8"
      },
      "outputs": [],
      "source": [
        "# !dandi download DANDI:000140/0.220113.0408"
      ]
    },
    {
      "cell_type": "markdown",
      "metadata": {
        "id": "qWGzkYw-FR19"
      },
      "source": [
        "## Imports"
      ]
    },
    {
      "cell_type": "code",
      "execution_count": null,
      "metadata": {
        "colab": {
          "base_uri": "https://localhost:8080/"
        },
        "id": "97HAAhTWj4WO",
        "outputId": "8bd1e057-c2e8-458d-87bd-49b4150f181c"
      },
      "outputs": [],
      "source": [
        "\n",
        "# Imports\n",
        "import os\n",
        "import torch\n",
        "from torchvision import datasets\n",
        "from torchvision import transforms\n",
        "\n",
        "from nlb_tools.nwb_interface import NWBDataset\n",
        "import h5py\n",
        "import numpy as np\n",
        "import logging\n",
        "import torch.nn.functional as F\n",
        "import torch.nn as nn\n",
        "from torch.utils.data import DataLoader, TensorDataset\n",
        "import cmasher as cmr\n",
        "logger = logging.getLogger(__name__)\n",
        "from sklearn.decomposition import PCA\n",
        "from torch.autograd import Variable\n",
        "\n",
        "import matplotlib.pyplot as plt\n",
        "from mpl_toolkits.mplot3d import axes3d   \n",
        "\n",
        "import random\n",
        "random.seed(2022)\n",
        "\n",
        "curr_path = os.getcwd()\n",
        "fpath = curr_path + '/000140/sub-Jenkins/'\n",
        "os.listdir(fpath) "
      ]
    },
    {
      "cell_type": "code",
      "execution_count": null,
      "metadata": {
        "id": "RsswKOV-SyXI"
      },
      "outputs": [],
      "source": [
        "''' Tensor saving functions '''\n",
        "\n",
        "def _check_h5_r(data_dict, h5obj, overwrite):\n",
        "    \"\"\"Recursive helper function that finds duplicate keys and deletes them if `overwrite == True`\n",
        "    \n",
        "    Parameters\n",
        "    ----------\n",
        "    data_dict : dict\n",
        "        Dict containing data to be saved in HDF5 format\n",
        "    h5obj : h5py.File or h5py.Group\n",
        "        h5py object to check for duplicates\n",
        "    overwrite : bool, optional\n",
        "        Whether to overwrite duplicate data found \n",
        "        at `save_path` if file already exists, by\n",
        "        default False\n",
        "    \n",
        "    Returns\n",
        "    -------\n",
        "    tuple\n",
        "        Tuple containing bool of whether `h5obj` passes\n",
        "        checks and list of duplicate keys found\n",
        "    \"\"\"\n",
        "    dup_list = []\n",
        "    good = True\n",
        "    for key in data_dict.keys():\n",
        "        if key in h5obj.keys():\n",
        "            if isinstance(h5obj[key], h5py.Group) and isinstance(data_dict[key], dict):\n",
        "                rgood, rdup_list = _check_h5_r(data_dict[key], h5obj[key], overwrite)\n",
        "                good = good and rgood\n",
        "                dup_list += list(zip([key] * len(rdup_list), rdup_list))\n",
        "            else:\n",
        "                dup_list.append(key)\n",
        "                if overwrite:\n",
        "                    del h5obj[key]\n",
        "                else:\n",
        "                    good = False\n",
        "    return good, dup_list\n",
        "\n",
        "def save_to_h5(data_dict, save_path, overwrite=False, dlen=32):\n",
        "    \"\"\"Function that saves dict as .h5 file while preserving\n",
        "    nested dict structure\n",
        "\n",
        "    Parameters\n",
        "    ----------\n",
        "    data_dict : dict\n",
        "        Dict containing data to be saved in HDF5 format\n",
        "    save_path : str\n",
        "        Path to location where data should be saved\n",
        "    overwrite : bool, optional\n",
        "        Whether to overwrite duplicate data found \n",
        "        at `save_path` if file already exists, by\n",
        "        default False\n",
        "    dlen : int, optional\n",
        "        Byte length of data format to save numerical data,\n",
        "        by default 32.\n",
        "    \"\"\"\n",
        "    h5file = h5py.File(save_path, 'a')\n",
        "    good, dup_list = _check_h5_r(data_dict, h5file, overwrite)\n",
        "    if good:\n",
        "        if len(dup_list) > 0:\n",
        "            logger.warning(f\"{dup_list} already found in {save_path}. Overwriting...\")\n",
        "        _save_h5_r(data_dict, h5file, dlen)\n",
        "        logger.info(f\"Saved data to {save_path}\")\n",
        "    else:\n",
        "        logger.warning(f\"{dup_list} already found in {save_path}. Save to file canceled. \" \\\n",
        "            \"Please set `overwrite=True` or specify a different file path.\")\n",
        "    h5file.close()\n",
        "\n",
        "    \n",
        "def _save_h5_r(data_dict, h5obj, dlen):\n",
        "    \"\"\"Recursive function that adds all the items in a dict to an h5py.File or h5py.Group object\n",
        "\n",
        "    Parameters\n",
        "    ----------\n",
        "    data_dict : dict\n",
        "        Dict containing data to be saved in HDF5 format\n",
        "    h5obj : h5py.File or h5py.Group\n",
        "        h5py object to save data to\n",
        "    dlen : int, optional\n",
        "        Byte length of data format to save numerical data,\n",
        "        by default 32.\n",
        "    \"\"\"\n",
        "    for key, val in data_dict.items():\n",
        "        if isinstance(val, dict):\n",
        "            h5group = h5obj[key] if key in h5obj.keys() else h5obj.create_group(key)\n",
        "            _save_h5_r(val, h5group, dlen)\n",
        "        else:\n",
        "            if val.dtype == 'object':\n",
        "                sub_dtype = f'float{dlen}' if val[0].dtype == np.float else f'int{dlen}' if val[0].dtype == np.int else val[0].dtype\n",
        "                dtype = h5py.vlen_dtype(sub_dtype)\n",
        "            else:\n",
        "                dtype = f'float{dlen}' if val.dtype == np.float else f'int{dlen}' if val.dtype == np.int else val.dtype\n",
        "            h5obj.create_dataset(key, data=val, dtype=dtype)\n",
        "            \n",
        "def to_tensor(array):\n",
        "    \"\"\"Converts a loaded numpy array to a tensor\n",
        "    and ensures correct dtype\n",
        "\n",
        "    Parameters\n",
        "    ----------\n",
        "    array : np.array\n",
        "        The numpy array to convert.\n",
        "\n",
        "    Returns\n",
        "    -------\n",
        "    torch.Tensor\n",
        "        The converted tensor.\n",
        "    \"\"\"\n",
        "    return torch.tensor(array, dtype=torch.float)\n",
        "            "
      ]
    },
    {
      "cell_type": "markdown",
      "metadata": {
        "id": "fk_B-iE48eMU"
      },
      "source": [
        "# Part 1: Neural Dynamics and Maze Data"
      ]
    },
    {
      "cell_type": "markdown",
      "metadata": {
        "id": "613vo76k8kaA"
      },
      "source": [
        "## Overview of Maze Dataset"
      ]
    },
    {
      "cell_type": "code",
      "execution_count": null,
      "metadata": {
        "colab": {
          "base_uri": "https://localhost:8080/"
        },
        "id": "hNBbZJIDE1wH",
        "outputId": "903df964-0986-4e17-d37e-dd8af343a00b"
      },
      "outputs": [],
      "source": [
        "dataset = NWBDataset(fpath=fpath) \n",
        "\n",
        "print(f'Data shape: {dataset.data.shape}')\n",
        "print(f'Bin width: {dataset.bin_width} ms')\n",
        "dataset.resample(100)\n",
        "print(f'Resampled data shape: {dataset.data.shape}')\n",
        "print(f'Resampled bin width: {dataset.bin_width} ms')"
      ]
    },
    {
      "cell_type": "markdown",
      "metadata": {
        "id": "C13BJ-Nv8pz6"
      },
      "source": [
        "## Inspect Maze dataset\n"
      ]
    },
    {
      "cell_type": "code",
      "execution_count": null,
      "metadata": {
        "colab": {
          "base_uri": "https://localhost:8080/",
          "height": 707
        },
        "id": "vCqCGJ6alJp5",
        "outputId": "66630fdc-e552-4d60-a393-8e4921862134"
      },
      "outputs": [],
      "source": [
        "\n",
        "dataset.data"
      ]
    },
    {
      "cell_type": "code",
      "execution_count": null,
      "metadata": {
        "id": "zpJeUH02qyLs"
      },
      "outputs": [],
      "source": [
        "# Visualize data"
      ]
    },
    {
      "cell_type": "markdown",
      "metadata": {
        "id": "Pu3Aoeqi8wp3"
      },
      "source": [
        "## Trim and package data for training"
      ]
    },
    {
      "cell_type": "code",
      "execution_count": null,
      "metadata": {
        "colab": {
          "base_uri": "https://localhost:8080/"
        },
        "id": "_PpDGUtOq6Oc",
        "outputId": "c4c5220f-814a-4e9a-f4b5-f3b90ff2170c"
      },
      "outputs": [],
      "source": [
        "\n",
        "# Create train and valid dataloaders\n",
        "params_in = {\n",
        "    'mc_maze_small': {\n",
        "        'spk_field': 'spikes',\n",
        "        'hospk_field': 'heldout_spikes',\n",
        "        'rate_field': 'rates',\n",
        "        'horate_field': 'heldout_rates',\n",
        "        'make_params': {\n",
        "            'align_field': 'move_onset_time',\n",
        "            'align_range': (-250, 450),\n",
        "        },\n",
        "        'eval_make_params': {\n",
        "            'align_field': 'move_onset_time',\n",
        "            'align_range': (-250, 450),\n",
        "        },\n",
        "        'fp_len': 200,\n",
        "    },\n",
        "}\n",
        "\n",
        "def make_train_array(dataset = dataset, \n",
        "                      dataset_name = \"mc_maze_small\", \n",
        "                      trial_split = \"train\",\n",
        "                      params_in = params_in, \n",
        "                      save_path_array = \"train_input_array.h5\",\n",
        "                      ):\n",
        "\n",
        "  params = params_in[dataset_name].copy()\n",
        "  spk_field = params['spk_field']\n",
        "  hospk_field = params['hospk_field']\n",
        "  make_params = params['make_params'].copy()\n",
        "  split_to_mask = lambda x: (dataset.trial_info.split == x) if isinstance(x, str) else x\n",
        "  trial_mask = split_to_mask(trial_split)\n",
        "\n",
        "  def make_stacked_array(dataset, spk_field, hospk_field, make_params, trial_mask):\n",
        "    # TODO: Complete this dataloader:\n",
        "    # Should stack a tensor and generate a data dict with fields: \n",
        "    #   - train_spikes_heldin:  BxTxNin Tensor (B = # of Trials, T = # of bins per trial, Nin = # of Neurons (heldin))\n",
        "    #   - train_spikes_heldout: BxTxNout (B = # of Trials, T = # of bins per trial, Nout = # of neurons (heldout))\n",
        "    trial_data = dataset.make_trial_data(ignored_trials=~trial_mask, **make_params)\n",
        "    array_dict = {}\n",
        "\n",
        "    # ---------------------For the students -----------------------------------\n",
        "    array_dict[\"train_spikes_heldin\"] = trial_data[spk_field].to_numpy()\n",
        "    array_dict[\"train_spikes_heldout\"] = trial_data[hospk_field].to_numpy()\n",
        "    # --------------------------------------------------------------------------\n",
        "    print(\"Shape of heldin array {}.\".format(array_dict[\"train_spikes_heldin\"].shape))\n",
        "    print(\"Shape of heldout array {}.\".format(array_dict[\"train_spikes_heldout\"].shape))\n",
        "    return array_dict\n",
        "\n",
        "  data_dict_array = make_stacked_array(dataset,\n",
        "                                      spk_field = spk_field,\n",
        "                                      hospk_field = hospk_field,\n",
        "                                      make_params = make_params,\n",
        "                                      trial_mask = trial_mask)\n",
        "\n",
        "  save_to_h5(data_dict_array, save_path_array, overwrite = True)\n",
        "\n",
        "save_path_array = \"train_input_array.h5\"\n",
        "make_train_array(dataset, save_path_array = save_path_array)\n",
        "\n",
        "\n"
      ]
    },
    {
      "cell_type": "code",
      "execution_count": null,
      "metadata": {
        "colab": {
          "base_uri": "https://localhost:8080/"
        },
        "id": "1I7h7RTc0d82",
        "outputId": "15a3e128-34a7-45e6-c2d3-5b49bec6cf6c"
      },
      "outputs": [],
      "source": [
        "def make_train_tensor(dataset = dataset, \n",
        "                      dataset_name = \"mc_maze_small\", \n",
        "                      trial_split = \"train\",\n",
        "                      params_in = params_in, \n",
        "                      save_path_tensor = \"train_input_tensor.h5\",\n",
        "                      ):\n",
        "\n",
        "  params = params_in[dataset_name].copy()\n",
        "  spk_field = params['spk_field']\n",
        "  hospk_field = params['hospk_field']\n",
        "  make_params = params['make_params'].copy()\n",
        "  split_to_mask = lambda x: (dataset.trial_info.split == x) if isinstance(x, str) else x\n",
        "  trial_mask = split_to_mask(trial_split)\n",
        "\n",
        "  def make_stacked_tensor(dataset, spk_field, hospk_field, make_params, trial_mask):\n",
        "    # TODO: Complete this dataloader:\n",
        "    # Should stack a tensor and generate a data dict with fields: \n",
        "    #   - train_spikes_heldin:  BxTxNin Tensor (B = # of Trials, T = # of bins per trial, Nin = # of Neurons (heldin))\n",
        "    #   - train_spikes_heldout: BxTxNout (B = # of Trials, T = # of bins per trial, Nout = # of neurons (heldout))\n",
        "    trial_data = dataset.make_trial_data(ignored_trials=~trial_mask, **make_params)\n",
        "    grouped = list(trial_data.groupby('trial_id', sort=False))\n",
        "    array_dict = {}\n",
        "\n",
        "    # ---------------------For the students -----------------------------------\n",
        "    array_dict[\"train_spikes_heldin\"] = np.stack([trial[spk_field].to_numpy() for _, trial in grouped])\n",
        "    array_dict[\"train_spikes_heldout\"] = np.stack([trial[hospk_field].to_numpy() for _, trial in grouped])\n",
        "    # --------------------------------------------------------------------------\n",
        "    print(\"Shape of heldin tensor {}.\".format(array_dict[\"train_spikes_heldin\"].shape))\n",
        "    print(\"Shape of heldout tensor {}.\".format(array_dict[\"train_spikes_heldout\"].shape))\n",
        "    return array_dict\n",
        "\n",
        "  data_dict_tensor = make_stacked_tensor(dataset, \n",
        "                                 spk_field = spk_field, \n",
        "                                 hospk_field = hospk_field, \n",
        "                                 make_params= make_params, \n",
        "                                 trial_mask= trial_mask)\n",
        "  \n",
        "  save_to_h5(data_dict_tensor,save_path_tensor, overwrite = True)\n",
        "\n",
        "save_path_tensor = \"train_input_tensor.h5\"\n",
        "make_train_tensor(dataset, save_path_tensor = save_path_tensor)"
      ]
    },
    {
      "cell_type": "markdown",
      "metadata": {
        "id": "fkZO-Sx8kvM4"
      },
      "source": [
        "## Creating Dataloaders"
      ]
    },
    {
      "cell_type": "code",
      "execution_count": null,
      "metadata": {
        "colab": {
          "base_uri": "https://localhost:8080/"
        },
        "id": "gdwFH213kOvc",
        "outputId": "b7a1317b-4e19-4524-9355-cad52572fd72"
      },
      "outputs": [],
      "source": [
        "def make_array_dataset(train_data_path):\n",
        "\n",
        "  with h5py.File(train_data_path, \"r\") as h5file:\n",
        "    # Store the dataset\n",
        "    heldin = to_tensor(h5file[\"train_spikes_heldin\"][()])\n",
        "    heldout = to_tensor(h5file[\"train_spikes_heldout\"][()])\n",
        "\n",
        "  return heldin, torch.cat([heldin, heldout], dim=1)\n",
        "\n",
        "def make_tensor_dataset(train_data_path):\n",
        "\n",
        "  with h5py.File(train_data_path, \"r\") as h5file:\n",
        "    # Store the dataset\n",
        "    heldin = to_tensor(h5file[\"train_spikes_heldin\"][()])\n",
        "    heldout = to_tensor(h5file[\"train_spikes_heldout\"][()])\n",
        "\n",
        "  return heldin, torch.cat([heldin, heldout], dim=2)\n",
        "\n",
        "train_array = make_array_dataset(save_path_array)\n",
        "train_tensor = make_tensor_dataset(save_path_tensor)\n",
        "\n",
        "train_ds_array = TensorDataset(*train_array)\n",
        "train_ds_tensor = TensorDataset(*train_tensor)\n",
        "\n",
        "train_dataloader_array = DataLoader(train_ds_array, \n",
        "                              batch_size = 400,\n",
        "                              num_workers = 4,\n",
        "                              shuffle = True)\n",
        "\n",
        "train_dataloader_tensor = DataLoader(train_ds_tensor,\n",
        "                                    batch_size = 400,\n",
        "                                    num_workers = 4,\n",
        "                                    shuffle = False)"
      ]
    },
    {
      "cell_type": "markdown",
      "metadata": {
        "id": "HJHhUxHH8856"
      },
      "source": [
        "## Code your autoencoder!"
      ]
    },
    {
      "cell_type": "code",
      "execution_count": null,
      "metadata": {
        "id": "b6JGdI0WqNj1"
      },
      "outputs": [],
      "source": [
        "# Vanilla AE code\n",
        "\n",
        "class VanillaAE(torch.nn.Module):\n",
        "  # TODO: Complete the autoencoder model\n",
        "  # Encoder requirements: \n",
        "  #   - ReLU activation functions\n",
        "  #   - Input size = n_neurons_in\n",
        "  #   - Hidden layer sizes : 64, 16\n",
        "  #   - Output size: latent_dim\n",
        "  # Decoder requirements:\n",
        "  #   - Input size = latent_dim\n",
        "  #   - Hidden layer sizes : 16, 64\n",
        "  #   - Output size: n_neurons_out\n",
        "\n",
        "    def __init__(self, n_neurons_in, n_neurons_out, latent_dim):\n",
        "        super().__init__()\n",
        "          \n",
        "        self.n_neurons_in = n_neurons_in\n",
        "        self.n_neurons_out = n_neurons_out\n",
        "        self.latent_dim = latent_dim\n",
        "        #----------------For Students-----------------------\n",
        "        self.encoder = torch.nn.Sequential(\n",
        "            torch.nn.Linear(self.n_neurons_in, 64),\n",
        "            torch.nn.ReLU(),\n",
        "            torch.nn.Linear(64, 16),\n",
        "            torch.nn.ReLU(),\n",
        "            torch.nn.Linear(16, self.latent_dim)\n",
        "        )\n",
        "          \n",
        "        self.decoder = torch.nn.Sequential(\n",
        "            torch.nn.Linear(self.latent_dim, 16),\n",
        "            torch.nn.ReLU(),\n",
        "            torch.nn.Linear(16, 64),\n",
        "            torch.nn.ReLU(),\n",
        "            torch.nn.Linear(64, self.n_neurons_out),\n",
        "        )\n",
        "        #----------------------------------------------------\n",
        "\n",
        "    def forward(self, x):\n",
        "        # Implement forward pass of AE network. \n",
        "        # Be sure to return both the predictions and the latent activity\n",
        "        #----------------For Students-----------------------\n",
        "        latents = self.encoder(x)\n",
        "        log_rates = self.decoder(latents)\n",
        "        return log_rates, latents\n",
        "        #----------------------------------------------------\n",
        "        "
      ]
    },
    {
      "cell_type": "markdown",
      "metadata": {
        "id": "b5fbbr4e9F_t"
      },
      "source": [
        "## Train your autoencoder"
      ]
    },
    {
      "cell_type": "code",
      "execution_count": null,
      "metadata": {
        "id": "PVw09H-cqQ3O"
      },
      "outputs": [],
      "source": [
        "# Model Initialization\n",
        "model = VanillaAE(n_neurons_in = 107, n_neurons_out=142, latent_dim = 3)\n",
        "  \n",
        "# Train using your chosen loss function\n",
        "#----------------For Students-----------------------\n",
        "loss_function = F.poisson_nll_loss\n",
        "#----------------------------------------------------\n",
        "\n",
        "# Using an Adam Optimizer with lr = 0.1\n",
        "optimizer = torch.optim.Adam(model.parameters(),\n",
        "                             lr = 1e-3,\n",
        "                             weight_decay = 1e-8)"
      ]
    },
    {
      "cell_type": "code",
      "execution_count": null,
      "metadata": {
        "colab": {
          "base_uri": "https://localhost:8080/"
        },
        "id": "JpFtQ1XDqTgO",
        "outputId": "904e7a6b-a321-42da-b976-0320a60e44de"
      },
      "outputs": [],
      "source": [
        "# Build your training loop\n",
        "epochs = 200\n",
        "outputs = []\n",
        "losses = []\n",
        "for epoch in range(epochs):\n",
        "  if np.mod(epoch, 10)==0:\n",
        "    print(\"Epoch: {}\".format(epoch))\n",
        "  for (data_batch, data_recon) in train_dataloader_array:\n",
        "\n",
        "    #------------------For Students------------------------\n",
        "      \n",
        "    # Output of Autoencoder\n",
        "    reconstructed, latents = model(data_batch)\n",
        "      \n",
        "    # Calculating the loss function\n",
        "    loss = loss_function(reconstructed, data_recon)\n",
        "      \n",
        "\n",
        "    optimizer.zero_grad()\n",
        "    loss.backward()\n",
        "    optimizer.step()\n",
        "    #-----------------------------------------------------\n",
        "\n",
        "    # Storing the losses in a list for plotting\n",
        "    losses.append(loss.detach().numpy())\n",
        "  outputs.append((epochs, data_batch, reconstructed))\n",
        "  \n"
      ]
    },
    {
      "cell_type": "markdown",
      "metadata": {
        "id": "wxoUtaXS9Oht"
      },
      "source": [
        "## Latent trajectories!"
      ]
    },
    {
      "cell_type": "code",
      "execution_count": null,
      "metadata": {
        "colab": {
          "base_uri": "https://localhost:8080/",
          "height": 321
        },
        "id": "NyGKEAC6rUyQ",
        "outputId": "d79f049a-b20e-4be0-ab20-9aaf4b4e943c"
      },
      "outputs": [],
      "source": [
        "# Defining the Plot Style\n",
        "plt.style.use('fivethirtyeight')\n",
        "plt.xlabel('Iterations')\n",
        "plt.ylabel('Loss')\n",
        "  \n",
        "# Plotting the last 100 values\n",
        "plt.plot(losses)"
      ]
    },
    {
      "cell_type": "code",
      "execution_count": null,
      "metadata": {
        "colab": {
          "base_uri": "https://localhost:8080/",
          "height": 316
        },
        "id": "U8K4ojfQqe_J",
        "outputId": "8d32f122-090e-4b5c-c829-e99c1fae3874"
      },
      "outputs": [],
      "source": [
        "# Plot Latent trajectories\n",
        "print(train_array[0].shape)\n",
        "pred_logrates, latents = model(train_array[0])\n",
        "latents = latents.detach().numpy()\n",
        "print(latents.shape)\n",
        "\n",
        "fig1 = plt.figure()\n",
        "ax1 = fig1.add_subplot(111, projection=\"3d\")\n",
        "ax1.scatter(*latents.T)\n",
        "ax1.set_xlabel('x')\n",
        "ax1.set_ylabel('y')\n",
        "ax1.set_zlabel('z')\n"
      ]
    },
    {
      "cell_type": "code",
      "execution_count": null,
      "metadata": {
        "colab": {
          "base_uri": "https://localhost:8080/",
          "height": 551
        },
        "id": "Bnev4Sno5VW_",
        "outputId": "cd0633a0-29ce-4fd1-d7c8-ccda352246a7"
      },
      "outputs": [],
      "source": [
        "num_trials = 5\n",
        "cmap = cmr.rainforest\n",
        "colors = cmap(np.linspace(0, 1, num_trials))\n",
        "latents = []\n",
        "fig2 = plt.figure()\n",
        "ax2 = fig2.add_subplot(111, projection=\"3d\")\n",
        "\n",
        "fig3 = plt.figure()\n",
        "ax3 = fig3.add_subplot(111)\n",
        "print(train_tensor[0].shape)\n",
        "ac1 = np.zeros(num_trials)\n",
        "_, latents_all = model(train_tensor[0])\n",
        "latents_all = latents_all.detach().numpy()\n",
        "n_trials, n_steps, n_latents = latents_all.shape\n",
        "latents_flat = latents_all.reshape(-1, n_latents)\n",
        "pca = PCA(n_components=3)\n",
        "latents = pca.fit_transform(latents_flat)\n",
        "latents = latents.reshape(n_trials, n_steps, 3)\n",
        "explained_variance = np.sum(pca.explained_variance_ratio_)\n",
        "\n",
        "t = np.linspace(0, n_steps, n_steps)\n",
        "\n",
        "for i in range(num_trials):\n",
        "  ax2.plot(latents[i,:, 0], latents[i,:,1], latents[i,:,2], color = colors[i,:])\n",
        "  ax3 = fig3.add_subplot(num_trials, 1, i+1)\n",
        "  ax3.plot(t, latents[i,:,0])\n",
        "  ax3.axis(\"off\")\n"
      ]
    },
    {
      "cell_type": "markdown",
      "metadata": {
        "id": "I2iBMAUL68iu"
      },
      "source": [
        "# Part 2: Sequential Auto-Encoders"
      ]
    },
    {
      "cell_type": "markdown",
      "metadata": {
        "id": "MOlgCwAz7CbP"
      },
      "source": [
        "## Why Neural Dynamics are important:\n",
        "\n",
        "\n",
        "\n",
        "\n",
        "\n"
      ]
    },
    {
      "cell_type": "code",
      "execution_count": null,
      "metadata": {
        "id": "816adYIu7amy"
      },
      "outputs": [],
      "source": [
        "# Three neuron illustration of neural dynamics"
      ]
    },
    {
      "cell_type": "markdown",
      "metadata": {
        "id": "vQmhREzM7nWT"
      },
      "source": [
        "## Evaluation Metrics"
      ]
    },
    {
      "cell_type": "markdown",
      "metadata": {
        "id": "nin1SlcK7u3L"
      },
      "source": [
        "### Practical"
      ]
    },
    {
      "cell_type": "code",
      "execution_count": null,
      "metadata": {},
      "outputs": [],
      "source": [
        "# velocity decoding"
      ]
    },
    {
      "cell_type": "markdown",
      "metadata": {
        "id": "z-VTc5Qm7zFa"
      },
      "source": [
        "### Scientific\n"
      ]
    },
    {
      "cell_type": "markdown",
      "metadata": {},
      "source": []
    },
    {
      "cell_type": "markdown",
      "metadata": {
        "id": "o9rs6nChI0rC"
      },
      "source": [
        "## Types of RNNs"
      ]
    },
    {
      "cell_type": "code",
      "execution_count": null,
      "metadata": {
        "id": "VYv_3V8ZJ7pz"
      },
      "outputs": [],
      "source": [
        "class AbstractRNN(nn.Module):\n",
        "  def __init__(self, cell):\n",
        "    super().__init__()\n",
        "    self.cell = cell\n",
        "  def forward(self, input, h_0):\n",
        "    hidden = h_0\n",
        "    states = []\n",
        "    #---------------------Student's Work--------------------------------------------\n",
        "    for input_step in input.transpose(0,1):\n",
        "      hidden = self.cell(input_step, hidden)\n",
        "      states.append(hidden)\n",
        "    states = torch.stack(states, dim=1)\n",
        "    #---------------------------------------------------------------------------\n",
        "    return states, hidden"
      ]
    },
    {
      "cell_type": "markdown",
      "metadata": {
        "id": "_ivp8wTKI-9K"
      },
      "source": [
        "### Linear RNNs"
      ]
    },
    {
      "cell_type": "code",
      "execution_count": null,
      "metadata": {
        "id": "YqfNtU5RJOGN"
      },
      "outputs": [],
      "source": [
        "class LinearRNN(nn.Module):\n",
        "  def __init__(self, input_size, hidden_size):\n",
        "    super().__init__()\n",
        "    #---------------Student's work------------------------------------------\n",
        "    self.input_size = input_size\n",
        "    self.hidden_size = hidden_size\n",
        "    self.in2hidden = nn.Linear(input_size + hidden_size, hidden_size)\n",
        "    #-----------------------------------------------------------------------\n",
        "  def forward(self, input, hidden):\n",
        "    combined = torch.cat((input, hidden),1)\n",
        "    hidden =self.in2hidden(combined)\n",
        "    return hidden"
      ]
    },
    {
      "cell_type": "markdown",
      "metadata": {
        "id": "y5WTWjPKJDgG"
      },
      "source": [
        "### Nonlinear RNNs"
      ]
    },
    {
      "cell_type": "code",
      "execution_count": null,
      "metadata": {
        "id": "Zk6AnDnrPwey"
      },
      "outputs": [],
      "source": [
        "class NonLinearRNN(nn.Module):\n",
        "  def __init__(self, input_size, hidden_size):\n",
        "    super().__init__()\n",
        "    #---------------Student's work------------------------------------------\n",
        "    self.input_size = input_size\n",
        "    self.hidden_size = hidden_size\n",
        "    self.in2hidden = nn.Linear(input_size + hidden_size, hidden_size)\n",
        "    #-----------------------------------------------------------------------\n",
        "\n",
        "  def forward(self, input, hidden):\n",
        "    combined = torch.cat((input, hidden),1)\n",
        "    #---------------Student's work------------------------------------------\n",
        "    hidden =  torch.tanh(self.in2hidden(combined))\n",
        "    #-----------------------------------------------------------------------\n",
        "    return hidden"
      ]
    },
    {
      "cell_type": "markdown",
      "metadata": {
        "id": "Cmou8RJBJIqB"
      },
      "source": [
        "### Gated Recurrent Units"
      ]
    },
    {
      "cell_type": "code",
      "execution_count": null,
      "metadata": {
        "id": "1_8zWmGSQIrj"
      },
      "outputs": [],
      "source": [
        "class GRUTemp(nn.Module):\n",
        "  def __init__(self, input_size, hidden_size):\n",
        "    super(GRUTemp, self).__init__()\n",
        "    self.input_size = input_size\n",
        "    self.hidden_size = hidden_size\n",
        "    #---------------Student's work------------------------------------------\n",
        "    self.in2hidden = nn.Linear(input_size, 3*hidden_size)\n",
        "    self.hidden2hidden = nn.Linear(hidden_size, 3*hidden_size)\n",
        "    #-----------------------------------------------------------------------\n",
        "    self.reset_parameters()\n",
        "\n",
        "  def reset_parameters(self):\n",
        "    std = 1.0 / np.sqrt(self.hidden_size)\n",
        "    for w in self.parameters():\n",
        "      w.data.uniform_(-std, std)\n",
        "\n",
        "  def forward(self, input, hidden=None):\n",
        "    if hidden is None:\n",
        "        hidden = Variable(input.new_zeros(input.size(0), self.hidden_size))\n",
        "    #---------------Student's work------------------------------------------\n",
        "    x_t = self.in2hidden(input)\n",
        "    h_t = self.hidden2hidden(hidden)\n",
        "\n",
        "    x_reset, x_upd, x_new = x_t.chunk(3,1)\n",
        "    h_reset, h_upd, h_new = h_t.chunk(3,1)\n",
        "\n",
        "    reset = torch.sigmoid(x_reset + h_reset)\n",
        "    update = torch.sigmoid(x_upd + h_upd)\n",
        "    new_gate = torch.tanh(x_new + (reset * h_new))\n",
        "\n",
        "    h_out = update * hidden + (1 - update) * new_gate\n",
        "    #-----------------------------------------------------------------------\n",
        "    return h_out"
      ]
    },
    {
      "cell_type": "markdown",
      "metadata": {
        "id": "MzE2HS_q75Y-"
      },
      "source": [
        "## Sequential Auto-Encoder Model"
      ]
    },
    {
      "cell_type": "code",
      "execution_count": 46,
      "metadata": {
        "colab": {
          "base_uri": "https://localhost:8080/",
          "height": 522
        },
        "id": "HHkXJBWAtKZu",
        "outputId": "8e85c53d-9f4c-46cf-efca-aeabb82a2ca3"
      },
      "outputs": [
        {
          "name": "stdout",
          "output_type": "stream",
          "text": [
            "Epoch: 0\n",
            "Epoch: 10\n",
            "Epoch: 20\n",
            "Epoch: 30\n",
            "Epoch: 40\n",
            "Epoch: 50\n",
            "Epoch: 60\n",
            "Epoch: 70\n",
            "Epoch: 80\n",
            "Epoch: 90\n",
            "Epoch: 100\n",
            "Epoch: 110\n",
            "Epoch: 120\n",
            "Epoch: 130\n",
            "Epoch: 140\n",
            "Epoch: 150\n",
            "Epoch: 160\n",
            "Epoch: 170\n",
            "Epoch: 180\n",
            "Epoch: 190\n",
            "Epoch: 0\n",
            "Epoch: 10\n",
            "Epoch: 20\n",
            "Epoch: 30\n",
            "Epoch: 40\n",
            "Epoch: 50\n",
            "Epoch: 60\n",
            "Epoch: 70\n",
            "Epoch: 80\n",
            "Epoch: 90\n",
            "Epoch: 100\n",
            "Epoch: 110\n",
            "Epoch: 120\n",
            "Epoch: 130\n",
            "Epoch: 140\n",
            "Epoch: 150\n",
            "Epoch: 160\n",
            "Epoch: 170\n",
            "Epoch: 180\n",
            "Epoch: 190\n",
            "Epoch: 0\n",
            "Epoch: 10\n",
            "Epoch: 20\n",
            "Epoch: 30\n",
            "Epoch: 40\n",
            "Epoch: 50\n",
            "Epoch: 60\n",
            "Epoch: 70\n",
            "Epoch: 80\n",
            "Epoch: 90\n",
            "Epoch: 100\n",
            "Epoch: 110\n",
            "Epoch: 120\n",
            "Epoch: 130\n",
            "Epoch: 140\n",
            "Epoch: 150\n",
            "Epoch: 160\n",
            "Epoch: 170\n",
            "Epoch: 180\n",
            "Epoch: 190\n"
          ]
        }
      ],
      "source": [
        "# Vanilla SAE code\n",
        "class VanillaSAE(torch.nn.Module):\n",
        "    def __init__(self, input_size = 107, latent_size = 64, encoder_size = 64, out_size = 142, cell_type = NonLinearRNN):\n",
        "        super().__init__()\n",
        "        #---------------Student's work------------------------------------------\n",
        "        self.encoder = nn.GRU(\n",
        "            input_size=input_size,\n",
        "            hidden_size=encoder_size,\n",
        "            batch_first=True,\n",
        "            bidirectional=True,\n",
        "        )\n",
        "\n",
        "        self.ic_linear = nn.Linear(2 * encoder_size, latent_size)\n",
        "  \n",
        "        self.decoder = AbstractRNN(cell_type(input_size=1, hidden_size=latent_size))\n",
        "        self.readout = nn.Linear(latent_size, out_size)\n",
        "        #----------------------------------------------------------------------\n",
        "  \n",
        "    def forward(self, x):\n",
        "        # Implement forward pass of AE network\n",
        "        #---------------Student's work------------------------------------------\n",
        "        _, h_n = self.encoder(x)\n",
        "\n",
        "        h_n = torch.cat([*h_n], -1)\n",
        "        B, T, _ = x.shape\n",
        "\n",
        "        input_placeholder = torch.zeros((B, T, 1))\n",
        "        ic = self.ic_linear( h_n)\n",
        "\n",
        "        latents, hidden = self.decoder(input_placeholder, ic)\n",
        "\n",
        "        log_rates = self.readout(latents)\n",
        "        #----------------------------------------------------------------------\n",
        "        return log_rates, latents\n",
        "\n",
        "lin_sae = VanillaSAE(107, 3, 64, 142, LinearRNN)\n",
        "nl_sae = VanillaSAE(107, 3, 64, 142, NonLinearRNN)\n",
        "gru_sae = VanillaSAE(107, 3, 64, 142, GRUTemp)\n",
        "sae_list = [lin_sae, nl_sae, gru_sae]\n",
        "\n",
        "# Build your training loop\n",
        "epochs = 200\n",
        "outputs = []\n",
        "losses = []\n",
        "for sae in sae_list:\n",
        "  for epoch in range(epochs):\n",
        "    if np.mod(epoch, 10)==0:\n",
        "      print(\"Epoch: {}\".format(epoch))\n",
        "    for (data_batch, data_recon) in train_dataloader_tensor:\n",
        "\n",
        "      #------------------For Students------------------------\n",
        "      # Output of Autoencoder\n",
        "      reconstructed, latents = sae(data_batch)\n",
        "        \n",
        "      # Calculating the loss function\n",
        "      loss = loss_function(reconstructed, data_recon)\n",
        "      optimizer.zero_grad()\n",
        "      loss.backward()\n",
        "      optimizer.step()\n",
        "      #-----------------------------------------------------\n",
        "\n",
        "      # Storing the losses in a list for plotting\n",
        "      # losses.append(loss.detach().numpy())\n",
        "    # outputs.append((epochs, data_batch, reconstructed))"
      ]
    },
    {
      "cell_type": "markdown",
      "metadata": {
        "id": "BaWcWSx98Cp9"
      },
      "source": [
        "## SAE Latent Trajectories"
      ]
    },
    {
      "cell_type": "code",
      "execution_count": 45,
      "metadata": {
        "id": "jg0xzmV047jQ"
      },
      "outputs": [
        {
          "name": "stdout",
          "output_type": "stream",
          "text": [
            "torch.Size([75, 7, 107])\n",
            "torch.Size([75, 7, 107])\n",
            "torch.Size([75, 7, 107])\n"
          ]
        },
        {
          "data": {
            "image/png": "[encoded data removed]",
            "text/plain": [
              "<Figure size 432x288 with 3 Axes>"
            ]
          },
          "metadata": {
            "needs_background": "light"
          },
          "output_type": "display_data"
        },
        {
          "data": {
            "image/png": "[encoded data removed]",
            "text/plain": [
              "<Figure size 432x288 with 30 Axes>"
            ]
          },
          "metadata": {
            "needs_background": "light"
          },
          "output_type": "display_data"
        }
      ],
      "source": [
        "num_trials = 10\n",
        "cmap = cmr.rainforest\n",
        "colors = cmap(np.linspace(0, 1, num_trials))\n",
        "latents = []\n",
        "fig2 = plt.figure()\n",
        "fig3 = plt.figure()\n",
        "num_models = len(sae_list)\n",
        "for i, sae in enumerate(sae_list):\n",
        "  ax2 = fig2.add_subplot(num_models, 1, i+1, projection=\"3d\")\n",
        "  print(train_tensor[0].shape)\n",
        "  ac1 = np.zeros(num_trials)\n",
        "  _, latents_all = sae(train_tensor[0])\n",
        "  latents_all = latents_all.detach().numpy()\n",
        "  n_trials, n_steps, n_latents = latents_all.shape\n",
        "  latents_flat = latents_all.reshape(-1, n_latents)\n",
        "  pca = PCA(n_components=3)\n",
        "  latents = pca.fit_transform(latents_flat)\n",
        "  latents = latents.reshape(n_trials, n_steps, 3)\n",
        "  explained_variance = np.sum(pca.explained_variance_ratio_)\n",
        "\n",
        "  t = np.linspace(0, n_steps, n_steps)\n",
        "\n",
        "  for j in range(num_trials):\n",
        "    ax2.plot(latents[j,:, 0], latents[j,:,1], latents[j,:,2], color = colors[j,:])\n",
        "    ax3 = fig3.add_subplot(num_trials, num_models, num_models*i + j +1)\n",
        "    ax3.plot(t, latents[j,:,1])\n",
        "    ax3.axis(\"off\")\n"
      ]
    },
    {
      "cell_type": "markdown",
      "metadata": {
        "id": "XWAIxZyO8H4O"
      },
      "source": [
        "## SAE vs. AE: How much does a dynamics model get us?"
      ]
    },
    {
      "cell_type": "code",
      "execution_count": null,
      "metadata": {
        "id": "qD7yT05Q5tMV"
      },
      "outputs": [],
      "source": [
        "# Compare metrics for AE and SAE"
      ]
    },
    {
      "cell_type": "markdown",
      "metadata": {
        "id": "mwngCPOM61Qa"
      },
      "source": [
        "\n",
        "\n",
        "# Part 3: Variational Auto-Encoding"
      ]
    },
    {
      "cell_type": "markdown",
      "metadata": {
        "id": "hKqbKEMZ-Is8"
      },
      "source": [
        "## Overfitting problem"
      ]
    },
    {
      "cell_type": "code",
      "execution_count": null,
      "metadata": {
        "id": "cr_qCg2S6Fy-"
      },
      "outputs": [],
      "source": [
        "# Illustrate overfitting problems"
      ]
    },
    {
      "cell_type": "markdown",
      "metadata": {
        "id": "Kt0PbGIH-PWc"
      },
      "source": [
        "## Variational auto-encoders"
      ]
    },
    {
      "cell_type": "code",
      "execution_count": null,
      "metadata": {
        "id": "vio1hyZq9g4P"
      },
      "outputs": [],
      "source": [
        "# Illustrate how variational models help"
      ]
    },
    {
      "cell_type": "markdown",
      "metadata": {
        "id": "JaUTfFs7_f9L"
      },
      "source": [
        "## What we need to add"
      ]
    },
    {
      "cell_type": "markdown",
      "metadata": {
        "id": "N5CuDFgU_jsn"
      },
      "source": [
        "### Probability distribution over initial conditions"
      ]
    },
    {
      "cell_type": "code",
      "execution_count": null,
      "metadata": {
        "id": "ouYzoRkv97oW"
      },
      "outputs": [],
      "source": [
        "# Probabilistic sampling"
      ]
    },
    {
      "cell_type": "markdown",
      "metadata": {
        "id": "gq-b_TJQ_qnN"
      },
      "source": [
        "### Prior on IC distribution"
      ]
    },
    {
      "cell_type": "code",
      "execution_count": null,
      "metadata": {
        "id": "IqCu01np9xTb"
      },
      "outputs": [],
      "source": [
        "# KL divergence"
      ]
    },
    {
      "cell_type": "markdown",
      "metadata": {
        "id": "RHRyjQAy_3yU"
      },
      "source": [
        "## Code the v-SAE Class"
      ]
    },
    {
      "cell_type": "code",
      "execution_count": null,
      "metadata": {
        "id": "K8soMouQ6Ubo"
      },
      "outputs": [],
      "source": [
        "# Modify SAE to be variational\n",
        "class VariationalSAE(torch.nn.Module):\n",
        "    def __init__(self):\n",
        "        super().__init__()\n",
        "          \n",
        "        \n",
        "        self.encoder = \"Make an encoder network to find initial conditions\"\n",
        "       \n",
        "        self.decoder = \"Make a decoder network to model latent dynamics\"\n",
        "\n",
        "        self.readout = \"Simple linear readouts\"\n",
        "  \n",
        "    def forward(self, x):\n",
        "        # Implement forward pass of v-SAE network\n",
        "        return decoded"
      ]
    },
    {
      "cell_type": "markdown",
      "metadata": {
        "id": "GfSnexQsASHU"
      },
      "source": [
        "## Train the v-SAE"
      ]
    },
    {
      "cell_type": "code",
      "execution_count": null,
      "metadata": {
        "id": "6tpW0Fq59eLp"
      },
      "outputs": [],
      "source": []
    },
    {
      "cell_type": "markdown",
      "metadata": {
        "id": "urjngpbBBEYn"
      },
      "source": [
        "## Compare v-SAE to SAE and AE"
      ]
    },
    {
      "cell_type": "markdown",
      "metadata": {
        "id": "EIAFz70DBTMj"
      },
      "source": [
        "### Visualize ICs"
      ]
    },
    {
      "cell_type": "markdown",
      "metadata": {
        "id": "UQ5bRYBDBWEO"
      },
      "source": [
        "### Compare metrics"
      ]
    },
    {
      "cell_type": "markdown",
      "metadata": {
        "id": "UogRPeL2BaeM"
      },
      "source": [
        "# Part 4: Non-autonomous dynamics"
      ]
    },
    {
      "cell_type": "markdown",
      "metadata": {
        "id": "6QVv-lLKCD7n"
      },
      "source": [
        "## Why do we care about inputs?"
      ]
    },
    {
      "cell_type": "code",
      "execution_count": null,
      "metadata": {
        "id": "myj9DxCvCJRC"
      },
      "outputs": [],
      "source": [
        "# Sensory perturbations illustration"
      ]
    },
    {
      "cell_type": "markdown",
      "metadata": {
        "id": "UE6Wb1AmBnpC"
      },
      "source": [
        "### Autonomous vs. non-autonomous dynamics"
      ]
    },
    {
      "cell_type": "code",
      "execution_count": null,
      "metadata": {
        "id": "cSdg_0SXB7zD"
      },
      "outputs": [],
      "source": []
    },
    {
      "cell_type": "markdown",
      "metadata": {
        "id": "EueGuTLIBsG6"
      },
      "source": [
        "### Can we modify SAE to also recover inputs?"
      ]
    },
    {
      "cell_type": "code",
      "execution_count": null,
      "metadata": {
        "id": "OoZm71wIB8fu"
      },
      "outputs": [],
      "source": []
    },
    {
      "cell_type": "markdown",
      "metadata": {
        "id": "kTOMaJtRCdpI"
      },
      "source": [
        "## Controller module"
      ]
    },
    {
      "cell_type": "code",
      "execution_count": null,
      "metadata": {
        "id": "aU2q2lpcCheu"
      },
      "outputs": [],
      "source": [
        "# Illustrate what the controller does"
      ]
    },
    {
      "cell_type": "markdown",
      "metadata": {
        "id": "O3c0Ne0yCwhb"
      },
      "source": [
        "## Add Controller to v-SAE"
      ]
    },
    {
      "cell_type": "code",
      "execution_count": null,
      "metadata": {
        "id": "-YyznMGZDFWp"
      },
      "outputs": [],
      "source": [
        "# Vanilla SAE code\n",
        "class LFADSLite(torch.nn.Module):\n",
        "    def __init__(self):\n",
        "        super().__init__()\n",
        "          \n",
        "\n",
        "        self.encoder = \"Make an encoder network to find initial conditions\"\n",
        "        # self.encoder = torch.nn.Sequential(\n",
        "        #     torch.nn.Linear(28 * 28, 128),\n",
        "        #     torch.nn.ReLU(),\n",
        "        #     torch.nn.Linear(128, 64),\n",
        "        #     torch.nn.ReLU(),\n",
        "        #     torch.nn.Linear(64, 36),\n",
        "        #     torch.nn.ReLU(),\n",
        "        #     torch.nn.Linear(36, 18),\n",
        "        #     torch.nn.ReLU(),\n",
        "        #     torch.nn.Linear(18, 9)\n",
        "        # )\n",
        "          \n",
        "        self.decoder = \"Make a decoder network to model latent dynamics\"\n",
        "        # self.decoder = torch.nn.Sequential(\n",
        "        #     torch.nn.Linear(9, 18),\n",
        "        #     torch.nn.ReLU(),\n",
        "        #     torch.nn.Linear(18, 36),\n",
        "        #     torch.nn.ReLU(),\n",
        "        #     torch.nn.Linear(36, 64),\n",
        "        #     torch.nn.ReLU(),\n",
        "        #     torch.nn.Linear(64, 128),\n",
        "        #     torch.nn.ReLU(),\n",
        "        #     torch.nn.Linear(128, 28 * 28),\n",
        "        #     torch.nn.Sigmoid()\n",
        "        # )\n",
        "\n",
        "        self.readout = \"Simple linear readouts\"\n",
        "  \n",
        "    def forward(self, x):\n",
        "        # Implement forward pass of AE network\n",
        "\n",
        "        # encoded = self.encoder(x)\n",
        "        # decoded = self.decoder(encoded)\n",
        "        return decoded"
      ]
    },
    {
      "cell_type": "markdown",
      "metadata": {
        "id": "Buayi317DhFr"
      },
      "source": [
        "## Train LFADS-lite"
      ]
    },
    {
      "cell_type": "code",
      "execution_count": null,
      "metadata": {
        "id": "R5AUPUqSDk5k"
      },
      "outputs": [],
      "source": []
    },
    {
      "cell_type": "markdown",
      "metadata": {
        "id": "ckFupmnsDSI5"
      },
      "source": [
        "## LFADS-lite visualizations"
      ]
    },
    {
      "cell_type": "markdown",
      "metadata": {
        "id": "rTI4WaaVDtCm"
      },
      "source": [
        "### Latent trajectories"
      ]
    },
    {
      "cell_type": "markdown",
      "metadata": {
        "id": "cDYLL9S5DyXz"
      },
      "source": [
        "### Inferred inputs\n"
      ]
    },
    {
      "cell_type": "markdown",
      "metadata": {
        "id": "HEcvWBiMDd_1"
      },
      "source": [
        "## Compare to SAE/AE\n"
      ]
    },
    {
      "cell_type": "code",
      "execution_count": null,
      "metadata": {
        "id": "qohWJX2SD-jG"
      },
      "outputs": [],
      "source": []
    },
    {
      "cell_type": "markdown",
      "metadata": {
        "id": "Tnoyw22SEgs2"
      },
      "source": [
        "# Part 5: Future Directions"
      ]
    },
    {
      "cell_type": "markdown",
      "metadata": {
        "id": "GhVxgDDjEk39"
      },
      "source": [
        "## Interpretability"
      ]
    },
    {
      "cell_type": "markdown",
      "metadata": {
        "id": "Zy87ZCZSEn-l"
      },
      "source": [
        "## Neural Manifolds"
      ]
    }
  ],
  "metadata": {
    "colab": {
      "collapsed_sections": [
        "CbVaWotNFO8J",
        "vQmhREzM7nWT",
        "nin1SlcK7u3L",
        "XWAIxZyO8H4O",
        "mwngCPOM61Qa",
        "hKqbKEMZ-Is8",
        "Kt0PbGIH-PWc",
        "JaUTfFs7_f9L",
        "N5CuDFgU_jsn",
        "gq-b_TJQ_qnN",
        "RHRyjQAy_3yU",
        "GfSnexQsASHU",
        "urjngpbBBEYn",
        "EIAFz70DBTMj",
        "UQ5bRYBDBWEO",
        "UogRPeL2BaeM",
        "6QVv-lLKCD7n",
        "UE6Wb1AmBnpC",
        "EueGuTLIBsG6",
        "kTOMaJtRCdpI",
        "O3c0Ne0yCwhb",
        "Buayi317DhFr",
        "ckFupmnsDSI5",
        "rTI4WaaVDtCm",
        "cDYLL9S5DyXz",
        "HEcvWBiMDd_1",
        "Tnoyw22SEgs2",
        "GhVxgDDjEk39",
        "Zy87ZCZSEn-l"
      ],
      "name": "CVCalTechWorkshop.ipynb",
      "provenance": []
    },
    "kernelspec": {
      "display_name": "Python 3.10.4 ('chenEnv')",
      "language": "python",
      "name": "python3"
    },
    "language_info": {
      "codemirror_mode": {
        "name": "ipython",
        "version": 3
      },
      "file_extension": ".py",
      "mimetype": "text/x-python",
      "name": "python",
      "nbconvert_exporter": "python",
      "pygments_lexer": "ipython3",
      "version": "3.10.4"
    },
    "vscode": {
      "interpreter": {
        "hash": "631d5e3f6bfb40b7f98d2c2258ae180271e53f6250482d9c75ab32e6c827f8e2"
      }
    }
  },
  "nbformat": 4,
  "nbformat_minor": 0
}
