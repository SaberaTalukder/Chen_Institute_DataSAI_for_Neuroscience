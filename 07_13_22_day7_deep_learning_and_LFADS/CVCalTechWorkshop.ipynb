{
  "cells": [
    {
      "cell_type": "markdown",
      "metadata": {
        "id": "L7CZuGa48VD_"
      },
      "source": [
        "# Part 0: Setup"
      ]
    },
    {
      "cell_type": "markdown",
      "metadata": {
        "id": "nMhAZ4_PFLBN"
      },
      "source": [
        "## Environment setup\n"
      ]
    },
    {
      "cell_type": "code",
      "execution_count": 1,
      "metadata": {
        "id": "H4esJ1y0fIrV"
      },
      "outputs": [
        {
          "name": "stdout",
          "output_type": "stream",
          "text": [
            "Requirement already satisfied: torch in c:\\users\\chris\\miniconda3\\envs\\chenenv\\lib\\site-packages (1.11.0)\n",
            "Requirement already satisfied: typing-extensions in c:\\users\\chris\\miniconda3\\envs\\chenenv\\lib\\site-packages (from torch) (4.2.0)\n",
            "Requirement already satisfied: pytorch_lightning in c:\\users\\chris\\miniconda3\\envs\\chenenv\\lib\\site-packages (1.6.4)\n",
            "Requirement already satisfied: typing-extensions>=4.0.0 in c:\\users\\chris\\miniconda3\\envs\\chenenv\\lib\\site-packages (from pytorch_lightning) (4.2.0)\n",
            "Requirement already satisfied: torch>=1.8.* in c:\\users\\chris\\miniconda3\\envs\\chenenv\\lib\\site-packages (from pytorch_lightning) (1.11.0)\n",
            "Requirement already satisfied: torchmetrics>=0.4.1 in c:\\users\\chris\\miniconda3\\envs\\chenenv\\lib\\site-packages (from pytorch_lightning) (0.9.1)\n",
            "Requirement already satisfied: pyDeprecate>=0.3.1 in c:\\users\\chris\\miniconda3\\envs\\chenenv\\lib\\site-packages (from pytorch_lightning) (0.3.2)\n",
            "Requirement already satisfied: tensorboard>=2.2.0 in c:\\users\\chris\\miniconda3\\envs\\chenenv\\lib\\site-packages (from pytorch_lightning) (2.9.1)\n",
            "Requirement already satisfied: protobuf<=3.20.1 in c:\\users\\chris\\miniconda3\\envs\\chenenv\\lib\\site-packages (from pytorch_lightning) (3.19.4)\n",
            "Requirement already satisfied: numpy>=1.17.2 in c:\\users\\chris\\miniconda3\\envs\\chenenv\\lib\\site-packages (from pytorch_lightning) (1.22.4)\n",
            "Requirement already satisfied: fsspec[http]!=2021.06.0,>=2021.05.0 in c:\\users\\chris\\miniconda3\\envs\\chenenv\\lib\\site-packages (from pytorch_lightning) (2022.5.0)\n",
            "Requirement already satisfied: packaging>=17.0 in c:\\users\\chris\\miniconda3\\envs\\chenenv\\lib\\site-packages (from pytorch_lightning) (21.3)\n",
            "Requirement already satisfied: tqdm>=4.57.0 in c:\\users\\chris\\miniconda3\\envs\\chenenv\\lib\\site-packages (from pytorch_lightning) (4.64.0)\n",
            "Requirement already satisfied: PyYAML>=5.4 in c:\\users\\chris\\miniconda3\\envs\\chenenv\\lib\\site-packages (from pytorch_lightning) (6.0)\n",
            "Requirement already satisfied: requests in c:\\users\\chris\\miniconda3\\envs\\chenenv\\lib\\site-packages (from fsspec[http]!=2021.06.0,>=2021.05.0->pytorch_lightning) (2.28.0)\n",
            "Requirement already satisfied: aiohttp in c:\\users\\chris\\miniconda3\\envs\\chenenv\\lib\\site-packages (from fsspec[http]!=2021.06.0,>=2021.05.0->pytorch_lightning) (3.8.1)\n",
            "Requirement already satisfied: pyparsing!=3.0.5,>=2.0.2 in c:\\users\\chris\\miniconda3\\envs\\chenenv\\lib\\site-packages (from packaging>=17.0->pytorch_lightning) (3.0.9)\n",
            "Requirement already satisfied: grpcio>=1.24.3 in c:\\users\\chris\\miniconda3\\envs\\chenenv\\lib\\site-packages (from tensorboard>=2.2.0->pytorch_lightning) (1.46.3)\n",
            "Requirement already satisfied: setuptools>=41.0.0 in c:\\users\\chris\\miniconda3\\envs\\chenenv\\lib\\site-packages (from tensorboard>=2.2.0->pytorch_lightning) (61.2.0)\n",
            "Requirement already satisfied: tensorboard-plugin-wit>=1.6.0 in c:\\users\\chris\\miniconda3\\envs\\chenenv\\lib\\site-packages (from tensorboard>=2.2.0->pytorch_lightning) (1.8.1)\n",
            "Requirement already satisfied: markdown>=2.6.8 in c:\\users\\chris\\miniconda3\\envs\\chenenv\\lib\\site-packages (from tensorboard>=2.2.0->pytorch_lightning) (3.3.7)\n",
            "Requirement already satisfied: werkzeug>=1.0.1 in c:\\users\\chris\\miniconda3\\envs\\chenenv\\lib\\site-packages (from tensorboard>=2.2.0->pytorch_lightning) (2.1.2)\n",
            "Requirement already satisfied: absl-py>=0.4 in c:\\users\\chris\\miniconda3\\envs\\chenenv\\lib\\site-packages (from tensorboard>=2.2.0->pytorch_lightning) (1.1.0)\n",
            "Requirement already satisfied: google-auth-oauthlib<0.5,>=0.4.1 in c:\\users\\chris\\miniconda3\\envs\\chenenv\\lib\\site-packages (from tensorboard>=2.2.0->pytorch_lightning) (0.4.6)\n",
            "Requirement already satisfied: google-auth<3,>=1.6.3 in c:\\users\\chris\\miniconda3\\envs\\chenenv\\lib\\site-packages (from tensorboard>=2.2.0->pytorch_lightning) (2.8.0)\n",
            "Requirement already satisfied: tensorboard-data-server<0.7.0,>=0.6.0 in c:\\users\\chris\\miniconda3\\envs\\chenenv\\lib\\site-packages (from tensorboard>=2.2.0->pytorch_lightning) (0.6.1)\n",
            "Requirement already satisfied: wheel>=0.26 in c:\\users\\chris\\miniconda3\\envs\\chenenv\\lib\\site-packages (from tensorboard>=2.2.0->pytorch_lightning) (0.37.1)\n",
            "Requirement already satisfied: six>=1.9.0 in c:\\users\\chris\\miniconda3\\envs\\chenenv\\lib\\site-packages (from google-auth<3,>=1.6.3->tensorboard>=2.2.0->pytorch_lightning) (1.16.0)\n",
            "Requirement already satisfied: rsa<5,>=3.1.4 in c:\\users\\chris\\miniconda3\\envs\\chenenv\\lib\\site-packages (from google-auth<3,>=1.6.3->tensorboard>=2.2.0->pytorch_lightning) (4.8)\n",
            "Requirement already satisfied: pyasn1-modules>=0.2.1 in c:\\users\\chris\\miniconda3\\envs\\chenenv\\lib\\site-packages (from google-auth<3,>=1.6.3->tensorboard>=2.2.0->pytorch_lightning) (0.2.8)\n",
            "Requirement already satisfied: cachetools<6.0,>=2.0.0 in c:\\users\\chris\\miniconda3\\envs\\chenenv\\lib\\site-packages (from google-auth<3,>=1.6.3->tensorboard>=2.2.0->pytorch_lightning) (5.2.0)\n",
            "Requirement already satisfied: requests-oauthlib>=0.7.0 in c:\\users\\chris\\miniconda3\\envs\\chenenv\\lib\\site-packages (from google-auth-oauthlib<0.5,>=0.4.1->tensorboard>=2.2.0->pytorch_lightning) (1.3.1)\n",
            "Requirement already satisfied: pyasn1<0.5.0,>=0.4.6 in c:\\users\\chris\\miniconda3\\envs\\chenenv\\lib\\site-packages (from pyasn1-modules>=0.2.1->google-auth<3,>=1.6.3->tensorboard>=2.2.0->pytorch_lightning) (0.4.8)\n",
            "Requirement already satisfied: charset-normalizer~=2.0.0 in c:\\users\\chris\\miniconda3\\envs\\chenenv\\lib\\site-packages (from requests->fsspec[http]!=2021.06.0,>=2021.05.0->pytorch_lightning) (2.0.12)\n",
            "Requirement already satisfied: idna<4,>=2.5 in c:\\users\\chris\\miniconda3\\envs\\chenenv\\lib\\site-packages (from requests->fsspec[http]!=2021.06.0,>=2021.05.0->pytorch_lightning) (3.3)\n",
            "Requirement already satisfied: urllib3<1.27,>=1.21.1 in c:\\users\\chris\\miniconda3\\envs\\chenenv\\lib\\site-packages (from requests->fsspec[http]!=2021.06.0,>=2021.05.0->pytorch_lightning) (1.26.9)\n",
            "Requirement already satisfied: certifi>=2017.4.17 in c:\\users\\chris\\miniconda3\\envs\\chenenv\\lib\\site-packages (from requests->fsspec[http]!=2021.06.0,>=2021.05.0->pytorch_lightning) (2022.5.18.1)\n",
            "Requirement already satisfied: oauthlib>=3.0.0 in c:\\users\\chris\\miniconda3\\envs\\chenenv\\lib\\site-packages (from requests-oauthlib>=0.7.0->google-auth-oauthlib<0.5,>=0.4.1->tensorboard>=2.2.0->pytorch_lightning) (3.2.0)\n",
            "Requirement already satisfied: colorama in c:\\users\\chris\\miniconda3\\envs\\chenenv\\lib\\site-packages (from tqdm>=4.57.0->pytorch_lightning) (0.4.4)\n",
            "Requirement already satisfied: multidict<7.0,>=4.5 in c:\\users\\chris\\miniconda3\\envs\\chenenv\\lib\\site-packages (from aiohttp->fsspec[http]!=2021.06.0,>=2021.05.0->pytorch_lightning) (6.0.2)\n",
            "Requirement already satisfied: yarl<2.0,>=1.0 in c:\\users\\chris\\miniconda3\\envs\\chenenv\\lib\\site-packages (from aiohttp->fsspec[http]!=2021.06.0,>=2021.05.0->pytorch_lightning) (1.7.2)\n",
            "Requirement already satisfied: frozenlist>=1.1.1 in c:\\users\\chris\\miniconda3\\envs\\chenenv\\lib\\site-packages (from aiohttp->fsspec[http]!=2021.06.0,>=2021.05.0->pytorch_lightning) (1.3.0)\n",
            "Requirement already satisfied: attrs>=17.3.0 in c:\\users\\chris\\miniconda3\\envs\\chenenv\\lib\\site-packages (from aiohttp->fsspec[http]!=2021.06.0,>=2021.05.0->pytorch_lightning) (21.4.0)\n",
            "Requirement already satisfied: aiosignal>=1.1.2 in c:\\users\\chris\\miniconda3\\envs\\chenenv\\lib\\site-packages (from aiohttp->fsspec[http]!=2021.06.0,>=2021.05.0->pytorch_lightning) (1.2.0)\n",
            "Requirement already satisfied: async-timeout<5.0,>=4.0.0a3 in c:\\users\\chris\\miniconda3\\envs\\chenenv\\lib\\site-packages (from aiohttp->fsspec[http]!=2021.06.0,>=2021.05.0->pytorch_lightning) (4.0.2)\n",
            "Requirement already satisfied: torchvision in c:\\users\\chris\\miniconda3\\envs\\chenenv\\lib\\site-packages (0.12.0)\n",
            "Requirement already satisfied: pillow!=8.3.*,>=5.3.0 in c:\\users\\chris\\miniconda3\\envs\\chenenv\\lib\\site-packages (from torchvision) (9.1.1)\n",
            "Requirement already satisfied: requests in c:\\users\\chris\\miniconda3\\envs\\chenenv\\lib\\site-packages (from torchvision) (2.28.0)\n",
            "Requirement already satisfied: torch==1.11.0 in c:\\users\\chris\\miniconda3\\envs\\chenenv\\lib\\site-packages (from torchvision) (1.11.0)\n",
            "Requirement already satisfied: typing-extensions in c:\\users\\chris\\miniconda3\\envs\\chenenv\\lib\\site-packages (from torchvision) (4.2.0)\n",
            "Requirement already satisfied: numpy in c:\\users\\chris\\miniconda3\\envs\\chenenv\\lib\\site-packages (from torchvision) (1.22.4)\n",
            "Requirement already satisfied: charset-normalizer~=2.0.0 in c:\\users\\chris\\miniconda3\\envs\\chenenv\\lib\\site-packages (from requests->torchvision) (2.0.12)\n",
            "Requirement already satisfied: urllib3<1.27,>=1.21.1 in c:\\users\\chris\\miniconda3\\envs\\chenenv\\lib\\site-packages (from requests->torchvision) (1.26.9)\n",
            "Requirement already satisfied: idna<4,>=2.5 in c:\\users\\chris\\miniconda3\\envs\\chenenv\\lib\\site-packages (from requests->torchvision) (3.3)\n",
            "Requirement already satisfied: certifi>=2017.4.17 in c:\\users\\chris\\miniconda3\\envs\\chenenv\\lib\\site-packages (from requests->torchvision) (2022.5.18.1)\n",
            "Collecting dandi\n",
            "  Using cached dandi-0.40.1-py3-none-any.whl (322 kB)\n",
            "Collecting click-didyoumean\n",
            "  Using cached click_didyoumean-0.3.0-py3-none-any.whl (2.7 kB)\n",
            "Collecting etelemetry>=0.2.2\n",
            "  Using cached etelemetry-0.3.0-py3-none-any.whl (6.3 kB)\n",
            "Collecting pynwb!=1.1.0,>=1.0.3\n",
            "  Using cached pynwb-2.0.1-py2.py3-none-any.whl (115 kB)\n",
            "Collecting pycryptodomex\n",
            "  Using cached pycryptodomex-3.14.1-cp35-abi3-win_amd64.whl (1.8 MB)\n",
            "Collecting zarr~=2.10\n",
            "  Using cached zarr-2.11.3-py3-none-any.whl (153 kB)\n",
            "Collecting fasteners\n",
            "  Using cached fasteners-0.17.3-py3-none-any.whl (18 kB)\n",
            "Collecting ruamel.yaml<1,>=0.15\n",
            "  Using cached ruamel.yaml-0.17.21-py3-none-any.whl (109 kB)\n",
            "Collecting keyring\n",
            "  Using cached keyring-23.6.0-py3-none-any.whl (34 kB)\n",
            "Requirement already satisfied: requests~=2.20 in c:\\users\\chris\\miniconda3\\envs\\chenenv\\lib\\site-packages (from dandi) (2.28.0)\n",
            "Collecting nwbinspector>=0.3.8\n",
            "  Using cached nwbinspector-0.4.5-py3-none-any.whl (31 kB)\n",
            "Collecting pydantic>=1.9.0\n",
            "  Downloading pydantic-1.9.1-cp310-cp310-win_amd64.whl (2.0 MB)\n",
            "Collecting fscacher\n",
            "  Using cached fscacher-0.2.0-py3-none-any.whl (11 kB)\n",
            "Collecting joblib\n",
            "  Using cached joblib-1.1.0-py2.py3-none-any.whl (306 kB)\n",
            "Collecting click\n",
            "  Using cached click-8.1.3-py3-none-any.whl (96 kB)\n",
            "Collecting keyrings.alt\n",
            "  Using cached keyrings.alt-4.1.0-py3-none-any.whl (20 kB)\n",
            "Requirement already satisfied: python-dateutil in c:\\users\\chris\\miniconda3\\envs\\chenenv\\lib\\site-packages (from dandi) (2.8.2)\n",
            "Collecting tenacity\n",
            "  Using cached tenacity-8.0.1-py3-none-any.whl (24 kB)\n",
            "Collecting dandischema~=0.7.0\n",
            "  Using cached dandischema-0.7.1-py3-none-any.whl (63 kB)\n",
            "Collecting appdirs\n",
            "  Using cached appdirs-1.4.4-py2.py3-none-any.whl (9.6 kB)\n",
            "Collecting humanize\n",
            "  Using cached humanize-4.2.0-py3-none-any.whl (102 kB)\n",
            "Collecting interleave~=0.1\n",
            "  Using cached interleave-0.2.0-py3-none-any.whl (11 kB)\n",
            "Requirement already satisfied: packaging in c:\\users\\chris\\miniconda3\\envs\\chenenv\\lib\\site-packages (from dandi) (21.3)\n",
            "Collecting pyout!=0.6.0,>=0.5\n",
            "  Using cached pyout-0.7.2-py3-none-any.whl (51 kB)\n",
            "Collecting semantic-version\n",
            "  Using cached semantic_version-2.10.0-py2.py3-none-any.whl (15 kB)\n",
            "Collecting jsonschema[format]\n",
            "  Using cached jsonschema-4.6.0-py3-none-any.whl (80 kB)\n",
            "Collecting ci-info>=0.2\n",
            "  Using cached ci_info-0.2.0-py3-none-any.whl (6.9 kB)\n",
            "Requirement already satisfied: tqdm in c:\\users\\chris\\miniconda3\\envs\\chenenv\\lib\\site-packages (from nwbinspector>=0.3.8->dandi) (4.64.0)\n",
            "Requirement already satisfied: PyYAML in c:\\users\\chris\\miniconda3\\envs\\chenenv\\lib\\site-packages (from nwbinspector>=0.3.8->dandi) (6.0)\n",
            "Collecting natsort\n",
            "  Using cached natsort-8.1.0-py3-none-any.whl (37 kB)\n",
            "Requirement already satisfied: typing-extensions>=3.7.4.3 in c:\\users\\chris\\miniconda3\\envs\\chenenv\\lib\\site-packages (from pydantic>=1.9.0->dandi) (4.2.0)\n",
            "Collecting email-validator>=1.0.3\n",
            "  Using cached email_validator-1.2.1-py2.py3-none-any.whl (22 kB)\n",
            "Requirement already satisfied: idna>=2.0.0 in c:\\users\\chris\\miniconda3\\envs\\chenenv\\lib\\site-packages (from email-validator>=1.0.3->pydantic>=1.9.0->dandi) (3.3)\n",
            "Collecting dnspython>=1.15.0\n",
            "  Using cached dnspython-2.2.1-py3-none-any.whl (269 kB)\n",
            "Collecting hdmf<4,>=3.1.1\n",
            "  Using cached hdmf-3.3.1-py3-none-any.whl (185 kB)\n",
            "Collecting h5py<4,>=2.9\n",
            "  Downloading h5py-3.7.0-cp310-cp310-win_amd64.whl (2.6 MB)\n",
            "Collecting pandas<2,>=1.0.5\n",
            "  Downloading pandas-1.4.2-cp310-cp310-win_amd64.whl (10.6 MB)\n",
            "Collecting numpy<1.22,>=1.16\n",
            "  Downloading numpy-1.21.6-cp310-cp310-win_amd64.whl (14.0 MB)\n",
            "Requirement already satisfied: setuptools in c:\\users\\chris\\miniconda3\\envs\\chenenv\\lib\\site-packages (from pynwb!=1.1.0,>=1.0.3->dandi) (61.2.0)\n",
            "Collecting scipy<2,>=1.1\n",
            "  Downloading scipy-1.8.1-cp310-cp310-win_amd64.whl (36.9 MB)\n",
            "Requirement already satisfied: attrs>=17.4.0 in c:\\users\\chris\\miniconda3\\envs\\chenenv\\lib\\site-packages (from jsonschema[format]->dandischema~=0.7.0->dandi) (21.4.0)\n",
            "Collecting pyrsistent!=0.17.0,!=0.17.1,!=0.17.2,>=0.14.0\n",
            "  Downloading pyrsistent-0.18.1-cp310-cp310-win_amd64.whl (61 kB)\n",
            "Collecting pytz>=2020.1\n",
            "  Using cached pytz-2022.1-py2.py3-none-any.whl (503 kB)\n",
            "Requirement already satisfied: six>=1.5 in c:\\users\\chris\\miniconda3\\envs\\chenenv\\lib\\site-packages (from python-dateutil->dandi) (1.16.0)\n",
            "Requirement already satisfied: urllib3<1.27,>=1.21.1 in c:\\users\\chris\\miniconda3\\envs\\chenenv\\lib\\site-packages (from requests~=2.20->dandi) (1.26.9)\n",
            "Requirement already satisfied: charset-normalizer~=2.0.0 in c:\\users\\chris\\miniconda3\\envs\\chenenv\\lib\\site-packages (from requests~=2.20->dandi) (2.0.12)\n",
            "Requirement already satisfied: certifi>=2017.4.17 in c:\\users\\chris\\miniconda3\\envs\\chenenv\\lib\\site-packages (from requests~=2.20->dandi) (2022.5.18.1)\n",
            "Collecting ruamel.yaml.clib>=0.2.6\n",
            "  Downloading ruamel.yaml.clib-0.2.6-cp310-cp310-win_amd64.whl (118 kB)\n",
            "Collecting asciitree\n",
            "  Using cached asciitree-0.3.3.tar.gz (4.0 kB)\n",
            "Collecting numcodecs>=0.6.4\n",
            "  Downloading numcodecs-0.9.1.tar.gz (4.5 MB)\n",
            "Requirement already satisfied: colorama in c:\\users\\chris\\miniconda3\\envs\\chenenv\\lib\\site-packages (from click->dandi) (0.4.4)\n",
            "Collecting uri-template\n",
            "  Using cached uri_template-1.2.0-py3-none-any.whl (10 kB)\n",
            "Collecting rfc3339-validator\n",
            "  Using cached rfc3339_validator-0.1.4-py2.py3-none-any.whl (3.5 kB)\n",
            "Collecting jsonpointer>1.13\n",
            "  Using cached jsonpointer-2.3-py2.py3-none-any.whl (7.8 kB)\n",
            "Collecting webcolors>=1.11\n",
            "  Using cached webcolors-1.12-py3-none-any.whl (9.9 kB)\n",
            "Collecting fqdn\n",
            "  Using cached fqdn-1.5.1-py3-none-any.whl (9.1 kB)\n",
            "Collecting rfc3987\n",
            "  Using cached rfc3987-1.3.8-py2.py3-none-any.whl (13 kB)\n",
            "Collecting isoduration\n",
            "  Using cached isoduration-20.11.0-py3-none-any.whl (11 kB)\n",
            "Collecting arrow>=0.15.0\n",
            "  Using cached arrow-1.2.2-py3-none-any.whl (64 kB)\n",
            "Collecting pywin32-ctypes!=0.1.0,!=0.1.1\n",
            "  Using cached pywin32_ctypes-0.2.0-py2.py3-none-any.whl (28 kB)\n",
            "Requirement already satisfied: pyparsing!=3.0.5,>=2.0.2 in c:\\users\\chris\\miniconda3\\envs\\chenenv\\lib\\site-packages (from packaging->dandi) (3.0.9)\n",
            "Building wheels for collected packages: numcodecs, asciitree\n",
            "  Building wheel for numcodecs (setup.py): started\n",
            "  Building wheel for numcodecs (setup.py): finished with status 'error'\n",
            "  Running setup.py clean for numcodecs\n",
            "  Building wheel for asciitree (setup.py): started\n",
            "  Building wheel for asciitree (setup.py): finished with status 'done'\n",
            "  Created wheel for asciitree: filename=asciitree-0.3.3-py3-none-any.whl size=5050 sha256=fdc47902563bfea064f8a488e8bf714ccf44847abbe93e20dab05dd204f0f98f\n",
            "  Stored in directory: c:\\users\\chris\\appdata\\local\\pip\\cache\\wheels\\7f\\4e\\be\\1171b40f43b918087657ec57cf3b81fa1a2e027d8755baa184\n",
            "Successfully built asciitree\n",
            "Failed to build numcodecs\n",
            "Installing collected packages: ruamel.yaml.clib, pytz, pyrsistent, numpy, scipy, ruamel.yaml, pandas, jsonschema, h5py, dnspython, arrow, webcolors, uri-template, rfc3987, rfc3339-validator, pydantic, jsonpointer, isoduration, hdmf, fqdn, email-validator, pywin32-ctypes, pynwb, numcodecs, natsort, joblib, fasteners, click, ci-info, asciitree, appdirs, zarr, tenacity, semantic-version, pyout, pycryptodomex, nwbinspector, keyrings.alt, keyring, interleave, humanize, fscacher, etelemetry, dandischema, click-didyoumean, dandi\n",
            "  Attempting uninstall: numpy\n",
            "    Found existing installation: numpy 1.22.4\n",
            "    Uninstalling numpy-1.22.4:\n",
            "      Successfully uninstalled numpy-1.22.4\n",
            "    Running setup.py install for numcodecs: started\n",
            "    Running setup.py install for numcodecs: finished with status 'error'\n"
          ]
        },
        {
          "name": "stderr",
          "output_type": "stream",
          "text": [
            "  ERROR: Command errored out with exit status 1:\n",
            "   command: 'C:\\Users\\Chris\\miniconda3\\envs\\chenEnv\\python.exe' -u -c 'import io, os, sys, setuptools, tokenize; sys.argv[0] = '\"'\"'C:\\\\Users\\\\Chris\\\\AppData\\\\Local\\\\Temp\\\\pip-install-us_tj37p\\\\numcodecs_7e7e6912af694559ac8ac6b20913776a\\\\setup.py'\"'\"'; __file__='\"'\"'C:\\\\Users\\\\Chris\\\\AppData\\\\Local\\\\Temp\\\\pip-install-us_tj37p\\\\numcodecs_7e7e6912af694559ac8ac6b20913776a\\\\setup.py'\"'\"';f = getattr(tokenize, '\"'\"'open'\"'\"', open)(__file__) if os.path.exists(__file__) else io.StringIO('\"'\"'from setuptools import setup; setup()'\"'\"');code = f.read().replace('\"'\"'\\r\\n'\"'\"', '\"'\"'\\n'\"'\"');f.close();exec(compile(code, __file__, '\"'\"'exec'\"'\"'))' bdist_wheel -d 'C:\\Users\\Chris\\AppData\\Local\\Temp\\pip-wheel-x0oarh7q'\n",
            "       cwd: C:\\Users\\Chris\\AppData\\Local\\Temp\\pip-install-us_tj37p\\numcodecs_7e7e6912af694559ac8ac6b20913776a\\\n",
            "  Complete output (131 lines):\n",
            "  [numcodecs] setting up Blosc extension\n",
            "  [numcodecs] compiling Blosc extension with SSE2 support\n",
            "  [numcodecs] compiling Blosc extension with AVX2 support\n",
            "  [numcodecs] setting up Zstandard extension\n",
            "  [numcodecs] setting up LZ4 extension\n",
            "  [numcodecs] setting up compat extension\n",
            "  [numcodecs] setting up shuffle extension\n",
            "  [numcodecs] setting up vlen extension\n",
            "  C:\\Users\\Chris\\miniconda3\\envs\\chenEnv\\lib\\site-packages\\setuptools\\installer.py:27: SetuptoolsDeprecationWarning: setuptools.installer is deprecated. Requirements should be satisfied by a PEP 517 installer.\n",
            "    warnings.warn(\n",
            "  running bdist_wheel\n",
            "  running build\n",
            "  running build_py\n",
            "  creating build\n",
            "  creating build\\lib.win-amd64-3.10\n",
            "  creating build\\lib.win-amd64-3.10\\numcodecs\n",
            "  copying .\\numcodecs\\abc.py -> build\\lib.win-amd64-3.10\\numcodecs\n",
            "  copying .\\numcodecs\\astype.py -> build\\lib.win-amd64-3.10\\numcodecs\n",
            "  copying .\\numcodecs\\base64.py -> build\\lib.win-amd64-3.10\\numcodecs\n",
            "  copying .\\numcodecs\\bz2.py -> build\\lib.win-amd64-3.10\\numcodecs\n",
            "  copying .\\numcodecs\\categorize.py -> build\\lib.win-amd64-3.10\\numcodecs\n",
            "  copying .\\numcodecs\\checksum32.py -> build\\lib.win-amd64-3.10\\numcodecs\n",
            "  copying .\\numcodecs\\compat.py -> build\\lib.win-amd64-3.10\\numcodecs\n",
            "  copying .\\numcodecs\\delta.py -> build\\lib.win-amd64-3.10\\numcodecs\n",
            "  copying .\\numcodecs\\fixedscaleoffset.py -> build\\lib.win-amd64-3.10\\numcodecs\n",
            "  copying .\\numcodecs\\gzip.py -> build\\lib.win-amd64-3.10\\numcodecs\n",
            "  copying .\\numcodecs\\json.py -> build\\lib.win-amd64-3.10\\numcodecs\n",
            "  copying .\\numcodecs\\lzma.py -> build\\lib.win-amd64-3.10\\numcodecs\n",
            "  copying .\\numcodecs\\msgpacks.py -> build\\lib.win-amd64-3.10\\numcodecs\n",
            "  copying .\\numcodecs\\packbits.py -> build\\lib.win-amd64-3.10\\numcodecs\n",
            "  copying .\\numcodecs\\pickles.py -> build\\lib.win-amd64-3.10\\numcodecs\n",
            "  copying .\\numcodecs\\quantize.py -> build\\lib.win-amd64-3.10\\numcodecs\n",
            "  copying .\\numcodecs\\registry.py -> build\\lib.win-amd64-3.10\\numcodecs\n",
            "  copying .\\numcodecs\\shuffle.py -> build\\lib.win-amd64-3.10\\numcodecs\n",
            "  copying .\\numcodecs\\version.py -> build\\lib.win-amd64-3.10\\numcodecs\n",
            "  copying .\\numcodecs\\zfpy.py -> build\\lib.win-amd64-3.10\\numcodecs\n",
            "  copying .\\numcodecs\\zlib.py -> build\\lib.win-amd64-3.10\\numcodecs\n",
            "  copying .\\numcodecs\\__init__.py -> build\\lib.win-amd64-3.10\\numcodecs\n",
            "  creating build\\lib.win-amd64-3.10\\numcodecs\\tests\n",
            "  copying .\\numcodecs\\tests\\common.py -> build\\lib.win-amd64-3.10\\numcodecs\\tests\n",
            "  copying .\\numcodecs\\tests\\test_astype.py -> build\\lib.win-amd64-3.10\\numcodecs\\tests\n",
            "  copying .\\numcodecs\\tests\\test_base64.py -> build\\lib.win-amd64-3.10\\numcodecs\\tests\n",
            "  copying .\\numcodecs\\tests\\test_blosc.py -> build\\lib.win-amd64-3.10\\numcodecs\\tests\n",
            "  copying .\\numcodecs\\tests\\test_bz2.py -> build\\lib.win-amd64-3.10\\numcodecs\\tests\n",
            "  copying .\\numcodecs\\tests\\test_categorize.py -> build\\lib.win-amd64-3.10\\numcodecs\\tests\n",
            "  copying .\\numcodecs\\tests\\test_checksum32.py -> build\\lib.win-amd64-3.10\\numcodecs\\tests\n",
            "  copying .\\numcodecs\\tests\\test_compat.py -> build\\lib.win-amd64-3.10\\numcodecs\\tests\n",
            "  copying .\\numcodecs\\tests\\test_delta.py -> build\\lib.win-amd64-3.10\\numcodecs\\tests\n",
            "  copying .\\numcodecs\\tests\\test_fixedscaleoffset.py -> build\\lib.win-amd64-3.10\\numcodecs\\tests\n",
            "  copying .\\numcodecs\\tests\\test_gzip.py -> build\\lib.win-amd64-3.10\\numcodecs\\tests\n",
            "  copying .\\numcodecs\\tests\\test_json.py -> build\\lib.win-amd64-3.10\\numcodecs\\tests\n",
            "  copying .\\numcodecs\\tests\\test_lz4.py -> build\\lib.win-amd64-3.10\\numcodecs\\tests\n",
            "  copying .\\numcodecs\\tests\\test_lzma.py -> build\\lib.win-amd64-3.10\\numcodecs\\tests\n",
            "  copying .\\numcodecs\\tests\\test_msgpacks.py -> build\\lib.win-amd64-3.10\\numcodecs\\tests\n",
            "  copying .\\numcodecs\\tests\\test_packbits.py -> build\\lib.win-amd64-3.10\\numcodecs\\tests\n",
            "  copying .\\numcodecs\\tests\\test_pickles.py -> build\\lib.win-amd64-3.10\\numcodecs\\tests\n",
            "  copying .\\numcodecs\\tests\\test_quantize.py -> build\\lib.win-amd64-3.10\\numcodecs\\tests\n",
            "  copying .\\numcodecs\\tests\\test_registry.py -> build\\lib.win-amd64-3.10\\numcodecs\\tests\n",
            "  copying .\\numcodecs\\tests\\test_shuffle.py -> build\\lib.win-amd64-3.10\\numcodecs\\tests\n",
            "  copying .\\numcodecs\\tests\\test_vlen_array.py -> build\\lib.win-amd64-3.10\\numcodecs\\tests\n",
            "  copying .\\numcodecs\\tests\\test_vlen_bytes.py -> build\\lib.win-amd64-3.10\\numcodecs\\tests\n",
            "  copying .\\numcodecs\\tests\\test_vlen_utf8.py -> build\\lib.win-amd64-3.10\\numcodecs\\tests\n",
            "  copying .\\numcodecs\\tests\\test_zfpy.py -> build\\lib.win-amd64-3.10\\numcodecs\\tests\n",
            "  copying .\\numcodecs\\tests\\test_zlib.py -> build\\lib.win-amd64-3.10\\numcodecs\\tests\n",
            "  copying .\\numcodecs\\tests\\test_zstd.py -> build\\lib.win-amd64-3.10\\numcodecs\\tests\n",
            "  copying .\\numcodecs\\tests\\__init__.py -> build\\lib.win-amd64-3.10\\numcodecs\\tests\n",
            "  running build_ext\n",
            "  building 'numcodecs.blosc' extension\n",
            "  [numcodecs] Microsoft Visual C++ 14.0 or greater is required. Get it with \"Microsoft C++ Build Tools\": https://visualstudio.microsoft.com/visual-cpp-build-tools/\n",
            "  Traceback (most recent call last):\n",
            "    File \"C:\\Users\\Chris\\AppData\\Local\\Temp\\pip-install-us_tj37p\\numcodecs_7e7e6912af694559ac8ac6b20913776a\\setup.py\", line 301, in build_extension\n",
            "      build_ext.build_extension(self, ext)\n",
            "    File \"C:\\Users\\Chris\\miniconda3\\envs\\chenEnv\\lib\\site-packages\\setuptools\\_distutils\\command\\build_ext.py\", line 528, in build_extension\n",
            "      objects = self.compiler.compile(sources,\n",
            "    File \"C:\\Users\\Chris\\miniconda3\\envs\\chenEnv\\lib\\site-packages\\setuptools\\_distutils\\_msvccompiler.py\", line 327, in compile\n",
            "      self.initialize()\n",
            "    File \"C:\\Users\\Chris\\miniconda3\\envs\\chenEnv\\lib\\site-packages\\setuptools\\_distutils\\_msvccompiler.py\", line 224, in initialize\n",
            "      vc_env = _get_vc_env(plat_spec)\n",
            "    File \"C:\\Users\\Chris\\miniconda3\\envs\\chenEnv\\lib\\site-packages\\setuptools\\msvc.py\", line 316, in msvc14_get_vc_env\n",
            "      return _msvc14_get_vc_env(plat_spec)\n",
            "    File \"C:\\Users\\Chris\\miniconda3\\envs\\chenEnv\\lib\\site-packages\\setuptools\\msvc.py\", line 270, in _msvc14_get_vc_env\n",
            "      raise distutils.errors.DistutilsPlatformError(\n",
            "  distutils.errors.DistutilsPlatformError: Microsoft Visual C++ 14.0 or greater is required. Get it with \"Microsoft C++ Build Tools\": https://visualstudio.microsoft.com/visual-cpp-build-tools/\n",
            "  \n",
            "  During handling of the above exception, another exception occurred:\n",
            "  \n",
            "  Traceback (most recent call last):\n",
            "    File \"<string>\", line 1, in <module>\n",
            "    File \"C:\\Users\\Chris\\AppData\\Local\\Temp\\pip-install-us_tj37p\\numcodecs_7e7e6912af694559ac8ac6b20913776a\\setup.py\", line 377, in <module>\n",
            "      run_setup(with_extensions)\n",
            "    File \"C:\\Users\\Chris\\AppData\\Local\\Temp\\pip-install-us_tj37p\\numcodecs_7e7e6912af694559ac8ac6b20913776a\\setup.py\", line 326, in run_setup\n",
            "      setup(\n",
            "    File \"C:\\Users\\Chris\\miniconda3\\envs\\chenEnv\\lib\\site-packages\\setuptools\\__init__.py\", line 87, in setup\n",
            "      return distutils.core.setup(**attrs)\n",
            "    File \"C:\\Users\\Chris\\miniconda3\\envs\\chenEnv\\lib\\site-packages\\setuptools\\_distutils\\core.py\", line 148, in setup\n",
            "      return run_commands(dist)\n",
            "    File \"C:\\Users\\Chris\\miniconda3\\envs\\chenEnv\\lib\\site-packages\\setuptools\\_distutils\\core.py\", line 163, in run_commands\n",
            "      dist.run_commands()\n",
            "    File \"C:\\Users\\Chris\\miniconda3\\envs\\chenEnv\\lib\\site-packages\\setuptools\\_distutils\\dist.py\", line 967, in run_commands\n",
            "      self.run_command(cmd)\n",
            "    File \"C:\\Users\\Chris\\miniconda3\\envs\\chenEnv\\lib\\site-packages\\setuptools\\dist.py\", line 1214, in run_command\n",
            "      super().run_command(command)\n",
            "    File \"C:\\Users\\Chris\\miniconda3\\envs\\chenEnv\\lib\\site-packages\\setuptools\\_distutils\\dist.py\", line 986, in run_command\n",
            "      cmd_obj.run()\n",
            "    File \"C:\\Users\\Chris\\miniconda3\\envs\\chenEnv\\lib\\site-packages\\wheel\\bdist_wheel.py\", line 299, in run\n",
            "      self.run_command('build')\n",
            "    File \"C:\\Users\\Chris\\miniconda3\\envs\\chenEnv\\lib\\site-packages\\setuptools\\_distutils\\cmd.py\", line 313, in run_command\n",
            "      self.distribution.run_command(command)\n",
            "    File \"C:\\Users\\Chris\\miniconda3\\envs\\chenEnv\\lib\\site-packages\\setuptools\\dist.py\", line 1214, in run_command\n",
            "      super().run_command(command)\n",
            "    File \"C:\\Users\\Chris\\miniconda3\\envs\\chenEnv\\lib\\site-packages\\setuptools\\_distutils\\dist.py\", line 986, in run_command\n",
            "      cmd_obj.run()\n",
            "    File \"C:\\Users\\Chris\\miniconda3\\envs\\chenEnv\\lib\\site-packages\\setuptools\\_distutils\\command\\build.py\", line 135, in run\n",
            "      self.run_command(cmd_name)\n",
            "    File \"C:\\Users\\Chris\\miniconda3\\envs\\chenEnv\\lib\\site-packages\\setuptools\\_distutils\\cmd.py\", line 313, in run_command\n",
            "      self.distribution.run_command(command)\n",
            "    File \"C:\\Users\\Chris\\miniconda3\\envs\\chenEnv\\lib\\site-packages\\setuptools\\dist.py\", line 1214, in run_command\n",
            "      super().run_command(command)\n",
            "    File \"C:\\Users\\Chris\\miniconda3\\envs\\chenEnv\\lib\\site-packages\\setuptools\\_distutils\\dist.py\", line 986, in run_command\n",
            "      cmd_obj.run()\n",
            "    File \"C:\\Users\\Chris\\AppData\\Local\\Temp\\pip-install-us_tj37p\\numcodecs_7e7e6912af694559ac8ac6b20913776a\\setup.py\", line 294, in run\n",
            "      build_ext.run(self)\n",
            "    File \"C:\\Users\\Chris\\miniconda3\\envs\\chenEnv\\lib\\site-packages\\setuptools\\_distutils\\command\\build_ext.py\", line 339, in run\n",
            "      self.build_extensions()\n",
            "    File \"C:\\Users\\Chris\\miniconda3\\envs\\chenEnv\\lib\\site-packages\\setuptools\\_distutils\\command\\build_ext.py\", line 448, in build_extensions\n",
            "      self._build_extensions_serial()\n",
            "    File \"C:\\Users\\Chris\\miniconda3\\envs\\chenEnv\\lib\\site-packages\\setuptools\\_distutils\\command\\build_ext.py\", line 473, in _build_extensions_serial\n",
            "      self.build_extension(ext)\n",
            "    File \"C:\\Users\\Chris\\AppData\\Local\\Temp\\pip-install-us_tj37p\\numcodecs_7e7e6912af694559ac8ac6b20913776a\\setup.py\", line 304, in build_extension\n",
            "      raise BuildFailed()\n",
            "  __main__.BuildFailed\n",
            "  ----------------------------------------\n",
            "  ERROR: Failed building wheel for numcodecs\n",
            "    ERROR: Command errored out with exit status 1:\n",
            "     command: 'C:\\Users\\Chris\\miniconda3\\envs\\chenEnv\\python.exe' -u -c 'import io, os, sys, setuptools, tokenize; sys.argv[0] = '\"'\"'C:\\\\Users\\\\Chris\\\\AppData\\\\Local\\\\Temp\\\\pip-install-us_tj37p\\\\numcodecs_7e7e6912af694559ac8ac6b20913776a\\\\setup.py'\"'\"'; __file__='\"'\"'C:\\\\Users\\\\Chris\\\\AppData\\\\Local\\\\Temp\\\\pip-install-us_tj37p\\\\numcodecs_7e7e6912af694559ac8ac6b20913776a\\\\setup.py'\"'\"';f = getattr(tokenize, '\"'\"'open'\"'\"', open)(__file__) if os.path.exists(__file__) else io.StringIO('\"'\"'from setuptools import setup; setup()'\"'\"');code = f.read().replace('\"'\"'\\r\\n'\"'\"', '\"'\"'\\n'\"'\"');f.close();exec(compile(code, __file__, '\"'\"'exec'\"'\"'))' install --record 'C:\\Users\\Chris\\AppData\\Local\\Temp\\pip-record-_22r5p6t\\install-record.txt' --single-version-externally-managed --compile --install-headers 'C:\\Users\\Chris\\miniconda3\\envs\\chenEnv\\Include\\numcodecs'\n",
            "         cwd: C:\\Users\\Chris\\AppData\\Local\\Temp\\pip-install-us_tj37p\\numcodecs_7e7e6912af694559ac8ac6b20913776a\\\n",
            "    Complete output (135 lines):\n",
            "    [numcodecs] setting up Blosc extension\n",
            "    [numcodecs] compiling Blosc extension with SSE2 support\n",
            "    [numcodecs] compiling Blosc extension with AVX2 support\n",
            "    [numcodecs] setting up Zstandard extension\n",
            "    [numcodecs] setting up LZ4 extension\n",
            "    [numcodecs] setting up compat extension\n",
            "    [numcodecs] setting up shuffle extension\n",
            "    [numcodecs] setting up vlen extension\n",
            "    C:\\Users\\Chris\\miniconda3\\envs\\chenEnv\\lib\\site-packages\\setuptools\\installer.py:27: SetuptoolsDeprecationWarning: setuptools.installer is deprecated. Requirements should be satisfied by a PEP 517 installer.\n",
            "      warnings.warn(\n",
            "    running install\n",
            "    C:\\Users\\Chris\\miniconda3\\envs\\chenEnv\\lib\\site-packages\\setuptools\\command\\install.py:34: SetuptoolsDeprecationWarning: setup.py install is deprecated. Use build and pip and other standards-based tools.\n",
            "      warnings.warn(\n",
            "    running build\n",
            "    running build_py\n",
            "    creating build\n",
            "    creating build\\lib.win-amd64-3.10\n",
            "    creating build\\lib.win-amd64-3.10\\numcodecs\n",
            "    copying .\\numcodecs\\abc.py -> build\\lib.win-amd64-3.10\\numcodecs\n",
            "    copying .\\numcodecs\\astype.py -> build\\lib.win-amd64-3.10\\numcodecs\n",
            "    copying .\\numcodecs\\base64.py -> build\\lib.win-amd64-3.10\\numcodecs\n",
            "    copying .\\numcodecs\\bz2.py -> build\\lib.win-amd64-3.10\\numcodecs\n",
            "    copying .\\numcodecs\\categorize.py -> build\\lib.win-amd64-3.10\\numcodecs\n",
            "    copying .\\numcodecs\\checksum32.py -> build\\lib.win-amd64-3.10\\numcodecs\n",
            "    copying .\\numcodecs\\compat.py -> build\\lib.win-amd64-3.10\\numcodecs\n",
            "    copying .\\numcodecs\\delta.py -> build\\lib.win-amd64-3.10\\numcodecs\n",
            "    copying .\\numcodecs\\fixedscaleoffset.py -> build\\lib.win-amd64-3.10\\numcodecs\n",
            "    copying .\\numcodecs\\gzip.py -> build\\lib.win-amd64-3.10\\numcodecs\n",
            "    copying .\\numcodecs\\json.py -> build\\lib.win-amd64-3.10\\numcodecs\n",
            "    copying .\\numcodecs\\lzma.py -> build\\lib.win-amd64-3.10\\numcodecs\n",
            "    copying .\\numcodecs\\msgpacks.py -> build\\lib.win-amd64-3.10\\numcodecs\n",
            "    copying .\\numcodecs\\packbits.py -> build\\lib.win-amd64-3.10\\numcodecs\n",
            "    copying .\\numcodecs\\pickles.py -> build\\lib.win-amd64-3.10\\numcodecs\n",
            "    copying .\\numcodecs\\quantize.py -> build\\lib.win-amd64-3.10\\numcodecs\n",
            "    copying .\\numcodecs\\registry.py -> build\\lib.win-amd64-3.10\\numcodecs\n",
            "    copying .\\numcodecs\\shuffle.py -> build\\lib.win-amd64-3.10\\numcodecs\n",
            "    copying .\\numcodecs\\version.py -> build\\lib.win-amd64-3.10\\numcodecs\n",
            "    copying .\\numcodecs\\zfpy.py -> build\\lib.win-amd64-3.10\\numcodecs\n",
            "    copying .\\numcodecs\\zlib.py -> build\\lib.win-amd64-3.10\\numcodecs\n",
            "    copying .\\numcodecs\\__init__.py -> build\\lib.win-amd64-3.10\\numcodecs\n",
            "    creating build\\lib.win-amd64-3.10\\numcodecs\\tests\n",
            "    copying .\\numcodecs\\tests\\common.py -> build\\lib.win-amd64-3.10\\numcodecs\\tests\n",
            "    copying .\\numcodecs\\tests\\test_astype.py -> build\\lib.win-amd64-3.10\\numcodecs\\tests\n",
            "    copying .\\numcodecs\\tests\\test_base64.py -> build\\lib.win-amd64-3.10\\numcodecs\\tests\n",
            "    copying .\\numcodecs\\tests\\test_blosc.py -> build\\lib.win-amd64-3.10\\numcodecs\\tests\n",
            "    copying .\\numcodecs\\tests\\test_bz2.py -> build\\lib.win-amd64-3.10\\numcodecs\\tests\n",
            "    copying .\\numcodecs\\tests\\test_categorize.py -> build\\lib.win-amd64-3.10\\numcodecs\\tests\n",
            "    copying .\\numcodecs\\tests\\test_checksum32.py -> build\\lib.win-amd64-3.10\\numcodecs\\tests\n",
            "    copying .\\numcodecs\\tests\\test_compat.py -> build\\lib.win-amd64-3.10\\numcodecs\\tests\n",
            "    copying .\\numcodecs\\tests\\test_delta.py -> build\\lib.win-amd64-3.10\\numcodecs\\tests\n",
            "    copying .\\numcodecs\\tests\\test_fixedscaleoffset.py -> build\\lib.win-amd64-3.10\\numcodecs\\tests\n",
            "    copying .\\numcodecs\\tests\\test_gzip.py -> build\\lib.win-amd64-3.10\\numcodecs\\tests\n",
            "    copying .\\numcodecs\\tests\\test_json.py -> build\\lib.win-amd64-3.10\\numcodecs\\tests\n",
            "    copying .\\numcodecs\\tests\\test_lz4.py -> build\\lib.win-amd64-3.10\\numcodecs\\tests\n",
            "    copying .\\numcodecs\\tests\\test_lzma.py -> build\\lib.win-amd64-3.10\\numcodecs\\tests\n",
            "    copying .\\numcodecs\\tests\\test_msgpacks.py -> build\\lib.win-amd64-3.10\\numcodecs\\tests\n",
            "    copying .\\numcodecs\\tests\\test_packbits.py -> build\\lib.win-amd64-3.10\\numcodecs\\tests\n",
            "    copying .\\numcodecs\\tests\\test_pickles.py -> build\\lib.win-amd64-3.10\\numcodecs\\tests\n",
            "    copying .\\numcodecs\\tests\\test_quantize.py -> build\\lib.win-amd64-3.10\\numcodecs\\tests\n",
            "    copying .\\numcodecs\\tests\\test_registry.py -> build\\lib.win-amd64-3.10\\numcodecs\\tests\n",
            "    copying .\\numcodecs\\tests\\test_shuffle.py -> build\\lib.win-amd64-3.10\\numcodecs\\tests\n",
            "    copying .\\numcodecs\\tests\\test_vlen_array.py -> build\\lib.win-amd64-3.10\\numcodecs\\tests\n",
            "    copying .\\numcodecs\\tests\\test_vlen_bytes.py -> build\\lib.win-amd64-3.10\\numcodecs\\tests\n",
            "    copying .\\numcodecs\\tests\\test_vlen_utf8.py -> build\\lib.win-amd64-3.10\\numcodecs\\tests\n",
            "    copying .\\numcodecs\\tests\\test_zfpy.py -> build\\lib.win-amd64-3.10\\numcodecs\\tests\n",
            "    copying .\\numcodecs\\tests\\test_zlib.py -> build\\lib.win-amd64-3.10\\numcodecs\\tests\n",
            "    copying .\\numcodecs\\tests\\test_zstd.py -> build\\lib.win-amd64-3.10\\numcodecs\\tests\n",
            "    copying .\\numcodecs\\tests\\__init__.py -> build\\lib.win-amd64-3.10\\numcodecs\\tests\n",
            "    running build_ext\n",
            "    building 'numcodecs.blosc' extension\n",
            "    [numcodecs] Microsoft Visual C++ 14.0 or greater is required. Get it with \"Microsoft C++ Build Tools\": https://visualstudio.microsoft.com/visual-cpp-build-tools/\n",
            "    Traceback (most recent call last):\n",
            "      File \"C:\\Users\\Chris\\AppData\\Local\\Temp\\pip-install-us_tj37p\\numcodecs_7e7e6912af694559ac8ac6b20913776a\\setup.py\", line 301, in build_extension\n",
            "        build_ext.build_extension(self, ext)\n",
            "      File \"C:\\Users\\Chris\\miniconda3\\envs\\chenEnv\\lib\\site-packages\\setuptools\\_distutils\\command\\build_ext.py\", line 528, in build_extension\n",
            "        objects = self.compiler.compile(sources,\n",
            "      File \"C:\\Users\\Chris\\miniconda3\\envs\\chenEnv\\lib\\site-packages\\setuptools\\_distutils\\_msvccompiler.py\", line 327, in compile\n",
            "        self.initialize()\n",
            "      File \"C:\\Users\\Chris\\miniconda3\\envs\\chenEnv\\lib\\site-packages\\setuptools\\_distutils\\_msvccompiler.py\", line 224, in initialize\n",
            "        vc_env = _get_vc_env(plat_spec)\n",
            "      File \"C:\\Users\\Chris\\miniconda3\\envs\\chenEnv\\lib\\site-packages\\setuptools\\msvc.py\", line 316, in msvc14_get_vc_env\n",
            "        return _msvc14_get_vc_env(plat_spec)\n",
            "      File \"C:\\Users\\Chris\\miniconda3\\envs\\chenEnv\\lib\\site-packages\\setuptools\\msvc.py\", line 270, in _msvc14_get_vc_env\n",
            "        raise distutils.errors.DistutilsPlatformError(\n",
            "    distutils.errors.DistutilsPlatformError: Microsoft Visual C++ 14.0 or greater is required. Get it with \"Microsoft C++ Build Tools\": https://visualstudio.microsoft.com/visual-cpp-build-tools/\n",
            "    \n",
            "    During handling of the above exception, another exception occurred:\n",
            "    \n",
            "    Traceback (most recent call last):\n",
            "      File \"<string>\", line 1, in <module>\n",
            "      File \"C:\\Users\\Chris\\AppData\\Local\\Temp\\pip-install-us_tj37p\\numcodecs_7e7e6912af694559ac8ac6b20913776a\\setup.py\", line 377, in <module>\n",
            "        run_setup(with_extensions)\n",
            "      File \"C:\\Users\\Chris\\AppData\\Local\\Temp\\pip-install-us_tj37p\\numcodecs_7e7e6912af694559ac8ac6b20913776a\\setup.py\", line 326, in run_setup\n",
            "        setup(\n",
            "      File \"C:\\Users\\Chris\\miniconda3\\envs\\chenEnv\\lib\\site-packages\\setuptools\\__init__.py\", line 87, in setup\n",
            "        return distutils.core.setup(**attrs)\n",
            "      File \"C:\\Users\\Chris\\miniconda3\\envs\\chenEnv\\lib\\site-packages\\setuptools\\_distutils\\core.py\", line 148, in setup\n",
            "        return run_commands(dist)\n",
            "      File \"C:\\Users\\Chris\\miniconda3\\envs\\chenEnv\\lib\\site-packages\\setuptools\\_distutils\\core.py\", line 163, in run_commands\n",
            "        dist.run_commands()\n",
            "      File \"C:\\Users\\Chris\\miniconda3\\envs\\chenEnv\\lib\\site-packages\\setuptools\\_distutils\\dist.py\", line 967, in run_commands\n",
            "        self.run_command(cmd)\n",
            "      File \"C:\\Users\\Chris\\miniconda3\\envs\\chenEnv\\lib\\site-packages\\setuptools\\dist.py\", line 1214, in run_command\n",
            "        super().run_command(command)\n",
            "      File \"C:\\Users\\Chris\\miniconda3\\envs\\chenEnv\\lib\\site-packages\\setuptools\\_distutils\\dist.py\", line 986, in run_command\n",
            "        cmd_obj.run()\n",
            "      File \"C:\\Users\\Chris\\miniconda3\\envs\\chenEnv\\lib\\site-packages\\setuptools\\command\\install.py\", line 68, in run\n",
            "        return orig.install.run(self)\n",
            "      File \"C:\\Users\\Chris\\miniconda3\\envs\\chenEnv\\lib\\site-packages\\setuptools\\_distutils\\command\\install.py\", line 664, in run\n",
            "        self.run_command('build')\n",
            "      File \"C:\\Users\\Chris\\miniconda3\\envs\\chenEnv\\lib\\site-packages\\setuptools\\_distutils\\cmd.py\", line 313, in run_command\n",
            "        self.distribution.run_command(command)\n",
            "      File \"C:\\Users\\Chris\\miniconda3\\envs\\chenEnv\\lib\\site-packages\\setuptools\\dist.py\", line 1214, in run_command\n",
            "        super().run_command(command)\n",
            "      File \"C:\\Users\\Chris\\miniconda3\\envs\\chenEnv\\lib\\site-packages\\setuptools\\_distutils\\dist.py\", line 986, in run_command\n",
            "        cmd_obj.run()\n",
            "      File \"C:\\Users\\Chris\\miniconda3\\envs\\chenEnv\\lib\\site-packages\\setuptools\\_distutils\\command\\build.py\", line 135, in run\n",
            "        self.run_command(cmd_name)\n",
            "      File \"C:\\Users\\Chris\\miniconda3\\envs\\chenEnv\\lib\\site-packages\\setuptools\\_distutils\\cmd.py\", line 313, in run_command\n",
            "        self.distribution.run_command(command)\n",
            "      File \"C:\\Users\\Chris\\miniconda3\\envs\\chenEnv\\lib\\site-packages\\setuptools\\dist.py\", line 1214, in run_command\n",
            "        super().run_command(command)\n",
            "      File \"C:\\Users\\Chris\\miniconda3\\envs\\chenEnv\\lib\\site-packages\\setuptools\\_distutils\\dist.py\", line 986, in run_command\n",
            "        cmd_obj.run()\n",
            "      File \"C:\\Users\\Chris\\AppData\\Local\\Temp\\pip-install-us_tj37p\\numcodecs_7e7e6912af694559ac8ac6b20913776a\\setup.py\", line 294, in run\n",
            "        build_ext.run(self)\n",
            "      File \"C:\\Users\\Chris\\miniconda3\\envs\\chenEnv\\lib\\site-packages\\setuptools\\_distutils\\command\\build_ext.py\", line 339, in run\n",
            "        self.build_extensions()\n",
            "      File \"C:\\Users\\Chris\\miniconda3\\envs\\chenEnv\\lib\\site-packages\\setuptools\\_distutils\\command\\build_ext.py\", line 448, in build_extensions\n",
            "        self._build_extensions_serial()\n",
            "      File \"C:\\Users\\Chris\\miniconda3\\envs\\chenEnv\\lib\\site-packages\\setuptools\\_distutils\\command\\build_ext.py\", line 473, in _build_extensions_serial\n",
            "        self.build_extension(ext)\n",
            "      File \"C:\\Users\\Chris\\AppData\\Local\\Temp\\pip-install-us_tj37p\\numcodecs_7e7e6912af694559ac8ac6b20913776a\\setup.py\", line 304, in build_extension\n",
            "        raise BuildFailed()\n",
            "    __main__.BuildFailed\n",
            "    ----------------------------------------\n",
            "ERROR: Command errored out with exit status 1: 'C:\\Users\\Chris\\miniconda3\\envs\\chenEnv\\python.exe' -u -c 'import io, os, sys, setuptools, tokenize; sys.argv[0] = '\"'\"'C:\\\\Users\\\\Chris\\\\AppData\\\\Local\\\\Temp\\\\pip-install-us_tj37p\\\\numcodecs_7e7e6912af694559ac8ac6b20913776a\\\\setup.py'\"'\"'; __file__='\"'\"'C:\\\\Users\\\\Chris\\\\AppData\\\\Local\\\\Temp\\\\pip-install-us_tj37p\\\\numcodecs_7e7e6912af694559ac8ac6b20913776a\\\\setup.py'\"'\"';f = getattr(tokenize, '\"'\"'open'\"'\"', open)(__file__) if os.path.exists(__file__) else io.StringIO('\"'\"'from setuptools import setup; setup()'\"'\"');code = f.read().replace('\"'\"'\\r\\n'\"'\"', '\"'\"'\\n'\"'\"');f.close();exec(compile(code, __file__, '\"'\"'exec'\"'\"'))' install --record 'C:\\Users\\Chris\\AppData\\Local\\Temp\\pip-record-_22r5p6t\\install-record.txt' --single-version-externally-managed --compile --install-headers 'C:\\Users\\Chris\\miniconda3\\envs\\chenEnv\\Include\\numcodecs' Check the logs for full command output.\n"
          ]
        },
        {
          "name": "stdout",
          "output_type": "stream",
          "text": [
            "Collecting git+https://github.com/neurallatents/nlb_tools.git\n",
            "  Cloning https://github.com/neurallatents/nlb_tools.git to c:\\users\\chris\\appdata\\local\\temp\\pip-req-build-jac4howy\n",
            "  Resolved https://github.com/neurallatents/nlb_tools.git to commit ff32239dc19466db9f61462e3d53906df0d0efd6\n",
            "Collecting pandas<=1.3.4,>=1.0.0\n",
            "  Using cached pandas-1.3.4-cp310-cp310-win_amd64.whl (10.2 MB)\n",
            "Requirement already satisfied: scipy in c:\\users\\chris\\miniconda3\\envs\\chenenv\\lib\\site-packages (from nlb-tools==0.0.1) (1.8.1)\n",
            "Requirement already satisfied: numpy in c:\\users\\chris\\miniconda3\\envs\\chenenv\\lib\\site-packages (from nlb-tools==0.0.1) (1.21.6)\n",
            "Collecting scikit-learn\n",
            "  Using cached scikit_learn-1.1.1-cp310-cp310-win_amd64.whl (7.3 MB)\n",
            "Requirement already satisfied: h5py<4,>=2.9 in c:\\users\\chris\\miniconda3\\envs\\chenenv\\lib\\site-packages (from nlb-tools==0.0.1) (3.7.0)\n",
            "Requirement already satisfied: pynwb in c:\\users\\chris\\miniconda3\\envs\\chenenv\\lib\\site-packages (from nlb-tools==0.0.1) (2.0.1)\n",
            "Requirement already satisfied: pytz>=2017.3 in c:\\users\\chris\\miniconda3\\envs\\chenenv\\lib\\site-packages (from pandas<=1.3.4,>=1.0.0->nlb-tools==0.0.1) (2022.1)\n",
            "Requirement already satisfied: python-dateutil>=2.7.3 in c:\\users\\chris\\miniconda3\\envs\\chenenv\\lib\\site-packages (from pandas<=1.3.4,>=1.0.0->nlb-tools==0.0.1) (2.8.2)\n",
            "Requirement already satisfied: six>=1.5 in c:\\users\\chris\\miniconda3\\envs\\chenenv\\lib\\site-packages (from python-dateutil>=2.7.3->pandas<=1.3.4,>=1.0.0->nlb-tools==0.0.1) (1.16.0)\n",
            "Requirement already satisfied: setuptools in c:\\users\\chris\\miniconda3\\envs\\chenenv\\lib\\site-packages (from pynwb->nlb-tools==0.0.1) (61.2.0)\n",
            "Requirement already satisfied: hdmf<4,>=3.1.1 in c:\\users\\chris\\miniconda3\\envs\\chenenv\\lib\\site-packages (from pynwb->nlb-tools==0.0.1) (3.3.1)\n",
            "Requirement already satisfied: jsonschema<5,>=2.6.0 in c:\\users\\chris\\miniconda3\\envs\\chenenv\\lib\\site-packages (from hdmf<4,>=3.1.1->pynwb->nlb-tools==0.0.1) (4.6.0)\n",
            "Requirement already satisfied: ruamel.yaml<1,>=0.16 in c:\\users\\chris\\miniconda3\\envs\\chenenv\\lib\\site-packages (from hdmf<4,>=3.1.1->pynwb->nlb-tools==0.0.1) (0.17.21)\n",
            "Requirement already satisfied: attrs>=17.4.0 in c:\\users\\chris\\miniconda3\\envs\\chenenv\\lib\\site-packages (from jsonschema<5,>=2.6.0->hdmf<4,>=3.1.1->pynwb->nlb-tools==0.0.1) (21.4.0)\n",
            "Requirement already satisfied: pyrsistent!=0.17.0,!=0.17.1,!=0.17.2,>=0.14.0 in c:\\users\\chris\\miniconda3\\envs\\chenenv\\lib\\site-packages (from jsonschema<5,>=2.6.0->hdmf<4,>=3.1.1->pynwb->nlb-tools==0.0.1) (0.18.1)\n",
            "Requirement already satisfied: ruamel.yaml.clib>=0.2.6 in c:\\users\\chris\\miniconda3\\envs\\chenenv\\lib\\site-packages (from ruamel.yaml<1,>=0.16->hdmf<4,>=3.1.1->pynwb->nlb-tools==0.0.1) (0.2.6)\n",
            "Collecting joblib>=1.0.0\n",
            "  Using cached joblib-1.1.0-py2.py3-none-any.whl (306 kB)\n",
            "Collecting threadpoolctl>=2.0.0\n",
            "  Using cached threadpoolctl-3.1.0-py3-none-any.whl (14 kB)\n",
            "Building wheels for collected packages: nlb-tools\n",
            "  Building wheel for nlb-tools (setup.py): started\n",
            "  Building wheel for nlb-tools (setup.py): finished with status 'done'\n",
            "  Created wheel for nlb-tools: filename=nlb_tools-0.0.1-py3-none-any.whl size=33173 sha256=4500317c82701a3246f45eadcf531b4eeb2e7d0fc659cfa181811b02a8345460\n",
            "  Stored in directory: C:\\Users\\Chris\\AppData\\Local\\Temp\\pip-ephem-wheel-cache-ao6v5pzt\\wheels\\db\\f1\\81\\e0fabfc232e056102d5fca550b8e96a117cb3a0f0dde1a1085\n",
            "Successfully built nlb-tools\n",
            "Installing collected packages: pandas, threadpoolctl, joblib, scikit-learn, nlb-tools\n",
            "  Attempting uninstall: pandas\n",
            "    Found existing installation: pandas 1.4.2\n",
            "    Uninstalling pandas-1.4.2:\n",
            "      Successfully uninstalled pandas-1.4.2\n",
            "Successfully installed joblib-1.1.0 nlb-tools-0.0.1 pandas-1.3.4 scikit-learn-1.1.1 threadpoolctl-3.1.0\n"
          ]
        },
        {
          "name": "stderr",
          "output_type": "stream",
          "text": [
            "  Running command git clone -q https://github.com/neurallatents/nlb_tools.git 'C:\\Users\\Chris\\AppData\\Local\\Temp\\pip-req-build-jac4howy'\n"
          ]
        },
        {
          "name": "stdout",
          "output_type": "stream",
          "text": [
            "Collecting cmasher\n",
            "  Using cached cmasher-1.6.3-py3-none-any.whl (367 kB)\n",
            "Collecting matplotlib>=2.2.4\n",
            "  Using cached matplotlib-3.5.2-cp310-cp310-win_amd64.whl (7.2 MB)\n",
            "Requirement already satisfied: numpy>=1.16.0 in c:\\users\\chris\\miniconda3\\envs\\chenenv\\lib\\site-packages (from cmasher) (1.21.6)\n",
            "Collecting e13tools>=0.9.4\n",
            "  Using cached e13tools-0.9.6-py3-none-any.whl (40 kB)\n",
            "Collecting colorspacious>=1.1.0\n",
            "  Using cached colorspacious-1.1.2-py2.py3-none-any.whl (37 kB)\n",
            "Collecting cycler>=0.10\n",
            "  Using cached cycler-0.11.0-py3-none-any.whl (6.4 kB)\n",
            "Requirement already satisfied: python-dateutil>=2.7 in c:\\users\\chris\\miniconda3\\envs\\chenenv\\lib\\site-packages (from matplotlib>=2.2.4->cmasher) (2.8.2)\n",
            "Requirement already satisfied: pillow>=6.2.0 in c:\\users\\chris\\miniconda3\\envs\\chenenv\\lib\\site-packages (from matplotlib>=2.2.4->cmasher) (9.1.1)\n",
            "Collecting kiwisolver>=1.0.1\n",
            "  Using cached kiwisolver-1.4.3-cp310-cp310-win_amd64.whl (55 kB)\n",
            "Requirement already satisfied: packaging>=20.0 in c:\\users\\chris\\miniconda3\\envs\\chenenv\\lib\\site-packages (from matplotlib>=2.2.4->cmasher) (21.3)\n",
            "Requirement already satisfied: pyparsing>=2.2.1 in c:\\users\\chris\\miniconda3\\envs\\chenenv\\lib\\site-packages (from matplotlib>=2.2.4->cmasher) (3.0.9)\n",
            "Collecting fonttools>=4.22.0\n",
            "  Using cached fonttools-4.33.3-py3-none-any.whl (930 kB)\n",
            "Requirement already satisfied: six>=1.5 in c:\\users\\chris\\miniconda3\\envs\\chenenv\\lib\\site-packages (from python-dateutil>=2.7->matplotlib>=2.2.4->cmasher) (1.16.0)\n",
            "Installing collected packages: kiwisolver, fonttools, cycler, matplotlib, e13tools, colorspacious, cmasher\n",
            "Successfully installed cmasher-1.6.3 colorspacious-1.1.2 cycler-0.11.0 e13tools-0.9.6 fonttools-4.33.3 kiwisolver-1.4.3 matplotlib-3.5.2\n"
          ]
        }
      ],
      "source": [
        "!pip3 install torch\n",
        "!pip3 install pytorch_lightning\n",
        "!pip3 install torchvision\n",
        "!pip3 install dandi\n",
        "!pip3 install git+https://github.com/neurallatents/nlb_tools.git\n",
        "!pip3 install cmasher"
      ]
    },
    {
      "cell_type": "markdown",
      "metadata": {
        "id": "CbVaWotNFO8J"
      },
      "source": [
        "## Data download"
      ]
    },
    {
      "cell_type": "code",
      "execution_count": 2,
      "metadata": {
        "colab": {
          "base_uri": "https://localhost:8080/"
        },
        "id": "PJz17jzwFVYL",
        "outputId": "6c0fa54f-c419-4c57-a7f4-865c27c2a7d8"
      },
      "outputs": [
        {
          "name": "stderr",
          "output_type": "stream",
          "text": [
            "'dandi' is not recognized as an internal or external command,\n",
            "operable program or batch file.\n"
          ]
        }
      ],
      "source": [
        "!dandi download DANDI:000140/0.220113.0408"
      ]
    },
    {
      "cell_type": "markdown",
      "metadata": {
        "id": "qWGzkYw-FR19"
      },
      "source": [
        "## Imports"
      ]
    },
    {
      "cell_type": "code",
      "execution_count": 1,
      "metadata": {
        "colab": {
          "base_uri": "https://localhost:8080/"
        },
        "id": "97HAAhTWj4WO",
        "outputId": "8bd1e057-c2e8-458d-87bd-49b4150f181c"
      },
      "outputs": [
        {
          "name": "stderr",
          "output_type": "stream",
          "text": [
            "c:\\Users\\Chris\\miniconda3\\envs\\chenEnv\\lib\\site-packages\\tqdm\\auto.py:22: TqdmWarning: IProgress not found. Please update jupyter and ipywidgets. See https://ipywidgets.readthedocs.io/en/stable/user_install.html\n",
            "  from .autonotebook import tqdm as notebook_tqdm\n"
          ]
        },
        {
          "data": {
            "text/plain": [
              "['sub-Jenkins_ses-small_desc-test_ecephys.nwb',\n",
              " 'sub-Jenkins_ses-small_desc-train_behavior+ecephys.nwb']"
            ]
          },
          "execution_count": 1,
          "metadata": {},
          "output_type": "execute_result"
        }
      ],
      "source": [
        "\n",
        "# Imports\n",
        "import os\n",
        "import torch\n",
        "from torchvision import datasets\n",
        "from torchvision import transforms\n",
        "\n",
        "from nlb_tools.nwb_interface import NWBDataset\n",
        "import h5py\n",
        "import numpy as np\n",
        "import logging\n",
        "import torch.nn.functional as F\n",
        "import torch.nn as nn\n",
        "from torch.utils.data import DataLoader, TensorDataset\n",
        "import cmasher as cmr\n",
        "logger = logging.getLogger(__name__)\n",
        "from sklearn.decomposition import PCA\n",
        "from torch.autograd import Variable\n",
        "\n",
        "import matplotlib.pyplot as plt\n",
        "from mpl_toolkits.mplot3d import axes3d   \n",
        "\n",
        "import random\n",
        "random.seed(2022)\n",
        "\n",
        "curr_path = os.getcwd()\n",
        "fpath = curr_path + '/000140/sub-Jenkins/'\n",
        "os.listdir(fpath) "
      ]
    },
    {
      "cell_type": "code",
      "execution_count": 2,
      "metadata": {
        "id": "RsswKOV-SyXI"
      },
      "outputs": [],
      "source": [
        "''' Tensor saving functions '''\n",
        "\n",
        "def _check_h5_r(data_dict, h5obj, overwrite):\n",
        "    \"\"\"Recursive helper function that finds duplicate keys and deletes them if `overwrite == True`\n",
        "    \n",
        "    Parameters\n",
        "    ----------\n",
        "    data_dict : dict\n",
        "        Dict containing data to be saved in HDF5 format\n",
        "    h5obj : h5py.File or h5py.Group\n",
        "        h5py object to check for duplicates\n",
        "    overwrite : bool, optional\n",
        "        Whether to overwrite duplicate data found \n",
        "        at `save_path` if file already exists, by\n",
        "        default False\n",
        "    \n",
        "    Returns\n",
        "    -------\n",
        "    tuple\n",
        "        Tuple containing bool of whether `h5obj` passes\n",
        "        checks and list of duplicate keys found\n",
        "    \"\"\"\n",
        "    dup_list = []\n",
        "    good = True\n",
        "    for key in data_dict.keys():\n",
        "        if key in h5obj.keys():\n",
        "            if isinstance(h5obj[key], h5py.Group) and isinstance(data_dict[key], dict):\n",
        "                rgood, rdup_list = _check_h5_r(data_dict[key], h5obj[key], overwrite)\n",
        "                good = good and rgood\n",
        "                dup_list += list(zip([key] * len(rdup_list), rdup_list))\n",
        "            else:\n",
        "                dup_list.append(key)\n",
        "                if overwrite:\n",
        "                    del h5obj[key]\n",
        "                else:\n",
        "                    good = False\n",
        "    return good, dup_list\n",
        "\n",
        "def save_to_h5(data_dict, save_path, overwrite=False, dlen=32):\n",
        "    \"\"\"Function that saves dict as .h5 file while preserving\n",
        "    nested dict structure\n",
        "\n",
        "    Parameters\n",
        "    ----------\n",
        "    data_dict : dict\n",
        "        Dict containing data to be saved in HDF5 format\n",
        "    save_path : str\n",
        "        Path to location where data should be saved\n",
        "    overwrite : bool, optional\n",
        "        Whether to overwrite duplicate data found \n",
        "        at `save_path` if file already exists, by\n",
        "        default False\n",
        "    dlen : int, optional\n",
        "        Byte length of data format to save numerical data,\n",
        "        by default 32.\n",
        "    \"\"\"\n",
        "    h5file = h5py.File(save_path, 'a')\n",
        "    good, dup_list = _check_h5_r(data_dict, h5file, overwrite)\n",
        "    if good:\n",
        "        if len(dup_list) > 0:\n",
        "            logger.warning(f\"{dup_list} already found in {save_path}. Overwriting...\")\n",
        "        _save_h5_r(data_dict, h5file, dlen)\n",
        "        logger.info(f\"Saved data to {save_path}\")\n",
        "    else:\n",
        "        logger.warning(f\"{dup_list} already found in {save_path}. Save to file canceled. \" \\\n",
        "            \"Please set `overwrite=True` or specify a different file path.\")\n",
        "    h5file.close()\n",
        "\n",
        "    \n",
        "def _save_h5_r(data_dict, h5obj, dlen):\n",
        "    \"\"\"Recursive function that adds all the items in a dict to an h5py.File or h5py.Group object\n",
        "\n",
        "    Parameters\n",
        "    ----------\n",
        "    data_dict : dict\n",
        "        Dict containing data to be saved in HDF5 format\n",
        "    h5obj : h5py.File or h5py.Group\n",
        "        h5py object to save data to\n",
        "    dlen : int, optional\n",
        "        Byte length of data format to save numerical data,\n",
        "        by default 32.\n",
        "    \"\"\"\n",
        "    for key, val in data_dict.items():\n",
        "        if isinstance(val, dict):\n",
        "            h5group = h5obj[key] if key in h5obj.keys() else h5obj.create_group(key)\n",
        "            _save_h5_r(val, h5group, dlen)\n",
        "        else:\n",
        "            if val.dtype == 'object':\n",
        "                sub_dtype = f'float{dlen}' if val[0].dtype == np.float else f'int{dlen}' if val[0].dtype == np.int else val[0].dtype\n",
        "                dtype = h5py.vlen_dtype(sub_dtype)\n",
        "            else:\n",
        "                dtype = f'float{dlen}' if val.dtype == np.float else f'int{dlen}' if val.dtype == np.int else val.dtype\n",
        "            h5obj.create_dataset(key, data=val, dtype=dtype)\n",
        "            \n",
        "def to_tensor(array):\n",
        "    \"\"\"Converts a loaded numpy array to a tensor\n",
        "    and ensures correct dtype\n",
        "\n",
        "    Parameters\n",
        "    ----------\n",
        "    array : np.array\n",
        "        The numpy array to convert.\n",
        "\n",
        "    Returns\n",
        "    -------\n",
        "    torch.Tensor\n",
        "        The converted tensor.\n",
        "    \"\"\"\n",
        "    return torch.tensor(array, dtype=torch.float)\n",
        "            "
      ]
    },
    {
      "cell_type": "markdown",
      "metadata": {
        "id": "fk_B-iE48eMU"
      },
      "source": [
        "# Part 1: Neural Dynamics and Maze Data"
      ]
    },
    {
      "cell_type": "markdown",
      "metadata": {
        "id": "613vo76k8kaA"
      },
      "source": [
        "## Overview of Maze Dataset"
      ]
    },
    {
      "cell_type": "code",
      "execution_count": 3,
      "metadata": {
        "colab": {
          "base_uri": "https://localhost:8080/"
        },
        "id": "hNBbZJIDE1wH",
        "outputId": "903df964-0986-4e17-d37e-dd8af343a00b"
      },
      "outputs": [
        {
          "name": "stderr",
          "output_type": "stream",
          "text": [
            "c:\\Users\\Chris\\miniconda3\\envs\\chenEnv\\lib\\site-packages\\hdmf\\utils.py:577: FutureWarning: DynamicTable.__init__: Using positional arguments for this method is discouraged and will be deprecated in a future major release. Please use keyword arguments to ensure future compatibility.\n",
            "  warnings.warn(msg, FutureWarning)\n"
          ]
        },
        {
          "name": "stdout",
          "output_type": "stream",
          "text": [
            "Data shape: (373666, 150)\n",
            "Bin width: 1 ms\n",
            "Resampled data shape: (3737, 150)\n",
            "Resampled bin width: 100 ms\n"
          ]
        }
      ],
      "source": [
        "dataset = NWBDataset(fpath=fpath) \n",
        "\n",
        "print(f'Data shape: {dataset.data.shape}')\n",
        "print(f'Bin width: {dataset.bin_width} ms')\n",
        "dataset.resample(100)\n",
        "print(f'Resampled data shape: {dataset.data.shape}')\n",
        "print(f'Resampled bin width: {dataset.bin_width} ms')"
      ]
    },
    {
      "cell_type": "markdown",
      "metadata": {
        "id": "C13BJ-Nv8pz6"
      },
      "source": [
        "## Inspect Maze dataset\n"
      ]
    },
    {
      "cell_type": "code",
      "execution_count": 4,
      "metadata": {
        "colab": {
          "base_uri": "https://localhost:8080/",
          "height": 707
        },
        "id": "vCqCGJ6alJp5",
        "outputId": "66630fdc-e552-4d60-a393-8e4921862134"
      },
      "outputs": [
        {
          "data": {
            "text/html": [
              "<div>\n",
              "<style scoped>\n",
              "    .dataframe tbody tr th:only-of-type {\n",
              "        vertical-align: middle;\n",
              "    }\n",
              "\n",
              "    .dataframe tbody tr th {\n",
              "        vertical-align: top;\n",
              "    }\n",
              "\n",
              "    .dataframe thead tr th {\n",
              "        text-align: left;\n",
              "    }\n",
              "\n",
              "    .dataframe thead tr:last-of-type th {\n",
              "        text-align: right;\n",
              "    }\n",
              "</style>\n",
              "<table border=\"1\" class=\"dataframe\">\n",
              "  <thead>\n",
              "    <tr>\n",
              "      <th>signal_type</th>\n",
              "      <th colspan=\"2\" halign=\"left\">cursor_pos</th>\n",
              "      <th colspan=\"2\" halign=\"left\">eye_pos</th>\n",
              "      <th colspan=\"2\" halign=\"left\">hand_pos</th>\n",
              "      <th colspan=\"2\" halign=\"left\">hand_vel</th>\n",
              "      <th colspan=\"2\" halign=\"left\">heldout_spikes</th>\n",
              "      <th>...</th>\n",
              "      <th colspan=\"10\" halign=\"left\">spikes</th>\n",
              "    </tr>\n",
              "    <tr>\n",
              "      <th>channel</th>\n",
              "      <th>x</th>\n",
              "      <th>y</th>\n",
              "      <th>x</th>\n",
              "      <th>y</th>\n",
              "      <th>x</th>\n",
              "      <th>y</th>\n",
              "      <th>x</th>\n",
              "      <th>y</th>\n",
              "      <th>1012</th>\n",
              "      <th>1021</th>\n",
              "      <th>...</th>\n",
              "      <th>2771</th>\n",
              "      <th>2772</th>\n",
              "      <th>2791</th>\n",
              "      <th>2792</th>\n",
              "      <th>2801</th>\n",
              "      <th>2802</th>\n",
              "      <th>2812</th>\n",
              "      <th>2821</th>\n",
              "      <th>2842</th>\n",
              "      <th>2861</th>\n",
              "    </tr>\n",
              "    <tr>\n",
              "      <th>clock_time</th>\n",
              "      <th></th>\n",
              "      <th></th>\n",
              "      <th></th>\n",
              "      <th></th>\n",
              "      <th></th>\n",
              "      <th></th>\n",
              "      <th></th>\n",
              "      <th></th>\n",
              "      <th></th>\n",
              "      <th></th>\n",
              "      <th></th>\n",
              "      <th></th>\n",
              "      <th></th>\n",
              "      <th></th>\n",
              "      <th></th>\n",
              "      <th></th>\n",
              "      <th></th>\n",
              "      <th></th>\n",
              "      <th></th>\n",
              "      <th></th>\n",
              "      <th></th>\n",
              "    </tr>\n",
              "  </thead>\n",
              "  <tbody>\n",
              "    <tr>\n",
              "      <th>0 days 00:00:00</th>\n",
              "      <td>NaN</td>\n",
              "      <td>NaN</td>\n",
              "      <td>NaN</td>\n",
              "      <td>NaN</td>\n",
              "      <td>NaN</td>\n",
              "      <td>NaN</td>\n",
              "      <td>NaN</td>\n",
              "      <td>NaN</td>\n",
              "      <td>NaN</td>\n",
              "      <td>NaN</td>\n",
              "      <td>...</td>\n",
              "      <td>0.0</td>\n",
              "      <td>0.0</td>\n",
              "      <td>0.0</td>\n",
              "      <td>0.0</td>\n",
              "      <td>0.0</td>\n",
              "      <td>2.0</td>\n",
              "      <td>0.0</td>\n",
              "      <td>2.0</td>\n",
              "      <td>0.0</td>\n",
              "      <td>0.0</td>\n",
              "    </tr>\n",
              "    <tr>\n",
              "      <th>0 days 00:00:00.100000</th>\n",
              "      <td>NaN</td>\n",
              "      <td>NaN</td>\n",
              "      <td>NaN</td>\n",
              "      <td>NaN</td>\n",
              "      <td>NaN</td>\n",
              "      <td>NaN</td>\n",
              "      <td>NaN</td>\n",
              "      <td>NaN</td>\n",
              "      <td>NaN</td>\n",
              "      <td>NaN</td>\n",
              "      <td>...</td>\n",
              "      <td>0.0</td>\n",
              "      <td>1.0</td>\n",
              "      <td>0.0</td>\n",
              "      <td>0.0</td>\n",
              "      <td>0.0</td>\n",
              "      <td>1.0</td>\n",
              "      <td>1.0</td>\n",
              "      <td>1.0</td>\n",
              "      <td>0.0</td>\n",
              "      <td>0.0</td>\n",
              "    </tr>\n",
              "    <tr>\n",
              "      <th>0 days 00:00:00.200000</th>\n",
              "      <td>NaN</td>\n",
              "      <td>NaN</td>\n",
              "      <td>NaN</td>\n",
              "      <td>NaN</td>\n",
              "      <td>NaN</td>\n",
              "      <td>NaN</td>\n",
              "      <td>NaN</td>\n",
              "      <td>NaN</td>\n",
              "      <td>NaN</td>\n",
              "      <td>NaN</td>\n",
              "      <td>...</td>\n",
              "      <td>0.0</td>\n",
              "      <td>0.0</td>\n",
              "      <td>0.0</td>\n",
              "      <td>0.0</td>\n",
              "      <td>0.0</td>\n",
              "      <td>2.0</td>\n",
              "      <td>0.0</td>\n",
              "      <td>1.0</td>\n",
              "      <td>0.0</td>\n",
              "      <td>0.0</td>\n",
              "    </tr>\n",
              "    <tr>\n",
              "      <th>0 days 00:00:00.300000</th>\n",
              "      <td>NaN</td>\n",
              "      <td>NaN</td>\n",
              "      <td>NaN</td>\n",
              "      <td>NaN</td>\n",
              "      <td>NaN</td>\n",
              "      <td>NaN</td>\n",
              "      <td>NaN</td>\n",
              "      <td>NaN</td>\n",
              "      <td>NaN</td>\n",
              "      <td>NaN</td>\n",
              "      <td>...</td>\n",
              "      <td>0.0</td>\n",
              "      <td>0.0</td>\n",
              "      <td>0.0</td>\n",
              "      <td>0.0</td>\n",
              "      <td>0.0</td>\n",
              "      <td>1.0</td>\n",
              "      <td>0.0</td>\n",
              "      <td>0.0</td>\n",
              "      <td>1.0</td>\n",
              "      <td>0.0</td>\n",
              "    </tr>\n",
              "    <tr>\n",
              "      <th>0 days 00:00:00.400000</th>\n",
              "      <td>NaN</td>\n",
              "      <td>NaN</td>\n",
              "      <td>NaN</td>\n",
              "      <td>NaN</td>\n",
              "      <td>NaN</td>\n",
              "      <td>NaN</td>\n",
              "      <td>NaN</td>\n",
              "      <td>NaN</td>\n",
              "      <td>NaN</td>\n",
              "      <td>NaN</td>\n",
              "      <td>...</td>\n",
              "      <td>0.0</td>\n",
              "      <td>0.0</td>\n",
              "      <td>0.0</td>\n",
              "      <td>0.0</td>\n",
              "      <td>0.0</td>\n",
              "      <td>1.0</td>\n",
              "      <td>0.0</td>\n",
              "      <td>0.0</td>\n",
              "      <td>1.0</td>\n",
              "      <td>0.0</td>\n",
              "    </tr>\n",
              "    <tr>\n",
              "      <th>...</th>\n",
              "      <td>...</td>\n",
              "      <td>...</td>\n",
              "      <td>...</td>\n",
              "      <td>...</td>\n",
              "      <td>...</td>\n",
              "      <td>...</td>\n",
              "      <td>...</td>\n",
              "      <td>...</td>\n",
              "      <td>...</td>\n",
              "      <td>...</td>\n",
              "      <td>...</td>\n",
              "      <td>...</td>\n",
              "      <td>...</td>\n",
              "      <td>...</td>\n",
              "      <td>...</td>\n",
              "      <td>...</td>\n",
              "      <td>...</td>\n",
              "      <td>...</td>\n",
              "      <td>...</td>\n",
              "      <td>...</td>\n",
              "      <td>...</td>\n",
              "    </tr>\n",
              "    <tr>\n",
              "      <th>0 days 00:06:13.200000</th>\n",
              "      <td>-116.830138</td>\n",
              "      <td>-79.026112</td>\n",
              "      <td>-86.691485</td>\n",
              "      <td>-84.267839</td>\n",
              "      <td>-116.827882</td>\n",
              "      <td>-114.052252</td>\n",
              "      <td>1.949748</td>\n",
              "      <td>-2.576864</td>\n",
              "      <td>0.0</td>\n",
              "      <td>0.0</td>\n",
              "      <td>...</td>\n",
              "      <td>0.0</td>\n",
              "      <td>0.0</td>\n",
              "      <td>0.0</td>\n",
              "      <td>0.0</td>\n",
              "      <td>0.0</td>\n",
              "      <td>0.0</td>\n",
              "      <td>0.0</td>\n",
              "      <td>1.0</td>\n",
              "      <td>0.0</td>\n",
              "      <td>0.0</td>\n",
              "    </tr>\n",
              "    <tr>\n",
              "      <th>0 days 00:06:13.300000</th>\n",
              "      <td>-116.750049</td>\n",
              "      <td>-79.240785</td>\n",
              "      <td>-122.406536</td>\n",
              "      <td>-118.812424</td>\n",
              "      <td>-116.787412</td>\n",
              "      <td>-114.255468</td>\n",
              "      <td>-0.821926</td>\n",
              "      <td>-1.249173</td>\n",
              "      <td>0.0</td>\n",
              "      <td>0.0</td>\n",
              "      <td>...</td>\n",
              "      <td>0.0</td>\n",
              "      <td>0.0</td>\n",
              "      <td>0.0</td>\n",
              "      <td>0.0</td>\n",
              "      <td>0.0</td>\n",
              "      <td>0.0</td>\n",
              "      <td>0.0</td>\n",
              "      <td>2.0</td>\n",
              "      <td>0.0</td>\n",
              "      <td>0.0</td>\n",
              "    </tr>\n",
              "    <tr>\n",
              "      <th>0 days 00:06:13.400000</th>\n",
              "      <td>-116.724796</td>\n",
              "      <td>-79.349803</td>\n",
              "      <td>-131.168424</td>\n",
              "      <td>-127.937248</td>\n",
              "      <td>-116.748921</td>\n",
              "      <td>-114.370507</td>\n",
              "      <td>1.088111</td>\n",
              "      <td>-1.063585</td>\n",
              "      <td>0.0</td>\n",
              "      <td>0.0</td>\n",
              "      <td>...</td>\n",
              "      <td>0.0</td>\n",
              "      <td>0.0</td>\n",
              "      <td>1.0</td>\n",
              "      <td>0.0</td>\n",
              "      <td>0.0</td>\n",
              "      <td>0.0</td>\n",
              "      <td>0.0</td>\n",
              "      <td>1.0</td>\n",
              "      <td>0.0</td>\n",
              "      <td>0.0</td>\n",
              "    </tr>\n",
              "    <tr>\n",
              "      <th>0 days 00:06:13.500000</th>\n",
              "      <td>-117.005937</td>\n",
              "      <td>-79.675037</td>\n",
              "      <td>-129.926425</td>\n",
              "      <td>-125.788834</td>\n",
              "      <td>-117.033121</td>\n",
              "      <td>-114.812497</td>\n",
              "      <td>1.888181</td>\n",
              "      <td>0.758564</td>\n",
              "      <td>0.0</td>\n",
              "      <td>0.0</td>\n",
              "      <td>...</td>\n",
              "      <td>0.0</td>\n",
              "      <td>0.0</td>\n",
              "      <td>0.0</td>\n",
              "      <td>1.0</td>\n",
              "      <td>0.0</td>\n",
              "      <td>0.0</td>\n",
              "      <td>0.0</td>\n",
              "      <td>1.0</td>\n",
              "      <td>0.0</td>\n",
              "      <td>0.0</td>\n",
              "    </tr>\n",
              "    <tr>\n",
              "      <th>0 days 00:06:13.600000</th>\n",
              "      <td>-116.155788</td>\n",
              "      <td>-78.966177</td>\n",
              "      <td>-129.233038</td>\n",
              "      <td>-124.267660</td>\n",
              "      <td>-116.184327</td>\n",
              "      <td>-113.867058</td>\n",
              "      <td>0.111294</td>\n",
              "      <td>3.708668</td>\n",
              "      <td>0.0</td>\n",
              "      <td>0.0</td>\n",
              "      <td>...</td>\n",
              "      <td>1.0</td>\n",
              "      <td>0.0</td>\n",
              "      <td>0.0</td>\n",
              "      <td>1.0</td>\n",
              "      <td>0.0</td>\n",
              "      <td>1.0</td>\n",
              "      <td>0.0</td>\n",
              "      <td>0.0</td>\n",
              "      <td>0.0</td>\n",
              "      <td>0.0</td>\n",
              "    </tr>\n",
              "  </tbody>\n",
              "</table>\n",
              "<p>3737 rows × 150 columns</p>\n",
              "</div>"
            ],
            "text/plain": [
              "signal_type             cursor_pos                eye_pos              \\\n",
              "channel                          x          y           x           y   \n",
              "clock_time                                                              \n",
              "0 days 00:00:00                NaN        NaN         NaN         NaN   \n",
              "0 days 00:00:00.100000         NaN        NaN         NaN         NaN   \n",
              "0 days 00:00:00.200000         NaN        NaN         NaN         NaN   \n",
              "0 days 00:00:00.300000         NaN        NaN         NaN         NaN   \n",
              "0 days 00:00:00.400000         NaN        NaN         NaN         NaN   \n",
              "...                            ...        ...         ...         ...   \n",
              "0 days 00:06:13.200000 -116.830138 -79.026112  -86.691485  -84.267839   \n",
              "0 days 00:06:13.300000 -116.750049 -79.240785 -122.406536 -118.812424   \n",
              "0 days 00:06:13.400000 -116.724796 -79.349803 -131.168424 -127.937248   \n",
              "0 days 00:06:13.500000 -117.005937 -79.675037 -129.926425 -125.788834   \n",
              "0 days 00:06:13.600000 -116.155788 -78.966177 -129.233038 -124.267660   \n",
              "\n",
              "signal_type               hand_pos              hand_vel            \\\n",
              "channel                          x           y         x         y   \n",
              "clock_time                                                           \n",
              "0 days 00:00:00                NaN         NaN       NaN       NaN   \n",
              "0 days 00:00:00.100000         NaN         NaN       NaN       NaN   \n",
              "0 days 00:00:00.200000         NaN         NaN       NaN       NaN   \n",
              "0 days 00:00:00.300000         NaN         NaN       NaN       NaN   \n",
              "0 days 00:00:00.400000         NaN         NaN       NaN       NaN   \n",
              "...                            ...         ...       ...       ...   \n",
              "0 days 00:06:13.200000 -116.827882 -114.052252  1.949748 -2.576864   \n",
              "0 days 00:06:13.300000 -116.787412 -114.255468 -0.821926 -1.249173   \n",
              "0 days 00:06:13.400000 -116.748921 -114.370507  1.088111 -1.063585   \n",
              "0 days 00:06:13.500000 -117.033121 -114.812497  1.888181  0.758564   \n",
              "0 days 00:06:13.600000 -116.184327 -113.867058  0.111294  3.708668   \n",
              "\n",
              "signal_type            heldout_spikes       ... spikes                      \\\n",
              "channel                          1012 1021  ...   2771 2772 2791 2792 2801   \n",
              "clock_time                                  ...                              \n",
              "0 days 00:00:00                   NaN  NaN  ...    0.0  0.0  0.0  0.0  0.0   \n",
              "0 days 00:00:00.100000            NaN  NaN  ...    0.0  1.0  0.0  0.0  0.0   \n",
              "0 days 00:00:00.200000            NaN  NaN  ...    0.0  0.0  0.0  0.0  0.0   \n",
              "0 days 00:00:00.300000            NaN  NaN  ...    0.0  0.0  0.0  0.0  0.0   \n",
              "0 days 00:00:00.400000            NaN  NaN  ...    0.0  0.0  0.0  0.0  0.0   \n",
              "...                               ...  ...  ...    ...  ...  ...  ...  ...   \n",
              "0 days 00:06:13.200000            0.0  0.0  ...    0.0  0.0  0.0  0.0  0.0   \n",
              "0 days 00:06:13.300000            0.0  0.0  ...    0.0  0.0  0.0  0.0  0.0   \n",
              "0 days 00:06:13.400000            0.0  0.0  ...    0.0  0.0  1.0  0.0  0.0   \n",
              "0 days 00:06:13.500000            0.0  0.0  ...    0.0  0.0  0.0  1.0  0.0   \n",
              "0 days 00:06:13.600000            0.0  0.0  ...    1.0  0.0  0.0  1.0  0.0   \n",
              "\n",
              "signal_type                                      \n",
              "channel                2802 2812 2821 2842 2861  \n",
              "clock_time                                       \n",
              "0 days 00:00:00         2.0  0.0  2.0  0.0  0.0  \n",
              "0 days 00:00:00.100000  1.0  1.0  1.0  0.0  0.0  \n",
              "0 days 00:00:00.200000  2.0  0.0  1.0  0.0  0.0  \n",
              "0 days 00:00:00.300000  1.0  0.0  0.0  1.0  0.0  \n",
              "0 days 00:00:00.400000  1.0  0.0  0.0  1.0  0.0  \n",
              "...                     ...  ...  ...  ...  ...  \n",
              "0 days 00:06:13.200000  0.0  0.0  1.0  0.0  0.0  \n",
              "0 days 00:06:13.300000  0.0  0.0  2.0  0.0  0.0  \n",
              "0 days 00:06:13.400000  0.0  0.0  1.0  0.0  0.0  \n",
              "0 days 00:06:13.500000  0.0  0.0  1.0  0.0  0.0  \n",
              "0 days 00:06:13.600000  1.0  0.0  0.0  0.0  0.0  \n",
              "\n",
              "[3737 rows x 150 columns]"
            ]
          },
          "execution_count": 4,
          "metadata": {},
          "output_type": "execute_result"
        }
      ],
      "source": [
        "\n",
        "dataset.data"
      ]
    },
    {
      "cell_type": "code",
      "execution_count": 8,
      "metadata": {
        "id": "zpJeUH02qyLs"
      },
      "outputs": [],
      "source": [
        "# Visualize data"
      ]
    },
    {
      "cell_type": "markdown",
      "metadata": {
        "id": "Pu3Aoeqi8wp3"
      },
      "source": [
        "## Trim and package data for training"
      ]
    },
    {
      "cell_type": "code",
      "execution_count": 5,
      "metadata": {
        "colab": {
          "base_uri": "https://localhost:8080/"
        },
        "id": "_PpDGUtOq6Oc",
        "outputId": "c4c5220f-814a-4e9a-f4b5-f3b90ff2170c"
      },
      "outputs": [
        {
          "name": "stderr",
          "output_type": "stream",
          "text": [
            "['train_spikes_heldin', 'train_spikes_heldout'] already found in train_input_array.h5. Overwriting...\n"
          ]
        },
        {
          "name": "stdout",
          "output_type": "stream",
          "text": [
            "Shape of heldin array (525, 107).\n",
            "Shape of heldout array (525, 35).\n"
          ]
        },
        {
          "name": "stderr",
          "output_type": "stream",
          "text": [
            "C:\\Users\\Chris\\AppData\\Local\\Temp\\ipykernel_17356\\3439920927.py:92: DeprecationWarning: `np.float` is a deprecated alias for the builtin `float`. To silence this warning, use `float` by itself. Doing this will not modify any behavior and is safe. If you specifically wanted the numpy scalar type, use `np.float64` here.\n",
            "Deprecated in NumPy 1.20; for more details and guidance: https://numpy.org/devdocs/release/1.20.0-notes.html#deprecations\n",
            "  dtype = f'float{dlen}' if val.dtype == np.float else f'int{dlen}' if val.dtype == np.int else val.dtype\n",
            "C:\\Users\\Chris\\AppData\\Local\\Temp\\ipykernel_17356\\3439920927.py:92: DeprecationWarning: `np.int` is a deprecated alias for the builtin `int`. To silence this warning, use `int` by itself. Doing this will not modify any behavior and is safe. When replacing `np.int`, you may wish to use e.g. `np.int64` or `np.int32` to specify the precision. If you wish to review your current use, check the release note link for additional information.\n",
            "Deprecated in NumPy 1.20; for more details and guidance: https://numpy.org/devdocs/release/1.20.0-notes.html#deprecations\n",
            "  dtype = f'float{dlen}' if val.dtype == np.float else f'int{dlen}' if val.dtype == np.int else val.dtype\n"
          ]
        }
      ],
      "source": [
        "\n",
        "# Create train and valid dataloaders\n",
        "params_in = {\n",
        "    'mc_maze_small': {\n",
        "        'spk_field': 'spikes',\n",
        "        'hospk_field': 'heldout_spikes',\n",
        "        'rate_field': 'rates',\n",
        "        'horate_field': 'heldout_rates',\n",
        "        'make_params': {\n",
        "            'align_field': 'move_onset_time',\n",
        "            'align_range': (-250, 450),\n",
        "        },\n",
        "        'eval_make_params': {\n",
        "            'align_field': 'move_onset_time',\n",
        "            'align_range': (-250, 450),\n",
        "        },\n",
        "        'fp_len': 200,\n",
        "    },\n",
        "}\n",
        "\n",
        "def make_train_array(dataset = dataset, \n",
        "                      dataset_name = \"mc_maze_small\", \n",
        "                      trial_split = \"train\",\n",
        "                      params_in = params_in, \n",
        "                      save_path_array = \"train_input_array.h5\",\n",
        "                      ):\n",
        "\n",
        "  params = params_in[dataset_name].copy()\n",
        "  spk_field = params['spk_field']\n",
        "  hospk_field = params['hospk_field']\n",
        "  make_params = params['make_params'].copy()\n",
        "  split_to_mask = lambda x: (dataset.trial_info.split == x) if isinstance(x, str) else x\n",
        "  trial_mask = split_to_mask(trial_split)\n",
        "\n",
        "  def make_stacked_array(dataset, spk_field, hospk_field, make_params, trial_mask):\n",
        "    # TODO: Complete this dataloader:\n",
        "    # Should stack a tensor and generate a data dict with fields: \n",
        "    #   - train_spikes_heldin:  BxTxNin Tensor (B = # of Trials, T = # of bins per trial, Nin = # of Neurons (heldin))\n",
        "    #   - train_spikes_heldout: BxTxNout (B = # of Trials, T = # of bins per trial, Nout = # of neurons (heldout))\n",
        "    trial_data = dataset.make_trial_data(ignored_trials=~trial_mask, **make_params)\n",
        "    array_dict = {}\n",
        "\n",
        "    # ---------------------For the students -----------------------------------\n",
        "    array_dict[\"train_spikes_heldin\"] = trial_data[spk_field].to_numpy()\n",
        "    array_dict[\"train_spikes_heldout\"] = trial_data[hospk_field].to_numpy()\n",
        "    # --------------------------------------------------------------------------\n",
        "    print(\"Shape of heldin array {}.\".format(array_dict[\"train_spikes_heldin\"].shape))\n",
        "    print(\"Shape of heldout array {}.\".format(array_dict[\"train_spikes_heldout\"].shape))\n",
        "    return array_dict\n",
        "\n",
        "  data_dict_array = make_stacked_array(dataset,\n",
        "                                      spk_field = spk_field,\n",
        "                                      hospk_field = hospk_field,\n",
        "                                      make_params = make_params,\n",
        "                                      trial_mask = trial_mask)\n",
        "\n",
        "  save_to_h5(data_dict_array, save_path_array, overwrite = True)\n",
        "\n",
        "save_path_array = \"train_input_array.h5\"\n",
        "make_train_array(dataset, save_path_array = save_path_array)\n",
        "\n",
        "\n"
      ]
    },
    {
      "cell_type": "code",
      "execution_count": 6,
      "metadata": {
        "colab": {
          "base_uri": "https://localhost:8080/"
        },
        "id": "1I7h7RTc0d82",
        "outputId": "15a3e128-34a7-45e6-c2d3-5b49bec6cf6c"
      },
      "outputs": [
        {
          "name": "stderr",
          "output_type": "stream",
          "text": [
            "['train_spikes_heldin', 'train_spikes_heldout'] already found in train_input_tensor.h5. Overwriting...\n"
          ]
        },
        {
          "name": "stdout",
          "output_type": "stream",
          "text": [
            "Shape of heldin tensor (75, 7, 107).\n",
            "Shape of heldout tensor (75, 7, 35).\n"
          ]
        },
        {
          "name": "stderr",
          "output_type": "stream",
          "text": [
            "C:\\Users\\Chris\\AppData\\Local\\Temp\\ipykernel_17356\\3439920927.py:92: DeprecationWarning: `np.float` is a deprecated alias for the builtin `float`. To silence this warning, use `float` by itself. Doing this will not modify any behavior and is safe. If you specifically wanted the numpy scalar type, use `np.float64` here.\n",
            "Deprecated in NumPy 1.20; for more details and guidance: https://numpy.org/devdocs/release/1.20.0-notes.html#deprecations\n",
            "  dtype = f'float{dlen}' if val.dtype == np.float else f'int{dlen}' if val.dtype == np.int else val.dtype\n",
            "C:\\Users\\Chris\\AppData\\Local\\Temp\\ipykernel_17356\\3439920927.py:92: DeprecationWarning: `np.int` is a deprecated alias for the builtin `int`. To silence this warning, use `int` by itself. Doing this will not modify any behavior and is safe. When replacing `np.int`, you may wish to use e.g. `np.int64` or `np.int32` to specify the precision. If you wish to review your current use, check the release note link for additional information.\n",
            "Deprecated in NumPy 1.20; for more details and guidance: https://numpy.org/devdocs/release/1.20.0-notes.html#deprecations\n",
            "  dtype = f'float{dlen}' if val.dtype == np.float else f'int{dlen}' if val.dtype == np.int else val.dtype\n"
          ]
        }
      ],
      "source": [
        "def make_train_tensor(dataset = dataset, \n",
        "                      dataset_name = \"mc_maze_small\", \n",
        "                      trial_split = \"train\",\n",
        "                      params_in = params_in, \n",
        "                      save_path_tensor = \"train_input_tensor.h5\",\n",
        "                      ):\n",
        "\n",
        "  params = params_in[dataset_name].copy()\n",
        "  spk_field = params['spk_field']\n",
        "  hospk_field = params['hospk_field']\n",
        "  make_params = params['make_params'].copy()\n",
        "  split_to_mask = lambda x: (dataset.trial_info.split == x) if isinstance(x, str) else x\n",
        "  trial_mask = split_to_mask(trial_split)\n",
        "\n",
        "  def make_stacked_tensor(dataset, spk_field, hospk_field, make_params, trial_mask):\n",
        "    # TODO: Complete this dataloader:\n",
        "    # Should stack a tensor and generate a data dict with fields: \n",
        "    #   - train_spikes_heldin:  BxTxNin Tensor (B = # of Trials, T = # of bins per trial, Nin = # of Neurons (heldin))\n",
        "    #   - train_spikes_heldout: BxTxNout (B = # of Trials, T = # of bins per trial, Nout = # of neurons (heldout))\n",
        "    trial_data = dataset.make_trial_data(ignored_trials=~trial_mask, **make_params)\n",
        "    grouped = list(trial_data.groupby('trial_id', sort=False))\n",
        "    array_dict = {}\n",
        "\n",
        "    # ---------------------For the students -----------------------------------\n",
        "    array_dict[\"train_spikes_heldin\"] = np.stack([trial[spk_field].to_numpy() for _, trial in grouped])\n",
        "    array_dict[\"train_spikes_heldout\"] = np.stack([trial[hospk_field].to_numpy() for _, trial in grouped])\n",
        "    # --------------------------------------------------------------------------\n",
        "    print(\"Shape of heldin tensor {}.\".format(array_dict[\"train_spikes_heldin\"].shape))\n",
        "    print(\"Shape of heldout tensor {}.\".format(array_dict[\"train_spikes_heldout\"].shape))\n",
        "    return array_dict\n",
        "\n",
        "  data_dict_tensor = make_stacked_tensor(dataset, \n",
        "                                 spk_field = spk_field, \n",
        "                                 hospk_field = hospk_field, \n",
        "                                 make_params= make_params, \n",
        "                                 trial_mask= trial_mask)\n",
        "  \n",
        "  save_to_h5(data_dict_tensor,save_path_tensor, overwrite = True)\n",
        "\n",
        "save_path_tensor = \"train_input_tensor.h5\"\n",
        "make_train_tensor(dataset, save_path_tensor = save_path_tensor)"
      ]
    },
    {
      "cell_type": "markdown",
      "metadata": {
        "id": "fkZO-Sx8kvM4"
      },
      "source": [
        "## Creating Dataloaders"
      ]
    },
    {
      "cell_type": "code",
      "execution_count": 7,
      "metadata": {
        "colab": {
          "base_uri": "https://localhost:8080/"
        },
        "id": "gdwFH213kOvc",
        "outputId": "b7a1317b-4e19-4524-9355-cad52572fd72"
      },
      "outputs": [],
      "source": [
        "def make_array_dataset(train_data_path):\n",
        "\n",
        "  with h5py.File(train_data_path, \"r\") as h5file:\n",
        "    # Store the dataset\n",
        "    heldin = to_tensor(h5file[\"train_spikes_heldin\"][()])\n",
        "    heldout = to_tensor(h5file[\"train_spikes_heldout\"][()])\n",
        "\n",
        "  return heldin, torch.cat([heldin, heldout], dim=1)\n",
        "\n",
        "def make_tensor_dataset(train_data_path):\n",
        "\n",
        "  with h5py.File(train_data_path, \"r\") as h5file:\n",
        "    # Store the dataset\n",
        "    heldin = to_tensor(h5file[\"train_spikes_heldin\"][()])\n",
        "    heldout = to_tensor(h5file[\"train_spikes_heldout\"][()])\n",
        "\n",
        "  return heldin, torch.cat([heldin, heldout], dim=2)\n",
        "\n",
        "train_array = make_array_dataset(save_path_array)\n",
        "train_tensor = make_tensor_dataset(save_path_tensor)\n",
        "\n",
        "train_ds_array = TensorDataset(*train_array)\n",
        "train_ds_tensor = TensorDataset(*train_tensor)\n",
        "\n",
        "train_dataloader_array = DataLoader(train_ds_array, \n",
        "                              batch_size = 400,\n",
        "                              num_workers = 4,\n",
        "                              shuffle = True)\n",
        "\n",
        "train_dataloader_tensor = DataLoader(train_ds_tensor,\n",
        "                                    batch_size = 400,\n",
        "                                    num_workers = 4,\n",
        "                                    shuffle = False)"
      ]
    },
    {
      "cell_type": "markdown",
      "metadata": {
        "id": "HJHhUxHH8856"
      },
      "source": [
        "## Code your autoencoder!"
      ]
    },
    {
      "cell_type": "code",
      "execution_count": 8,
      "metadata": {
        "id": "b6JGdI0WqNj1"
      },
      "outputs": [],
      "source": [
        "# Vanilla AE code\n",
        "\n",
        "class VanillaAE(torch.nn.Module):\n",
        "  # TODO: Complete the autoencoder model\n",
        "  # Encoder requirements: \n",
        "  #   - ReLU activation functions\n",
        "  #   - Input size = n_neurons_in\n",
        "  #   - Hidden layer sizes : 64, 16\n",
        "  #   - Output size: latent_dim\n",
        "  # Decoder requirements:\n",
        "  #   - Input size = latent_dim\n",
        "  #   - Hidden layer sizes : 16, 64\n",
        "  #   - Output size: n_neurons_out\n",
        "\n",
        "    def __init__(self, n_neurons_in, n_neurons_out, latent_dim):\n",
        "        super().__init__()\n",
        "          \n",
        "        self.n_neurons_in = n_neurons_in\n",
        "        self.n_neurons_out = n_neurons_out\n",
        "        self.latent_dim = latent_dim\n",
        "        #----------------For Students-----------------------\n",
        "        self.encoder = torch.nn.Sequential(\n",
        "            torch.nn.Linear(self.n_neurons_in, 64),\n",
        "            torch.nn.ReLU(),\n",
        "            torch.nn.Linear(64, 16),\n",
        "            torch.nn.ReLU(),\n",
        "            torch.nn.Linear(16, self.latent_dim)\n",
        "        )\n",
        "          \n",
        "        self.decoder = torch.nn.Sequential(\n",
        "            torch.nn.Linear(self.latent_dim, 16),\n",
        "            torch.nn.ReLU(),\n",
        "            torch.nn.Linear(16, 64),\n",
        "            torch.nn.ReLU(),\n",
        "            torch.nn.Linear(64, self.n_neurons_out),\n",
        "        )\n",
        "        #----------------------------------------------------\n",
        "\n",
        "    def forward(self, x):\n",
        "        # Implement forward pass of AE network. \n",
        "        # Be sure to return both the predictions and the latent activity\n",
        "        #----------------For Students-----------------------\n",
        "        latents = self.encoder(x)\n",
        "        log_rates = self.decoder(latents)\n",
        "        return log_rates, latents\n",
        "        #----------------------------------------------------\n",
        "        "
      ]
    },
    {
      "cell_type": "markdown",
      "metadata": {
        "id": "b5fbbr4e9F_t"
      },
      "source": [
        "## Train your autoencoder"
      ]
    },
    {
      "cell_type": "code",
      "execution_count": 9,
      "metadata": {
        "id": "PVw09H-cqQ3O"
      },
      "outputs": [],
      "source": [
        "# Model Initialization\n",
        "model = VanillaAE(n_neurons_in = 107, n_neurons_out=142, latent_dim = 3)\n",
        "  \n",
        "# Train using your chosen loss function\n",
        "#----------------For Students-----------------------\n",
        "loss_function = F.poisson_nll_loss\n",
        "#----------------------------------------------------\n",
        "\n",
        "# Using an Adam Optimizer with lr = 0.1\n",
        "optimizer = torch.optim.Adam(model.parameters(),\n",
        "                             lr = 1e-3,\n",
        "                             weight_decay = 1e-8)"
      ]
    },
    {
      "cell_type": "code",
      "execution_count": 10,
      "metadata": {
        "colab": {
          "base_uri": "https://localhost:8080/"
        },
        "id": "JpFtQ1XDqTgO",
        "outputId": "904e7a6b-a321-42da-b976-0320a60e44de"
      },
      "outputs": [
        {
          "name": "stdout",
          "output_type": "stream",
          "text": [
            "Epoch: 0\n",
            "Epoch: 10\n",
            "Epoch: 20\n",
            "Epoch: 30\n",
            "Epoch: 40\n",
            "Epoch: 50\n",
            "Epoch: 60\n",
            "Epoch: 70\n",
            "Epoch: 80\n",
            "Epoch: 90\n",
            "Epoch: 100\n",
            "Epoch: 110\n",
            "Epoch: 120\n",
            "Epoch: 130\n",
            "Epoch: 140\n",
            "Epoch: 150\n",
            "Epoch: 160\n",
            "Epoch: 170\n",
            "Epoch: 180\n",
            "Epoch: 190\n"
          ]
        }
      ],
      "source": [
        "# Build your training loop\n",
        "epochs = 200\n",
        "outputs = []\n",
        "losses = []\n",
        "for epoch in range(epochs):\n",
        "  if np.mod(epoch, 10)==0:\n",
        "    print(\"Epoch: {}\".format(epoch))\n",
        "  for (data_batch, data_recon) in train_dataloader_array:\n",
        "\n",
        "    #------------------For Students------------------------\n",
        "      \n",
        "    # Output of Autoencoder\n",
        "    reconstructed, latents = model(data_batch)\n",
        "      \n",
        "    # Calculating the loss function\n",
        "    loss = loss_function(reconstructed, data_recon)\n",
        "      \n",
        "\n",
        "    optimizer.zero_grad()\n",
        "    loss.backward()\n",
        "    optimizer.step()\n",
        "    #-----------------------------------------------------\n",
        "\n",
        "    # Storing the losses in a list for plotting\n",
        "    losses.append(loss.detach().numpy())\n",
        "  outputs.append((epochs, data_batch, reconstructed))\n",
        "  \n"
      ]
    },
    {
      "cell_type": "markdown",
      "metadata": {
        "id": "wxoUtaXS9Oht"
      },
      "source": [
        "## Latent trajectories!"
      ]
    },
    {
      "cell_type": "code",
      "execution_count": 11,
      "metadata": {
        "colab": {
          "base_uri": "https://localhost:8080/",
          "height": 321
        },
        "id": "NyGKEAC6rUyQ",
        "outputId": "d79f049a-b20e-4be0-ab20-9aaf4b4e943c"
      },
      "outputs": [
        {
          "data": {
            "text/plain": [
              "[<matplotlib.lines.Line2D at 0x2000d946e30>]"
            ]
          },
          "execution_count": 11,
          "metadata": {},
          "output_type": "execute_result"
        },
        {
          "data": {
            "image/png": "[encoded data removed]",
            "text/plain": [
              "<Figure size 432x288 with 1 Axes>"
            ]
          },
          "metadata": {
            "needs_background": "light"
          },
          "output_type": "display_data"
        }
      ],
      "source": [
        "# Defining the Plot Style\n",
        "plt.style.use('fivethirtyeight')\n",
        "plt.xlabel('Iterations')\n",
        "plt.ylabel('Loss')\n",
        "  \n",
        "# Plotting the last 100 values\n",
        "plt.plot(losses)"
      ]
    },
    {
      "cell_type": "code",
      "execution_count": 12,
      "metadata": {
        "colab": {
          "base_uri": "https://localhost:8080/",
          "height": 316
        },
        "id": "U8K4ojfQqe_J",
        "outputId": "8d32f122-090e-4b5c-c829-e99c1fae3874"
      },
      "outputs": [
        {
          "name": "stdout",
          "output_type": "stream",
          "text": [
            "torch.Size([525, 107])\n",
            "(525, 3)\n"
          ]
        },
        {
          "data": {
            "text/plain": [
              "Text(0.5, 0, 'z')"
            ]
          },
          "execution_count": 12,
          "metadata": {},
          "output_type": "execute_result"
        },
        {
          "data": {
            "image/png": "[encoded data removed]",
            "text/plain": [
              "<Figure size 432x288 with 1 Axes>"
            ]
          },
          "metadata": {
            "needs_background": "light"
          },
          "output_type": "display_data"
        }
      ],
      "source": [
        "# Plot Latent trajectories\n",
        "print(train_array[0].shape)\n",
        "pred_logrates, latents = model(train_array[0])\n",
        "latents = latents.detach().numpy()\n",
        "print(latents.shape)\n",
        "\n",
        "fig1 = plt.figure()\n",
        "ax1 = fig1.add_subplot(111, projection=\"3d\")\n",
        "ax1.scatter(*latents.T)\n",
        "ax1.set_xlabel('x')\n",
        "ax1.set_ylabel('y')\n",
        "ax1.set_zlabel('z')\n"
      ]
    },
    {
      "cell_type": "code",
      "execution_count": 13,
      "metadata": {
        "colab": {
          "base_uri": "https://localhost:8080/",
          "height": 551
        },
        "id": "Bnev4Sno5VW_",
        "outputId": "cd0633a0-29ce-4fd1-d7c8-ccda352246a7"
      },
      "outputs": [
        {
          "name": "stdout",
          "output_type": "stream",
          "text": [
            "torch.Size([75, 7, 107])\n"
          ]
        },
        {
          "data": {
            "image/png": "[encoded data removed]",
            "text/plain": [
              "<Figure size 432x288 with 1 Axes>"
            ]
          },
          "metadata": {
            "needs_background": "light"
          },
          "output_type": "display_data"
        },
        {
          "data": {
            "image/png": "[encoded data removed]",
            "text/plain": [
              "<Figure size 432x288 with 6 Axes>"
            ]
          },
          "metadata": {
            "needs_background": "light"
          },
          "output_type": "display_data"
        }
      ],
      "source": [
        "num_trials = 5\n",
        "cmap = cmr.rainforest\n",
        "colors = cmap(np.linspace(0, 1, num_trials))\n",
        "latents = []\n",
        "fig2 = plt.figure()\n",
        "ax2 = fig2.add_subplot(111, projection=\"3d\")\n",
        "\n",
        "fig3 = plt.figure()\n",
        "ax3 = fig3.add_subplot(111)\n",
        "print(train_tensor[0].shape)\n",
        "ac1 = np.zeros(num_trials)\n",
        "_, latents_all = model(train_tensor[0])\n",
        "latents_all = latents_all.detach().numpy()\n",
        "n_trials, n_steps, n_latents = latents_all.shape\n",
        "latents_flat = latents_all.reshape(-1, n_latents)\n",
        "pca = PCA(n_components=3)\n",
        "latents = pca.fit_transform(latents_flat)\n",
        "latents = latents.reshape(n_trials, n_steps, 3)\n",
        "explained_variance = np.sum(pca.explained_variance_ratio_)\n",
        "\n",
        "t = np.linspace(0, n_steps, n_steps)\n",
        "\n",
        "for i in range(num_trials):\n",
        "  ax2.plot(latents[i,:, 0], latents[i,:,1], latents[i,:,2], color = colors[i,:])\n",
        "  ax3 = fig3.add_subplot(num_trials, 1, i+1)\n",
        "  ax3.plot(t, latents[i,:,0])\n",
        "  ax3.axis(\"off\")\n"
      ]
    },
    {
      "cell_type": "markdown",
      "metadata": {
        "id": "I2iBMAUL68iu"
      },
      "source": [
        "# Part 2: Sequential Auto-Encoders"
      ]
    },
    {
      "cell_type": "markdown",
      "metadata": {
        "id": "MOlgCwAz7CbP"
      },
      "source": [
        "## Why Neural Dynamics are important:\n",
        "\n",
        "\n",
        "\n",
        "\n",
        "\n"
      ]
    },
    {
      "cell_type": "code",
      "execution_count": null,
      "metadata": {
        "id": "816adYIu7amy"
      },
      "outputs": [],
      "source": [
        "# Three neuron illustration of neural dynamics"
      ]
    },
    {
      "cell_type": "markdown",
      "metadata": {
        "id": "vQmhREzM7nWT"
      },
      "source": [
        "## Evaluation Metrics"
      ]
    },
    {
      "cell_type": "markdown",
      "metadata": {
        "id": "nin1SlcK7u3L"
      },
      "source": [
        "### Practical"
      ]
    },
    {
      "cell_type": "markdown",
      "metadata": {
        "id": "z-VTc5Qm7zFa"
      },
      "source": [
        "### Scientific\n"
      ]
    },
    {
      "cell_type": "code",
      "execution_count": null,
      "metadata": {
        "id": "wJvVOia85Ulj"
      },
      "outputs": [],
      "source": [
        "# Explanation of metrics\n",
        "\n",
        "# Practical\n",
        "  # Vel R2\n",
        "# Scientific\n",
        "  # co_bps\n",
        "  # fp_bps"
      ]
    },
    {
      "cell_type": "markdown",
      "metadata": {
        "id": "o9rs6nChI0rC"
      },
      "source": [
        "## Types of RNNs"
      ]
    },
    {
      "cell_type": "code",
      "execution_count": 14,
      "metadata": {
        "id": "VYv_3V8ZJ7pz"
      },
      "outputs": [],
      "source": [
        "class AbstractRNN(nn.Module):\n",
        "  def __init__(self, cell):\n",
        "    super().__init__()\n",
        "    self.cell = cell\n",
        "  def forward(self, input, h_0):\n",
        "    hidden = h_0\n",
        "    states = []\n",
        "    for input_step in input.transpose(0,1):\n",
        "      hidden = self.cell(input_step, hidden)\n",
        "      states.append(hidden)\n",
        "    states = torch.stack(states, dim=1)\n",
        "    return states, hidden"
      ]
    },
    {
      "cell_type": "markdown",
      "metadata": {
        "id": "_ivp8wTKI-9K"
      },
      "source": [
        "### Linear RNNs"
      ]
    },
    {
      "cell_type": "code",
      "execution_count": 15,
      "metadata": {
        "id": "YqfNtU5RJOGN"
      },
      "outputs": [],
      "source": [
        "class LinearRNN(nn.Module):\n",
        "  def __init__(self, input_size, hidden_size):\n",
        "    super().__init__()\n",
        "    self.input_size = input_size\n",
        "    self.hidden_size = hidden_size\n",
        "\n",
        "    self.in2hidden = nn.Linear(input_size + hidden_size, hidden_size)\n",
        "\n",
        "  def forward(self, input, hidden):\n",
        "    combined = torch.cat((input, hidden),1)\n",
        "    hidden =self.in2hidden(combined)\n",
        "    return hidden"
      ]
    },
    {
      "cell_type": "markdown",
      "metadata": {
        "id": "y5WTWjPKJDgG"
      },
      "source": [
        "### Nonlinear RNNs"
      ]
    },
    {
      "cell_type": "code",
      "execution_count": 16,
      "metadata": {
        "id": "Zk6AnDnrPwey"
      },
      "outputs": [],
      "source": [
        "class NonLinearRNN(nn.Module):\n",
        "  def __init__(self, input_size, hidden_size):\n",
        "    super().__init__()\n",
        "    self.input_size = input_size\n",
        "    self.hidden_size = hidden_size\n",
        "\n",
        "    self.in2hidden = nn.Linear(input_size + hidden_size, hidden_size)\n",
        "\n",
        "  def forward(self, input, hidden):\n",
        "    combined = torch.cat((input, hidden),1)\n",
        "    hidden =  torch.tanh(self.in2hidden(combined))\n",
        "    return hidden"
      ]
    },
    {
      "cell_type": "markdown",
      "metadata": {
        "id": "Cmou8RJBJIqB"
      },
      "source": [
        "### Gated Recurrent Units"
      ]
    },
    {
      "cell_type": "code",
      "execution_count": 17,
      "metadata": {
        "id": "1_8zWmGSQIrj"
      },
      "outputs": [],
      "source": [
        "class GRUTemp(nn.Module):\n",
        "  def __init__(self, input_size, hidden_size):\n",
        "    super(GRUTemp, self).__init__()\n",
        "    self.input_size = input_size\n",
        "    self.hidden_size = hidden_size\n",
        "\n",
        "    self.in2hidden = nn.Linear(input_size, 3*hidden_size)\n",
        "    self.hidden2hidden = nn.Linear(hidden_size, 3*hidden_size)\n",
        "    self.reset_parameters()\n",
        "\n",
        "  def reset_parameters(self):\n",
        "    std = 1.0 / np.sqrt(self.hidden_size)\n",
        "    for w in self.parameters():\n",
        "      w.data.uniform_(-std, std)\n",
        "\n",
        "  def forward(self, input, hidden):\n",
        "    if hidden is None:\n",
        "        hidden = Variable(input.new_zeros(input.size(0), self.hidden_size))\n",
        "    combined = torch.cat((input, hidden),1)\n",
        "    hidden =  torch.tanh(self.in2hidden(combined))\n",
        "    x_t = self.in2hidden(input)\n",
        "    h_t = self.hidden2hidden(hidden)\n",
        "\n",
        "    x_reset, x_upd, x_new = x_t.chunk(3,1)\n",
        "    h_reset, h_upd, h_new = h_t.chunk(3,1)\n",
        "\n",
        "    reset = torch.sigmoid(x_reset + h_reset)\n",
        "    update = torch.sigmoid(x_upd + h_upd)\n",
        "    new_gate = torch.tanh(x_new + (reset * h_new))\n",
        "\n",
        "    h_out = update * hidden + (1 - update) * new_gate\n",
        "    return h_out"
      ]
    },
    {
      "cell_type": "markdown",
      "metadata": {
        "id": "MzE2HS_q75Y-"
      },
      "source": [
        "## Sequential Auto-Encoder Model"
      ]
    },
    {
      "cell_type": "code",
      "execution_count": 18,
      "metadata": {
        "colab": {
          "base_uri": "https://localhost:8080/",
          "height": 522
        },
        "id": "HHkXJBWAtKZu",
        "outputId": "8e85c53d-9f4c-46cf-efca-aeabb82a2ca3"
      },
      "outputs": [
        {
          "name": "stdout",
          "output_type": "stream",
          "text": [
            "Epoch: 0\n",
            "torch.Size([75, 7, 107])\n",
            "torch.Size([2, 75, 64])\n",
            "torch.Size([75, 128])\n",
            "torch.Size([75, 3])\n"
          ]
        },
        {
          "ename": "RuntimeError",
          "evalue": "mat1 and mat2 shapes cannot be multiplied (75x4 and 1x9)",
          "output_type": "error",
          "traceback": [
            "\u001b[1;31m---------------------------------------------------------------------------\u001b[0m",
            "\u001b[1;31mRuntimeError\u001b[0m                              Traceback (most recent call last)",
            "\u001b[1;32mc:\\Users\\Chris\\Documents\\Github\\Chen_Institute_DataSAI_for_Neuroscience\\07_13_22_day7_deep_learning_and_LFADS\\CVCalTechWorkshop.ipynb Cell 45'\u001b[0m in \u001b[0;36m<cell line: 36>\u001b[1;34m()\u001b[0m\n\u001b[0;32m     <a href='vscode-notebook-cell:/c%3A/Users/Chris/Documents/Github/Chen_Institute_DataSAI_for_Neuroscience/07_13_22_day7_deep_learning_and_LFADS/CVCalTechWorkshop.ipynb#ch0000044?line=38'>39</a>\u001b[0m \u001b[39mfor\u001b[39;00m (data_batch, data_recon) \u001b[39min\u001b[39;00m train_dataloader_tensor:\n\u001b[0;32m     <a href='vscode-notebook-cell:/c%3A/Users/Chris/Documents/Github/Chen_Institute_DataSAI_for_Neuroscience/07_13_22_day7_deep_learning_and_LFADS/CVCalTechWorkshop.ipynb#ch0000044?line=39'>40</a>\u001b[0m \n\u001b[0;32m     <a href='vscode-notebook-cell:/c%3A/Users/Chris/Documents/Github/Chen_Institute_DataSAI_for_Neuroscience/07_13_22_day7_deep_learning_and_LFADS/CVCalTechWorkshop.ipynb#ch0000044?line=40'>41</a>\u001b[0m   \u001b[39m#------------------For Students------------------------\u001b[39;00m\n\u001b[0;32m     <a href='vscode-notebook-cell:/c%3A/Users/Chris/Documents/Github/Chen_Institute_DataSAI_for_Neuroscience/07_13_22_day7_deep_learning_and_LFADS/CVCalTechWorkshop.ipynb#ch0000044?line=41'>42</a>\u001b[0m   \u001b[39m# Output of Autoencoder\u001b[39;00m\n\u001b[0;32m     <a href='vscode-notebook-cell:/c%3A/Users/Chris/Documents/Github/Chen_Institute_DataSAI_for_Neuroscience/07_13_22_day7_deep_learning_and_LFADS/CVCalTechWorkshop.ipynb#ch0000044?line=42'>43</a>\u001b[0m   \u001b[39mprint\u001b[39m(data_batch\u001b[39m.\u001b[39mshape)\n\u001b[1;32m---> <a href='vscode-notebook-cell:/c%3A/Users/Chris/Documents/Github/Chen_Institute_DataSAI_for_Neuroscience/07_13_22_day7_deep_learning_and_LFADS/CVCalTechWorkshop.ipynb#ch0000044?line=43'>44</a>\u001b[0m   reconstructed, latents \u001b[39m=\u001b[39m sae(data_batch)\n\u001b[0;32m     <a href='vscode-notebook-cell:/c%3A/Users/Chris/Documents/Github/Chen_Institute_DataSAI_for_Neuroscience/07_13_22_day7_deep_learning_and_LFADS/CVCalTechWorkshop.ipynb#ch0000044?line=45'>46</a>\u001b[0m   \u001b[39m# Calculating the loss function\u001b[39;00m\n\u001b[0;32m     <a href='vscode-notebook-cell:/c%3A/Users/Chris/Documents/Github/Chen_Institute_DataSAI_for_Neuroscience/07_13_22_day7_deep_learning_and_LFADS/CVCalTechWorkshop.ipynb#ch0000044?line=46'>47</a>\u001b[0m   loss \u001b[39m=\u001b[39m loss_function(reconstructed, data_recon)\n",
            "File \u001b[1;32mc:\\Users\\Chris\\miniconda3\\envs\\chenEnv\\lib\\site-packages\\torch\\nn\\modules\\module.py:1110\u001b[0m, in \u001b[0;36mModule._call_impl\u001b[1;34m(self, *input, **kwargs)\u001b[0m\n\u001b[0;32m   1106\u001b[0m \u001b[39m# If we don't have any hooks, we want to skip the rest of the logic in\u001b[39;00m\n\u001b[0;32m   1107\u001b[0m \u001b[39m# this function, and just call forward.\u001b[39;00m\n\u001b[0;32m   1108\u001b[0m \u001b[39mif\u001b[39;00m \u001b[39mnot\u001b[39;00m (\u001b[39mself\u001b[39m\u001b[39m.\u001b[39m_backward_hooks \u001b[39mor\u001b[39;00m \u001b[39mself\u001b[39m\u001b[39m.\u001b[39m_forward_hooks \u001b[39mor\u001b[39;00m \u001b[39mself\u001b[39m\u001b[39m.\u001b[39m_forward_pre_hooks \u001b[39mor\u001b[39;00m _global_backward_hooks\n\u001b[0;32m   1109\u001b[0m         \u001b[39mor\u001b[39;00m _global_forward_hooks \u001b[39mor\u001b[39;00m _global_forward_pre_hooks):\n\u001b[1;32m-> 1110\u001b[0m     \u001b[39mreturn\u001b[39;00m forward_call(\u001b[39m*\u001b[39m\u001b[39minput\u001b[39m, \u001b[39m*\u001b[39m\u001b[39m*\u001b[39mkwargs)\n\u001b[0;32m   1111\u001b[0m \u001b[39m# Do not call functions when jit is used\u001b[39;00m\n\u001b[0;32m   1112\u001b[0m full_backward_hooks, non_full_backward_hooks \u001b[39m=\u001b[39m [], []\n",
            "\u001b[1;32mc:\\Users\\Chris\\Documents\\Github\\Chen_Institute_DataSAI_for_Neuroscience\\07_13_22_day7_deep_learning_and_LFADS\\CVCalTechWorkshop.ipynb Cell 45'\u001b[0m in \u001b[0;36mVanillaSAE.forward\u001b[1;34m(self, x)\u001b[0m\n\u001b[0;32m     <a href='vscode-notebook-cell:/c%3A/Users/Chris/Documents/Github/Chen_Institute_DataSAI_for_Neuroscience/07_13_22_day7_deep_learning_and_LFADS/CVCalTechWorkshop.ipynb#ch0000044?line=24'>25</a>\u001b[0m ic \u001b[39m=\u001b[39m \u001b[39mself\u001b[39m\u001b[39m.\u001b[39mic_linear( h_n)\n\u001b[0;32m     <a href='vscode-notebook-cell:/c%3A/Users/Chris/Documents/Github/Chen_Institute_DataSAI_for_Neuroscience/07_13_22_day7_deep_learning_and_LFADS/CVCalTechWorkshop.ipynb#ch0000044?line=25'>26</a>\u001b[0m \u001b[39mprint\u001b[39m(ic\u001b[39m.\u001b[39mshape)\n\u001b[1;32m---> <a href='vscode-notebook-cell:/c%3A/Users/Chris/Documents/Github/Chen_Institute_DataSAI_for_Neuroscience/07_13_22_day7_deep_learning_and_LFADS/CVCalTechWorkshop.ipynb#ch0000044?line=26'>27</a>\u001b[0m latents \u001b[39m=\u001b[39m \u001b[39mself\u001b[39;49m\u001b[39m.\u001b[39;49mdecoder(input_placeholder, ic)\n\u001b[0;32m     <a href='vscode-notebook-cell:/c%3A/Users/Chris/Documents/Github/Chen_Institute_DataSAI_for_Neuroscience/07_13_22_day7_deep_learning_and_LFADS/CVCalTechWorkshop.ipynb#ch0000044?line=27'>28</a>\u001b[0m log_rates \u001b[39m=\u001b[39m \u001b[39mself\u001b[39m\u001b[39m.\u001b[39mreadout(latents)\n\u001b[0;32m     <a href='vscode-notebook-cell:/c%3A/Users/Chris/Documents/Github/Chen_Institute_DataSAI_for_Neuroscience/07_13_22_day7_deep_learning_and_LFADS/CVCalTechWorkshop.ipynb#ch0000044?line=28'>29</a>\u001b[0m \u001b[39mreturn\u001b[39;00m log_rates, latents\n",
            "File \u001b[1;32mc:\\Users\\Chris\\miniconda3\\envs\\chenEnv\\lib\\site-packages\\torch\\nn\\modules\\module.py:1110\u001b[0m, in \u001b[0;36mModule._call_impl\u001b[1;34m(self, *input, **kwargs)\u001b[0m\n\u001b[0;32m   1106\u001b[0m \u001b[39m# If we don't have any hooks, we want to skip the rest of the logic in\u001b[39;00m\n\u001b[0;32m   1107\u001b[0m \u001b[39m# this function, and just call forward.\u001b[39;00m\n\u001b[0;32m   1108\u001b[0m \u001b[39mif\u001b[39;00m \u001b[39mnot\u001b[39;00m (\u001b[39mself\u001b[39m\u001b[39m.\u001b[39m_backward_hooks \u001b[39mor\u001b[39;00m \u001b[39mself\u001b[39m\u001b[39m.\u001b[39m_forward_hooks \u001b[39mor\u001b[39;00m \u001b[39mself\u001b[39m\u001b[39m.\u001b[39m_forward_pre_hooks \u001b[39mor\u001b[39;00m _global_backward_hooks\n\u001b[0;32m   1109\u001b[0m         \u001b[39mor\u001b[39;00m _global_forward_hooks \u001b[39mor\u001b[39;00m _global_forward_pre_hooks):\n\u001b[1;32m-> 1110\u001b[0m     \u001b[39mreturn\u001b[39;00m forward_call(\u001b[39m*\u001b[39m\u001b[39minput\u001b[39m, \u001b[39m*\u001b[39m\u001b[39m*\u001b[39mkwargs)\n\u001b[0;32m   1111\u001b[0m \u001b[39m# Do not call functions when jit is used\u001b[39;00m\n\u001b[0;32m   1112\u001b[0m full_backward_hooks, non_full_backward_hooks \u001b[39m=\u001b[39m [], []\n",
            "\u001b[1;32mc:\\Users\\Chris\\Documents\\Github\\Chen_Institute_DataSAI_for_Neuroscience\\07_13_22_day7_deep_learning_and_LFADS\\CVCalTechWorkshop.ipynb Cell 37'\u001b[0m in \u001b[0;36mAbstractRNN.forward\u001b[1;34m(self, input, h_0)\u001b[0m\n\u001b[0;32m      <a href='vscode-notebook-cell:/c%3A/Users/Chris/Documents/Github/Chen_Institute_DataSAI_for_Neuroscience/07_13_22_day7_deep_learning_and_LFADS/CVCalTechWorkshop.ipynb#ch0000036?line=6'>7</a>\u001b[0m states \u001b[39m=\u001b[39m []\n\u001b[0;32m      <a href='vscode-notebook-cell:/c%3A/Users/Chris/Documents/Github/Chen_Institute_DataSAI_for_Neuroscience/07_13_22_day7_deep_learning_and_LFADS/CVCalTechWorkshop.ipynb#ch0000036?line=7'>8</a>\u001b[0m \u001b[39mfor\u001b[39;00m input_step \u001b[39min\u001b[39;00m \u001b[39minput\u001b[39m\u001b[39m.\u001b[39mtranspose(\u001b[39m0\u001b[39m,\u001b[39m1\u001b[39m):\n\u001b[1;32m----> <a href='vscode-notebook-cell:/c%3A/Users/Chris/Documents/Github/Chen_Institute_DataSAI_for_Neuroscience/07_13_22_day7_deep_learning_and_LFADS/CVCalTechWorkshop.ipynb#ch0000036?line=8'>9</a>\u001b[0m   hidden \u001b[39m=\u001b[39m \u001b[39mself\u001b[39;49m\u001b[39m.\u001b[39;49mcell(input_step, hidden)\n\u001b[0;32m     <a href='vscode-notebook-cell:/c%3A/Users/Chris/Documents/Github/Chen_Institute_DataSAI_for_Neuroscience/07_13_22_day7_deep_learning_and_LFADS/CVCalTechWorkshop.ipynb#ch0000036?line=9'>10</a>\u001b[0m   states\u001b[39m.\u001b[39mappend(hidden)\n\u001b[0;32m     <a href='vscode-notebook-cell:/c%3A/Users/Chris/Documents/Github/Chen_Institute_DataSAI_for_Neuroscience/07_13_22_day7_deep_learning_and_LFADS/CVCalTechWorkshop.ipynb#ch0000036?line=10'>11</a>\u001b[0m states \u001b[39m=\u001b[39m torch\u001b[39m.\u001b[39mstack(states, dim\u001b[39m=\u001b[39m\u001b[39m1\u001b[39m)\n",
            "File \u001b[1;32mc:\\Users\\Chris\\miniconda3\\envs\\chenEnv\\lib\\site-packages\\torch\\nn\\modules\\module.py:1110\u001b[0m, in \u001b[0;36mModule._call_impl\u001b[1;34m(self, *input, **kwargs)\u001b[0m\n\u001b[0;32m   1106\u001b[0m \u001b[39m# If we don't have any hooks, we want to skip the rest of the logic in\u001b[39;00m\n\u001b[0;32m   1107\u001b[0m \u001b[39m# this function, and just call forward.\u001b[39;00m\n\u001b[0;32m   1108\u001b[0m \u001b[39mif\u001b[39;00m \u001b[39mnot\u001b[39;00m (\u001b[39mself\u001b[39m\u001b[39m.\u001b[39m_backward_hooks \u001b[39mor\u001b[39;00m \u001b[39mself\u001b[39m\u001b[39m.\u001b[39m_forward_hooks \u001b[39mor\u001b[39;00m \u001b[39mself\u001b[39m\u001b[39m.\u001b[39m_forward_pre_hooks \u001b[39mor\u001b[39;00m _global_backward_hooks\n\u001b[0;32m   1109\u001b[0m         \u001b[39mor\u001b[39;00m _global_forward_hooks \u001b[39mor\u001b[39;00m _global_forward_pre_hooks):\n\u001b[1;32m-> 1110\u001b[0m     \u001b[39mreturn\u001b[39;00m forward_call(\u001b[39m*\u001b[39m\u001b[39minput\u001b[39m, \u001b[39m*\u001b[39m\u001b[39m*\u001b[39mkwargs)\n\u001b[0;32m   1111\u001b[0m \u001b[39m# Do not call functions when jit is used\u001b[39;00m\n\u001b[0;32m   1112\u001b[0m full_backward_hooks, non_full_backward_hooks \u001b[39m=\u001b[39m [], []\n",
            "\u001b[1;32mc:\\Users\\Chris\\Documents\\Github\\Chen_Institute_DataSAI_for_Neuroscience\\07_13_22_day7_deep_learning_and_LFADS\\CVCalTechWorkshop.ipynb Cell 43'\u001b[0m in \u001b[0;36mGRUTemp.forward\u001b[1;34m(self, input, hidden)\u001b[0m\n\u001b[0;32m     <a href='vscode-notebook-cell:/c%3A/Users/Chris/Documents/Github/Chen_Institute_DataSAI_for_Neuroscience/07_13_22_day7_deep_learning_and_LFADS/CVCalTechWorkshop.ipynb#ch0000042?line=17'>18</a>\u001b[0m     hidden \u001b[39m=\u001b[39m Variable(\u001b[39minput\u001b[39m\u001b[39m.\u001b[39mnew_zeros(\u001b[39minput\u001b[39m\u001b[39m.\u001b[39msize(\u001b[39m0\u001b[39m), \u001b[39mself\u001b[39m\u001b[39m.\u001b[39mhidden_size))\n\u001b[0;32m     <a href='vscode-notebook-cell:/c%3A/Users/Chris/Documents/Github/Chen_Institute_DataSAI_for_Neuroscience/07_13_22_day7_deep_learning_and_LFADS/CVCalTechWorkshop.ipynb#ch0000042?line=18'>19</a>\u001b[0m combined \u001b[39m=\u001b[39m torch\u001b[39m.\u001b[39mcat((\u001b[39minput\u001b[39m, hidden),\u001b[39m1\u001b[39m)\n\u001b[1;32m---> <a href='vscode-notebook-cell:/c%3A/Users/Chris/Documents/Github/Chen_Institute_DataSAI_for_Neuroscience/07_13_22_day7_deep_learning_and_LFADS/CVCalTechWorkshop.ipynb#ch0000042?line=19'>20</a>\u001b[0m hidden \u001b[39m=\u001b[39m  torch\u001b[39m.\u001b[39mtanh(\u001b[39mself\u001b[39;49m\u001b[39m.\u001b[39;49min2hidden(combined))\n\u001b[0;32m     <a href='vscode-notebook-cell:/c%3A/Users/Chris/Documents/Github/Chen_Institute_DataSAI_for_Neuroscience/07_13_22_day7_deep_learning_and_LFADS/CVCalTechWorkshop.ipynb#ch0000042?line=20'>21</a>\u001b[0m x_t \u001b[39m=\u001b[39m \u001b[39mself\u001b[39m\u001b[39m.\u001b[39min2hidden(\u001b[39minput\u001b[39m)\n\u001b[0;32m     <a href='vscode-notebook-cell:/c%3A/Users/Chris/Documents/Github/Chen_Institute_DataSAI_for_Neuroscience/07_13_22_day7_deep_learning_and_LFADS/CVCalTechWorkshop.ipynb#ch0000042?line=21'>22</a>\u001b[0m h_t \u001b[39m=\u001b[39m \u001b[39mself\u001b[39m\u001b[39m.\u001b[39mhidden2hidden(hidden)\n",
            "File \u001b[1;32mc:\\Users\\Chris\\miniconda3\\envs\\chenEnv\\lib\\site-packages\\torch\\nn\\modules\\module.py:1110\u001b[0m, in \u001b[0;36mModule._call_impl\u001b[1;34m(self, *input, **kwargs)\u001b[0m\n\u001b[0;32m   1106\u001b[0m \u001b[39m# If we don't have any hooks, we want to skip the rest of the logic in\u001b[39;00m\n\u001b[0;32m   1107\u001b[0m \u001b[39m# this function, and just call forward.\u001b[39;00m\n\u001b[0;32m   1108\u001b[0m \u001b[39mif\u001b[39;00m \u001b[39mnot\u001b[39;00m (\u001b[39mself\u001b[39m\u001b[39m.\u001b[39m_backward_hooks \u001b[39mor\u001b[39;00m \u001b[39mself\u001b[39m\u001b[39m.\u001b[39m_forward_hooks \u001b[39mor\u001b[39;00m \u001b[39mself\u001b[39m\u001b[39m.\u001b[39m_forward_pre_hooks \u001b[39mor\u001b[39;00m _global_backward_hooks\n\u001b[0;32m   1109\u001b[0m         \u001b[39mor\u001b[39;00m _global_forward_hooks \u001b[39mor\u001b[39;00m _global_forward_pre_hooks):\n\u001b[1;32m-> 1110\u001b[0m     \u001b[39mreturn\u001b[39;00m forward_call(\u001b[39m*\u001b[39m\u001b[39minput\u001b[39m, \u001b[39m*\u001b[39m\u001b[39m*\u001b[39mkwargs)\n\u001b[0;32m   1111\u001b[0m \u001b[39m# Do not call functions when jit is used\u001b[39;00m\n\u001b[0;32m   1112\u001b[0m full_backward_hooks, non_full_backward_hooks \u001b[39m=\u001b[39m [], []\n",
            "File \u001b[1;32mc:\\Users\\Chris\\miniconda3\\envs\\chenEnv\\lib\\site-packages\\torch\\nn\\modules\\linear.py:103\u001b[0m, in \u001b[0;36mLinear.forward\u001b[1;34m(self, input)\u001b[0m\n\u001b[0;32m    102\u001b[0m \u001b[39mdef\u001b[39;00m \u001b[39mforward\u001b[39m(\u001b[39mself\u001b[39m, \u001b[39minput\u001b[39m: Tensor) \u001b[39m-\u001b[39m\u001b[39m>\u001b[39m Tensor:\n\u001b[1;32m--> 103\u001b[0m     \u001b[39mreturn\u001b[39;00m F\u001b[39m.\u001b[39;49mlinear(\u001b[39minput\u001b[39;49m, \u001b[39mself\u001b[39;49m\u001b[39m.\u001b[39;49mweight, \u001b[39mself\u001b[39;49m\u001b[39m.\u001b[39;49mbias)\n",
            "\u001b[1;31mRuntimeError\u001b[0m: mat1 and mat2 shapes cannot be multiplied (75x4 and 1x9)"
          ]
        }
      ],
      "source": [
        "# Vanilla SAE code\n",
        "class VanillaSAE(torch.nn.Module):\n",
        "    def __init__(self, input_size, latent_size, encoder_size, out_size):\n",
        "        super().__init__()\n",
        "        self.encoder = nn.GRU(\n",
        "            input_size=input_size,\n",
        "            hidden_size=encoder_size,\n",
        "            batch_first=True,\n",
        "            bidirectional=True,\n",
        "        )\n",
        "\n",
        "        self.ic_linear = nn.Linear(2 * encoder_size, latent_size)\n",
        "  \n",
        "        self.decoder = AbstractRNN(GRUTemp(input_size=1, hidden_size=latent_size))\n",
        "        self.readout = nn.Linear(latent_size, out_size)\n",
        "  \n",
        "    def forward(self, x):\n",
        "        # Implement forward pass of AE network\n",
        "        _, h_n = self.encoder(x)\n",
        "        print(h_n.shape)\n",
        "        h_n = torch.cat([*h_n], -1)\n",
        "        B, T, _ = x.shape\n",
        "        print(h_n.shape)\n",
        "        input_placeholder = torch.zeros((B, T, 1))\n",
        "        ic = self.ic_linear( h_n)\n",
        "        print(ic.shape)\n",
        "        latents = self.decoder(input_placeholder, ic)\n",
        "        log_rates = self.readout(latents)\n",
        "        return log_rates, latents\n",
        "\n",
        "sae = VanillaSAE(107, 3, 64, 142)\n",
        "# Build your training loop\n",
        "epochs = 200\n",
        "outputs = []\n",
        "losses = []\n",
        "for epoch in range(epochs):\n",
        "  if np.mod(epoch, 10)==0:\n",
        "    print(\"Epoch: {}\".format(epoch))\n",
        "  for (data_batch, data_recon) in train_dataloader_tensor:\n",
        "\n",
        "    #------------------For Students------------------------\n",
        "    # Output of Autoencoder\n",
        "    print(data_batch.shape)\n",
        "    reconstructed, latents = sae(data_batch)\n",
        "      \n",
        "    # Calculating the loss function\n",
        "    loss = loss_function(reconstructed, data_recon)\n",
        "      \n",
        "\n",
        "    optimizer.zero_grad()\n",
        "    loss.backward()\n",
        "    optimizer.step()\n",
        "    #-----------------------------------------------------\n",
        "\n",
        "    # Storing the losses in a list for plotting\n",
        "    losses.append(loss.detach().numpy())\n",
        "  outputs.append((epochs, data_batch, reconstructed))"
      ]
    },
    {
      "cell_type": "markdown",
      "metadata": {
        "id": "BaWcWSx98Cp9"
      },
      "source": [
        "## SAE Latent Trajectories"
      ]
    },
    {
      "cell_type": "code",
      "execution_count": null,
      "metadata": {
        "id": "jg0xzmV047jQ"
      },
      "outputs": [],
      "source": [
        "# Plot the SAE trajectories\n",
        "  # Forward predictions"
      ]
    },
    {
      "cell_type": "markdown",
      "metadata": {
        "id": "XWAIxZyO8H4O"
      },
      "source": [
        "## SAE vs. AE: How much does a dynamics model get us?"
      ]
    },
    {
      "cell_type": "code",
      "execution_count": null,
      "metadata": {
        "id": "qD7yT05Q5tMV"
      },
      "outputs": [],
      "source": [
        "# Compare metrics for AE and SAE"
      ]
    },
    {
      "cell_type": "markdown",
      "metadata": {
        "id": "mwngCPOM61Qa"
      },
      "source": [
        "\n",
        "\n",
        "# Part 3: Variational Auto-Encoding"
      ]
    },
    {
      "cell_type": "markdown",
      "metadata": {
        "id": "hKqbKEMZ-Is8"
      },
      "source": [
        "## Overfitting problem"
      ]
    },
    {
      "cell_type": "code",
      "execution_count": null,
      "metadata": {
        "id": "cr_qCg2S6Fy-"
      },
      "outputs": [],
      "source": [
        "# Illustrate overfitting problems"
      ]
    },
    {
      "cell_type": "markdown",
      "metadata": {
        "id": "Kt0PbGIH-PWc"
      },
      "source": [
        "## Variational auto-encoders"
      ]
    },
    {
      "cell_type": "code",
      "execution_count": null,
      "metadata": {
        "id": "vio1hyZq9g4P"
      },
      "outputs": [],
      "source": [
        "# Illustrate how variational models help"
      ]
    },
    {
      "cell_type": "markdown",
      "metadata": {
        "id": "JaUTfFs7_f9L"
      },
      "source": [
        "## What we need to add"
      ]
    },
    {
      "cell_type": "markdown",
      "metadata": {
        "id": "N5CuDFgU_jsn"
      },
      "source": [
        "### Probability distribution over initial conditions"
      ]
    },
    {
      "cell_type": "code",
      "execution_count": null,
      "metadata": {
        "id": "ouYzoRkv97oW"
      },
      "outputs": [],
      "source": [
        "# Probabilistic sampling"
      ]
    },
    {
      "cell_type": "markdown",
      "metadata": {
        "id": "gq-b_TJQ_qnN"
      },
      "source": [
        "### Prior on IC distribution"
      ]
    },
    {
      "cell_type": "code",
      "execution_count": null,
      "metadata": {
        "id": "IqCu01np9xTb"
      },
      "outputs": [],
      "source": [
        "# KL divergence"
      ]
    },
    {
      "cell_type": "markdown",
      "metadata": {
        "id": "RHRyjQAy_3yU"
      },
      "source": [
        "## Code the v-SAE Class"
      ]
    },
    {
      "cell_type": "code",
      "execution_count": null,
      "metadata": {
        "id": "K8soMouQ6Ubo"
      },
      "outputs": [],
      "source": [
        "# Modify SAE to be variational\n",
        "class VariationalSAE(torch.nn.Module):\n",
        "    def __init__(self):\n",
        "        super().__init__()\n",
        "          \n",
        "        \n",
        "        self.encoder = \"Make an encoder network to find initial conditions\"\n",
        "       \n",
        "        self.decoder = \"Make a decoder network to model latent dynamics\"\n",
        "\n",
        "        self.readout = \"Simple linear readouts\"\n",
        "  \n",
        "    def forward(self, x):\n",
        "        # Implement forward pass of v-SAE network\n",
        "        return decoded"
      ]
    },
    {
      "cell_type": "markdown",
      "metadata": {
        "id": "GfSnexQsASHU"
      },
      "source": [
        "## Train the v-SAE"
      ]
    },
    {
      "cell_type": "code",
      "execution_count": null,
      "metadata": {
        "id": "6tpW0Fq59eLp"
      },
      "outputs": [],
      "source": []
    },
    {
      "cell_type": "markdown",
      "metadata": {
        "id": "urjngpbBBEYn"
      },
      "source": [
        "## Compare v-SAE to SAE and AE"
      ]
    },
    {
      "cell_type": "markdown",
      "metadata": {
        "id": "EIAFz70DBTMj"
      },
      "source": [
        "### Visualize ICs"
      ]
    },
    {
      "cell_type": "markdown",
      "metadata": {
        "id": "UQ5bRYBDBWEO"
      },
      "source": [
        "### Compare metrics"
      ]
    },
    {
      "cell_type": "markdown",
      "metadata": {
        "id": "UogRPeL2BaeM"
      },
      "source": [
        "# Part 4: Non-autonomous dynamics"
      ]
    },
    {
      "cell_type": "markdown",
      "metadata": {
        "id": "6QVv-lLKCD7n"
      },
      "source": [
        "## Why do we care about inputs?"
      ]
    },
    {
      "cell_type": "code",
      "execution_count": null,
      "metadata": {
        "id": "myj9DxCvCJRC"
      },
      "outputs": [],
      "source": [
        "# Sensory perturbations illustration"
      ]
    },
    {
      "cell_type": "markdown",
      "metadata": {
        "id": "UE6Wb1AmBnpC"
      },
      "source": [
        "### Autonomous vs. non-autonomous dynamics"
      ]
    },
    {
      "cell_type": "code",
      "execution_count": null,
      "metadata": {
        "id": "cSdg_0SXB7zD"
      },
      "outputs": [],
      "source": []
    },
    {
      "cell_type": "markdown",
      "metadata": {
        "id": "EueGuTLIBsG6"
      },
      "source": [
        "### Can we modify SAE to also recover inputs?"
      ]
    },
    {
      "cell_type": "code",
      "execution_count": null,
      "metadata": {
        "id": "OoZm71wIB8fu"
      },
      "outputs": [],
      "source": []
    },
    {
      "cell_type": "markdown",
      "metadata": {
        "id": "kTOMaJtRCdpI"
      },
      "source": [
        "## Controller module"
      ]
    },
    {
      "cell_type": "code",
      "execution_count": null,
      "metadata": {
        "id": "aU2q2lpcCheu"
      },
      "outputs": [],
      "source": [
        "# Illustrate what the controller does"
      ]
    },
    {
      "cell_type": "markdown",
      "metadata": {
        "id": "O3c0Ne0yCwhb"
      },
      "source": [
        "## Add Controller to v-SAE"
      ]
    },
    {
      "cell_type": "code",
      "execution_count": null,
      "metadata": {
        "id": "-YyznMGZDFWp"
      },
      "outputs": [],
      "source": [
        "# Vanilla SAE code\n",
        "class LFADSLite(torch.nn.Module):\n",
        "    def __init__(self):\n",
        "        super().__init__()\n",
        "          \n",
        "\n",
        "        self.encoder = \"Make an encoder network to find initial conditions\"\n",
        "        # self.encoder = torch.nn.Sequential(\n",
        "        #     torch.nn.Linear(28 * 28, 128),\n",
        "        #     torch.nn.ReLU(),\n",
        "        #     torch.nn.Linear(128, 64),\n",
        "        #     torch.nn.ReLU(),\n",
        "        #     torch.nn.Linear(64, 36),\n",
        "        #     torch.nn.ReLU(),\n",
        "        #     torch.nn.Linear(36, 18),\n",
        "        #     torch.nn.ReLU(),\n",
        "        #     torch.nn.Linear(18, 9)\n",
        "        # )\n",
        "          \n",
        "        self.decoder = \"Make a decoder network to model latent dynamics\"\n",
        "        # self.decoder = torch.nn.Sequential(\n",
        "        #     torch.nn.Linear(9, 18),\n",
        "        #     torch.nn.ReLU(),\n",
        "        #     torch.nn.Linear(18, 36),\n",
        "        #     torch.nn.ReLU(),\n",
        "        #     torch.nn.Linear(36, 64),\n",
        "        #     torch.nn.ReLU(),\n",
        "        #     torch.nn.Linear(64, 128),\n",
        "        #     torch.nn.ReLU(),\n",
        "        #     torch.nn.Linear(128, 28 * 28),\n",
        "        #     torch.nn.Sigmoid()\n",
        "        # )\n",
        "\n",
        "        self.readout = \"Simple linear readouts\"\n",
        "  \n",
        "    def forward(self, x):\n",
        "        # Implement forward pass of AE network\n",
        "\n",
        "        # encoded = self.encoder(x)\n",
        "        # decoded = self.decoder(encoded)\n",
        "        return decoded"
      ]
    },
    {
      "cell_type": "markdown",
      "metadata": {
        "id": "Buayi317DhFr"
      },
      "source": [
        "## Train LFADS-lite"
      ]
    },
    {
      "cell_type": "code",
      "execution_count": null,
      "metadata": {
        "id": "R5AUPUqSDk5k"
      },
      "outputs": [],
      "source": []
    },
    {
      "cell_type": "markdown",
      "metadata": {
        "id": "ckFupmnsDSI5"
      },
      "source": [
        "## LFADS-lite visualizations"
      ]
    },
    {
      "cell_type": "markdown",
      "metadata": {
        "id": "rTI4WaaVDtCm"
      },
      "source": [
        "### Latent trajectories"
      ]
    },
    {
      "cell_type": "markdown",
      "metadata": {
        "id": "cDYLL9S5DyXz"
      },
      "source": [
        "### Inferred inputs\n"
      ]
    },
    {
      "cell_type": "markdown",
      "metadata": {
        "id": "HEcvWBiMDd_1"
      },
      "source": [
        "## Compare to SAE/AE\n"
      ]
    },
    {
      "cell_type": "code",
      "execution_count": null,
      "metadata": {
        "id": "qohWJX2SD-jG"
      },
      "outputs": [],
      "source": []
    },
    {
      "cell_type": "markdown",
      "metadata": {
        "id": "Tnoyw22SEgs2"
      },
      "source": [
        "# Part 5: Future Directions"
      ]
    },
    {
      "cell_type": "markdown",
      "metadata": {
        "id": "GhVxgDDjEk39"
      },
      "source": [
        "## Interpretability"
      ]
    },
    {
      "cell_type": "markdown",
      "metadata": {
        "id": "Zy87ZCZSEn-l"
      },
      "source": [
        "## Neural Manifolds"
      ]
    }
  ],
  "metadata": {
    "colab": {
      "collapsed_sections": [
        "CbVaWotNFO8J",
        "vQmhREzM7nWT",
        "nin1SlcK7u3L",
        "XWAIxZyO8H4O",
        "mwngCPOM61Qa",
        "hKqbKEMZ-Is8",
        "Kt0PbGIH-PWc",
        "JaUTfFs7_f9L",
        "N5CuDFgU_jsn",
        "gq-b_TJQ_qnN",
        "RHRyjQAy_3yU",
        "GfSnexQsASHU",
        "urjngpbBBEYn",
        "EIAFz70DBTMj",
        "UQ5bRYBDBWEO",
        "UogRPeL2BaeM",
        "6QVv-lLKCD7n",
        "UE6Wb1AmBnpC",
        "EueGuTLIBsG6",
        "kTOMaJtRCdpI",
        "O3c0Ne0yCwhb",
        "Buayi317DhFr",
        "ckFupmnsDSI5",
        "rTI4WaaVDtCm",
        "cDYLL9S5DyXz",
        "HEcvWBiMDd_1",
        "Tnoyw22SEgs2",
        "GhVxgDDjEk39",
        "Zy87ZCZSEn-l"
      ],
      "name": "CVCalTechWorkshop.ipynb",
      "provenance": []
    },
    "kernelspec": {
      "display_name": "Python 3.10.4 ('chenEnv')",
      "language": "python",
      "name": "python3"
    },
    "language_info": {
      "codemirror_mode": {
        "name": "ipython",
        "version": 3
      },
      "file_extension": ".py",
      "mimetype": "text/x-python",
      "name": "python",
      "nbconvert_exporter": "python",
      "pygments_lexer": "ipython3",
      "version": "3.10.4"
    },
    "vscode": {
      "interpreter": {
        "hash": "631d5e3f6bfb40b7f98d2c2258ae180271e53f6250482d9c75ab32e6c827f8e2"
      }
    }
  },
  "nbformat": 4,
  "nbformat_minor": 0
}
